{
 "cells": [
  {
   "cell_type": "markdown",
   "metadata": {},
   "source": [
    "# Logistic Regression IC Benchmark"
   ]
  },
  {
   "cell_type": "code",
   "execution_count": 5,
   "metadata": {},
   "outputs": [],
   "source": [
    "import torch\n",
    "import numpy as np\n",
    "\n",
    "torch.manual_seed(42)\n",
    "np.random.seed(42)"
   ]
  },
  {
   "cell_type": "code",
   "execution_count": 6,
   "metadata": {},
   "outputs": [],
   "source": [
    "from typing import Dict, List, Optional, Tuple\n",
    "import numpy as np\n",
    "import torch\n",
    "from torch import Tensor\n",
    "import torch.distributions as dist\n",
    "import torch.optim as optim\n",
    "import beanmachine.ppl as bm\n",
    "from beanmachine.ppl.model.statistical_model import StatisticalModel\n",
    "from pplbench.PPLBench import PPLBenchPPL\n",
    "\n",
    "\n",
    "import beanmachine.ppl.experimental.inference_compilation.ic_infer as ic_infer\n",
    "\n",
    "StatisticalModel.reset()\n",
    "torch.autograd.set_detect_anomaly(False) \n",
    "\n",
    "\n",
    "class LogisticRegressionModel(object):\n",
    "    def __init__(\n",
    "        self,\n",
    "        N: int,\n",
    "        K: int,\n",
    "        scale_alpha: float,\n",
    "        scale_beta: List[float],\n",
    "        loc_beta: float,\n",
    "        num_samples: int,\n",
    "        num_adaptive_samples: int,\n",
    "        inference_type: str,\n",
    "        X: Tensor,\n",
    "        Y: Tensor,\n",
    "        ic_args: Optional[dict],\n",
    "    ):\n",
    "        self.N = N\n",
    "        self.K = K\n",
    "        self.scale_alpha = scale_alpha\n",
    "        self.scale_beta = scale_beta\n",
    "        self.loc_beta = loc_beta\n",
    "        self.num_samples = num_samples\n",
    "        self.num_adaptive_samples = num_adaptive_samples\n",
    "        self.inference_type = inference_type\n",
    "        self.X = torch.cat((torch.ones((1, N)), X))\n",
    "        self.Y = Y\n",
    "        if self.inference_type == \"ic\":\n",
    "            self.ic = ic_infer.ICInference().compile(\n",
    "                [self.y()],\n",
    "                num_worlds=ic_args[\"num_worlds\"],\n",
    "                optimizer_func=lambda p: optim.Adam(p, lr=ic_args[\"lr\"], weight_decay=ic_args[\"wd\"]),\n",
    "                gmm_num_components=ic_args[\"num_gmm_components\"],\n",
    "            )\n",
    "\n",
    "    @bm.random_variable\n",
    "    def beta(self):\n",
    "        return dist.Normal(\n",
    "            tensor([0.0] + [self.loc_beta] * self.K),\n",
    "            tensor([self.scale_alpha] + self.scale_beta),\n",
    "        )\n",
    "\n",
    "    @bm.random_variable\n",
    "    def y(self):\n",
    "        # Compute X * Beta\n",
    "        beta_ = self.beta().reshape((1, self.beta().shape[0]))\n",
    "        mu = beta_.mm(self.X)\n",
    "        return dist.Bernoulli(logits=mu)\n",
    "\n",
    "    def infer(self):\n",
    "        num_adaptive_samples = self.num_adaptive_samples\n",
    "        dict_y = {self.y(): self.Y}\n",
    "        if self.inference_type == \"mcmc\":\n",
    "            nmc = bm.SingleSiteNewtonianMonteCarlo()\n",
    "            start_time = time.time()\n",
    "            samples = nmc.infer([self.beta()], dict_y, self.num_samples, 1,\n",
    "                               num_adaptive_samples=num_adaptive_samples).get_chain()\n",
    "        elif self.inference_type == \"mcmc-ancestral\":\n",
    "            mh = bm.SingleSiteAncestralMetropolisHastings()\n",
    "            start_time = time.time()\n",
    "            samples = mh.infer([self.beta()], dict_y, self.num_samples, 1,\n",
    "                               num_adaptive_samples=num_adaptive_samples).get_chain()\n",
    "        elif self.inference_type == \"mcmc-rw\":\n",
    "            mh = bm.SingleSiteRandomWalk()\n",
    "            start_time = time.time()\n",
    "            samples = mh.infer([self.beta()], dict_y, self.num_samples, 1,\n",
    "                               num_adaptive_samples=num_adaptive_samples).get_chain()\n",
    "        elif self.inference_type == \"ic\":\n",
    "            start_time = time.time()\n",
    "            samples = self.ic.infer(\n",
    "                queries=[self.beta()],\n",
    "                observations=dict_y,\n",
    "                num_samples=self.num_samples,\n",
    "                num_chains=1,\n",
    "                num_adaptive_samples=num_adaptive_samples).get_chain()\n",
    "        elif self.inference_type == \"vi\":\n",
    "            print(\"ImplementationError; exiting...\")\n",
    "            exit(1)\n",
    "        elapsed_time_sample_beanmachine = time.time() - start_time\n",
    "        return (samples, elapsed_time_sample_beanmachine)\n",
    "\n",
    "\n",
    "class LogisticRegression(PPLBenchPPL):\n",
    "    def obtain_posterior(\n",
    "        self, \n",
    "        data_train: Tuple[np.ndarray, np.ndarray], \n",
    "        args_dict: Dict, \n",
    "        model=None,\n",
    "    ) -> Tuple[List, Dict]:\n",
    "        \"\"\"\n",
    "        Beanmachine impmementation of logisitc regression model.\n",
    "\n",
    "        :param data_train: tuple of np.ndarray (x_train, y_train)\n",
    "        :param args_dict: a dict of model arguments\n",
    "        :returns: samples_beanmachine(list of dict): posterior samples of all parameters\n",
    "        :returns: timing_info(dict): compile_time, inference_time\n",
    "        \"\"\"\n",
    "        # shape of x_train: (num_features, num_samples)\n",
    "        x_train, y_train = data_train\n",
    "        y_train = np.array(y_train, dtype=np.float32)\n",
    "        x_train = np.array(x_train, dtype=np.float32)\n",
    "        x_train = tensor(x_train)\n",
    "        y_train = tensor([tensor(y) for y in y_train])\n",
    "        N = int(x_train.shape[1])\n",
    "        K = int(x_train.shape[0])\n",
    "\n",
    "        alpha_scale = float((args_dict[\"model_args\"])[0])\n",
    "        beta_scale = [float((args_dict[\"model_args\"])[1])] * K\n",
    "        beta_loc = float((args_dict[\"model_args\"])[2])\n",
    "        num_adaptive_samples = args_dict[\"num_adaptive_samples\"]\n",
    "        num_samples = args_dict[\"num_samples_beanmachine_vectorized\"]\n",
    "        inference_type = args_dict[\"inference_type\"]\n",
    "\n",
    "        start_time = time.time()\n",
    "        self.logistic_regression_model = LogisticRegressionModel(\n",
    "            N,\n",
    "            K,\n",
    "            alpha_scale,\n",
    "            beta_scale,\n",
    "            beta_loc,\n",
    "            num_samples,\n",
    "            num_adaptive_samples,\n",
    "            inference_type,\n",
    "            x_train,\n",
    "            y_train,\n",
    "            ic_args=args_dict.get(\"ic\", None),\n",
    "        )\n",
    "        logistic_regression_model = self.logistic_regression_model\n",
    "        elapsed_time_compile_beanmachine = time.time() - start_time\n",
    "        samples, elapsed_time_sample_beanmachine = logistic_regression_model.infer()\n",
    "\n",
    "        # repackage samples into format required by PPLBench\n",
    "        # List of dict, where each dict has key = param (string), value = value of param\n",
    "        param_keys = [\"beta\", \"alpha\"]\n",
    "        samples_formatted = []\n",
    "        for i in range(num_samples):\n",
    "            sample_dict = {}\n",
    "            for j, parameter in enumerate(samples.get_rv_names()):\n",
    "                sample_dict[param_keys[j]] = (\n",
    "                    samples.get_variable(parameter)[i][1:].detach().numpy()\n",
    "                )\n",
    "                sample_dict[param_keys[1]] = (\n",
    "                    samples.get_variable(parameter)[i][0].detach().numpy()\n",
    "                )\n",
    "            samples_formatted.append(sample_dict)\n",
    "\n",
    "        timing_info = {\n",
    "            \"compile_time\": elapsed_time_compile_beanmachine,\n",
    "            \"inference_time\": elapsed_time_sample_beanmachine,\n",
    "        }\n",
    "        return (samples_formatted, timing_info)\n"
   ]
  },
  {
   "cell_type": "code",
   "execution_count": 7,
   "metadata": {},
   "outputs": [],
   "source": [
    "timing_infos = {}\n",
    "posterior_samples = {}\n",
    "posterior_predictive = {}"
   ]
  },
  {
   "cell_type": "markdown",
   "metadata": {},
   "source": [
    "## BM"
   ]
  },
  {
   "cell_type": "code",
   "execution_count": 8,
   "metadata": {},
   "outputs": [
    {
     "name": "stdout",
     "output_type": "stream",
     "text": [
      "Generating data\n",
      "Starting trial 1 of 10\n"
     ]
    },
    {
     "data": {
      "application/vnd.jupyter.widget-view+json": {
       "model_id": "7f3e7878cd524e899d6dae40d8737e0d",
       "version_major": 2,
       "version_minor": 0
      },
      "text/plain": [
       "HBox(children=(FloatProgress(value=0.0, description='Samples collected', max=1100.0, style=ProgressStyle(descr…"
      ]
     },
     "metadata": {},
     "output_type": "display_data"
    },
    {
     "name": "stderr",
     "output_type": "stream",
     "text": [
      "                                             "
     ]
    },
    {
     "name": "stdout",
     "output_type": "stream",
     "text": [
      "\n",
      "Trial 1 complete in 21.141939878463745 seconds.\n",
      " Statistics of  posterior predictive\n",
      " mean:-0.2732903578396039\n",
      " var: 1.4391584775944621\n",
      "Starting trial 2 of 10\n"
     ]
    },
    {
     "name": "stderr",
     "output_type": "stream",
     "text": [
      "\r"
     ]
    },
    {
     "data": {
      "application/vnd.jupyter.widget-view+json": {
       "model_id": "65d6b377be8d4f7394366af1af888de1",
       "version_major": 2,
       "version_minor": 0
      },
      "text/plain": [
       "HBox(children=(FloatProgress(value=0.0, description='Samples collected', max=1100.0, style=ProgressStyle(descr…"
      ]
     },
     "metadata": {},
     "output_type": "display_data"
    },
    {
     "name": "stderr",
     "output_type": "stream",
     "text": [
      "                                             "
     ]
    },
    {
     "name": "stdout",
     "output_type": "stream",
     "text": [
      "\n",
      "Trial 2 complete in 20.924611806869507 seconds.\n",
      " Statistics of  posterior predictive\n",
      " mean:-0.4808312167310067\n",
      " var: 7.4747540172614455\n",
      "Starting trial 3 of 10\n"
     ]
    },
    {
     "name": "stderr",
     "output_type": "stream",
     "text": [
      "\r"
     ]
    },
    {
     "data": {
      "application/vnd.jupyter.widget-view+json": {
       "model_id": "77da934477f743fcaa97f93bf2a49e58",
       "version_major": 2,
       "version_minor": 0
      },
      "text/plain": [
       "HBox(children=(FloatProgress(value=0.0, description='Samples collected', max=1100.0, style=ProgressStyle(descr…"
      ]
     },
     "metadata": {},
     "output_type": "display_data"
    },
    {
     "name": "stderr",
     "output_type": "stream",
     "text": [
      "                                             "
     ]
    },
    {
     "name": "stdout",
     "output_type": "stream",
     "text": [
      "\n",
      "Trial 3 complete in 21.18734073638916 seconds.\n",
      " Statistics of  posterior predictive\n",
      " mean:-0.6734424417388789\n",
      " var: 17.925556394951563\n",
      "Starting trial 4 of 10\n"
     ]
    },
    {
     "name": "stderr",
     "output_type": "stream",
     "text": [
      "\r"
     ]
    },
    {
     "data": {
      "application/vnd.jupyter.widget-view+json": {
       "model_id": "78bfcfc6280a44b2b7c50b6dd0eb4c6e",
       "version_major": 2,
       "version_minor": 0
      },
      "text/plain": [
       "HBox(children=(FloatProgress(value=0.0, description='Samples collected', max=1100.0, style=ProgressStyle(descr…"
      ]
     },
     "metadata": {},
     "output_type": "display_data"
    },
    {
     "name": "stderr",
     "output_type": "stream",
     "text": [
      "                                             "
     ]
    },
    {
     "name": "stdout",
     "output_type": "stream",
     "text": [
      "\n",
      "Trial 4 complete in 21.06873846054077 seconds.\n",
      " Statistics of  posterior predictive\n",
      " mean:-0.507618885907335\n",
      " var: 16.97169301220149\n",
      "Starting trial 5 of 10\n"
     ]
    },
    {
     "name": "stderr",
     "output_type": "stream",
     "text": [
      "\r"
     ]
    },
    {
     "data": {
      "application/vnd.jupyter.widget-view+json": {
       "model_id": "5ce70ec1d50b4566b1f0bf28504f44ca",
       "version_major": 2,
       "version_minor": 0
      },
      "text/plain": [
       "HBox(children=(FloatProgress(value=0.0, description='Samples collected', max=1100.0, style=ProgressStyle(descr…"
      ]
     },
     "metadata": {},
     "output_type": "display_data"
    },
    {
     "name": "stderr",
     "output_type": "stream",
     "text": [
      "                                             "
     ]
    },
    {
     "name": "stdout",
     "output_type": "stream",
     "text": [
      "\n",
      "Trial 5 complete in 21.066503763198853 seconds.\n",
      " Statistics of  posterior predictive\n",
      " mean:-1.3534953270027534\n",
      " var: 43.9667904048313\n",
      "Starting trial 6 of 10\n"
     ]
    },
    {
     "name": "stderr",
     "output_type": "stream",
     "text": [
      "\r"
     ]
    },
    {
     "data": {
      "application/vnd.jupyter.widget-view+json": {
       "model_id": "c0785b58b4694339b18ddea2cf922a81",
       "version_major": 2,
       "version_minor": 0
      },
      "text/plain": [
       "HBox(children=(FloatProgress(value=0.0, description='Samples collected', max=1100.0, style=ProgressStyle(descr…"
      ]
     },
     "metadata": {},
     "output_type": "display_data"
    },
    {
     "name": "stderr",
     "output_type": "stream",
     "text": [
      "                                             "
     ]
    },
    {
     "name": "stdout",
     "output_type": "stream",
     "text": [
      "\n",
      "Trial 6 complete in 21.257529258728027 seconds.\n",
      " Statistics of  posterior predictive\n",
      " mean:-1.4344081478156796e-15\n",
      " var: 4.319942339800794e-29\n",
      "Starting trial 7 of 10\n"
     ]
    },
    {
     "name": "stderr",
     "output_type": "stream",
     "text": [
      "\r"
     ]
    },
    {
     "data": {
      "application/vnd.jupyter.widget-view+json": {
       "model_id": "6cd04c2adfad4d6d953f7e58af7571d5",
       "version_major": 2,
       "version_minor": 0
      },
      "text/plain": [
       "HBox(children=(FloatProgress(value=0.0, description='Samples collected', max=1100.0, style=ProgressStyle(descr…"
      ]
     },
     "metadata": {},
     "output_type": "display_data"
    },
    {
     "name": "stderr",
     "output_type": "stream",
     "text": [
      "                                             "
     ]
    },
    {
     "name": "stdout",
     "output_type": "stream",
     "text": [
      "\n",
      "Trial 7 complete in 20.891330242156982 seconds.\n",
      " Statistics of  posterior predictive\n",
      " mean:-0.28513462426142133\n",
      " var: 2.457987182381641\n",
      "Starting trial 8 of 10\n"
     ]
    },
    {
     "name": "stderr",
     "output_type": "stream",
     "text": [
      "\r"
     ]
    },
    {
     "data": {
      "application/vnd.jupyter.widget-view+json": {
       "model_id": "09278122741d4a7bb63d4202bfe7566f",
       "version_major": 2,
       "version_minor": 0
      },
      "text/plain": [
       "HBox(children=(FloatProgress(value=0.0, description='Samples collected', max=1100.0, style=ProgressStyle(descr…"
      ]
     },
     "metadata": {},
     "output_type": "display_data"
    },
    {
     "name": "stderr",
     "output_type": "stream",
     "text": [
      "                                             "
     ]
    },
    {
     "name": "stdout",
     "output_type": "stream",
     "text": [
      "\n",
      "Trial 8 complete in 21.063618421554565 seconds.\n",
      " Statistics of  posterior predictive\n",
      " mean:-1.6650849588049135\n",
      " var: 57.93819816382357\n",
      "Starting trial 9 of 10\n"
     ]
    },
    {
     "name": "stderr",
     "output_type": "stream",
     "text": [
      "\r"
     ]
    },
    {
     "data": {
      "application/vnd.jupyter.widget-view+json": {
       "model_id": "3f34223b54f14b46ac87f60b2acf9f7f",
       "version_major": 2,
       "version_minor": 0
      },
      "text/plain": [
       "HBox(children=(FloatProgress(value=0.0, description='Samples collected', max=1100.0, style=ProgressStyle(descr…"
      ]
     },
     "metadata": {},
     "output_type": "display_data"
    },
    {
     "name": "stderr",
     "output_type": "stream",
     "text": [
      "                                             "
     ]
    },
    {
     "name": "stdout",
     "output_type": "stream",
     "text": [
      "\n",
      "Trial 9 complete in 21.037628412246704 seconds.\n",
      " Statistics of  posterior predictive\n",
      " mean:-0.2279271283331645\n",
      " var: 4.7026917850786845\n",
      "Starting trial 10 of 10\n"
     ]
    },
    {
     "name": "stderr",
     "output_type": "stream",
     "text": [
      "\r"
     ]
    },
    {
     "data": {
      "application/vnd.jupyter.widget-view+json": {
       "model_id": "1bcab3338a054b7d93be813329a98794",
       "version_major": 2,
       "version_minor": 0
      },
      "text/plain": [
       "HBox(children=(FloatProgress(value=0.0, description='Samples collected', max=1100.0, style=ProgressStyle(descr…"
      ]
     },
     "metadata": {},
     "output_type": "display_data"
    },
    {
     "name": "stderr",
     "output_type": "stream",
     "text": [
      "                                             "
     ]
    },
    {
     "name": "stdout",
     "output_type": "stream",
     "text": [
      "\n",
      "Trial 10 complete in 21.045583248138428 seconds.\n",
      " Statistics of  posterior predictive\n",
      " mean:-0.7547485744188773\n",
      " var: 8.331373992100044\n"
     ]
    },
    {
     "name": "stderr",
     "output_type": "stream",
     "text": [
      "\r"
     ]
    }
   ],
   "source": [
    "import time\n",
    "import numpy as np\n",
    "import pandas as pd\n",
    "\n",
    "import torch\n",
    "import torch.distributions as dist\n",
    "from torch import tensor\n",
    "\n",
    "import pplbench.models.logistic_regression_model as model\n",
    "\n",
    "_model = model\n",
    "\n",
    "args_dict = model.get_defaults()\n",
    "args_dict[\"model_args\"] = [1, 1, 0, 10]\n",
    "args_dict[\"num_adaptive_samples\"] = int(1e3)\n",
    "args_dict[\"trials\"] = 10\n",
    "args_dict[\"plot_data_size\"] = 100\n",
    "args_dict[\"num_samples\"] = 100\n",
    "args_dict[\"ic\"] = {\n",
    "    \"num_worlds\": int(1e3),\n",
    "    \"lr\": 1e-2,\n",
    "    \"wd\": 1e-3,\n",
    "    \"num_gmm_components\": 1,\n",
    "}\n",
    "#args_dict[\"inference_type\"] = \"mcmc\"\n",
    "args_dict[\"num_samples_beanmachine_vectorized\"] = 100\n",
    "\n",
    "model_instance = model.generate_model(args_dict)\n",
    "generated_data = model.generate_data(args_dict=args_dict, model=model_instance)\n",
    "ppl_instance = LogisticRegression()\n",
    "\n",
    "for ppl,inference_type in [\n",
    "    #('BM_IC', 'ic'),\n",
    "    ('BM_ancestral', 'mcmc-ancestral'),\n",
    "    #('BM_rw', 'mcmc-rw'),\n",
    "    #('BM_nmc', 'mcmc'),\n",
    "]:\n",
    "    args_dict[\"inference_type\"] = inference_type\n",
    "    timing_infos[ppl] = [None] * int(args_dict[\"trials\"])\n",
    "    posterior_samples[ppl] = [None] * int(args_dict[\"trials\"])\n",
    "    posterior_predictive[ppl] = [None] * int(args_dict[\"trials\"])\n",
    "    ic = None\n",
    "\n",
    "    # start trial loop\n",
    "    for i in range(int(args_dict[\"trials\"])):\n",
    "        print(\"Starting trial\", i + 1, \"of\", args_dict[\"trials\"])\n",
    "\n",
    "        # obtain posterior samples and timing info\n",
    "        data_train=generated_data[\"data_train\"]\n",
    "        (\n",
    "            posterior_samples[ppl][i],\n",
    "            timing_infos[ppl][i],\n",
    "        ) = ppl_instance.obtain_posterior(data_train, args_dict)\n",
    "\n",
    "        # compute posterior predictive\n",
    "        posterior_predictive[ppl][i] = model.evaluate_posterior_predictive(\n",
    "            samples=posterior_samples[ppl][i].copy(),\n",
    "            data_test=generated_data[\"data_test\"],\n",
    "            model=model_instance,\n",
    "        )\n",
    "        print(\n",
    "            f\"Trial {i + 1} \"\n",
    "            f'complete in {timing_infos[ppl][i][\"inference_time\"]} '\n",
    "            \"seconds.\\n Statistics of  posterior predictive\\n mean:\"\n",
    "            f\"{np.array(posterior_predictive[ppl][i]).mean()}\"\n",
    "            f\"\\n var: {np.array(posterior_predictive[ppl][i]).var()}\"\n",
    "        )"
   ]
  },
  {
   "cell_type": "markdown",
   "metadata": {},
   "source": [
    "## PyStan logistic regression"
   ]
  },
  {
   "cell_type": "code",
   "execution_count": 5,
   "metadata": {},
   "outputs": [],
   "source": [
    "#!python -m pplbench.PPLBench -l stan -m logistic_regression --model-args 1,1,0,10"
   ]
  },
  {
   "cell_type": "markdown",
   "metadata": {},
   "source": [
    "# Compare results"
   ]
  },
  {
   "cell_type": "code",
   "execution_count": 16,
   "metadata": {},
   "outputs": [],
   "source": [
    "#del posterior_predictive['NUTS']"
   ]
  },
  {
   "cell_type": "code",
   "execution_count": 49,
   "metadata": {},
   "outputs": [
    {
     "ename": "KeyError",
     "evalue": "'NUTS'",
     "output_type": "error",
     "traceback": [
      "\u001b[0;31m---------------------------------------------------------------------------\u001b[0m",
      "\u001b[0;31mKeyError\u001b[0m                                  Traceback (most recent call last)",
      "\u001b[0;32m<ipython-input-49-6a997b7ab7db>\u001b[0m in \u001b[0;36m<module>\u001b[0;34m\u001b[0m\n\u001b[1;32m     21\u001b[0m \u001b[0mposterior_samples_subset\u001b[0m \u001b[0;34m=\u001b[0m \u001b[0mPPLBench\u001b[0m\u001b[0;34m.\u001b[0m\u001b[0mget_sample_subset\u001b[0m\u001b[0;34m(\u001b[0m\u001b[0mposterior_predictive\u001b[0m\u001b[0;34m,\u001b[0m \u001b[0margs_dict\u001b[0m\u001b[0;34m)\u001b[0m\u001b[0;34m\u001b[0m\u001b[0;34m\u001b[0m\u001b[0m\n\u001b[1;32m     22\u001b[0m \u001b[0mtrial_info\u001b[0m \u001b[0;34m=\u001b[0m \u001b[0mPPLBench\u001b[0m\u001b[0;34m.\u001b[0m\u001b[0mcompute_trial_statistics\u001b[0m\u001b[0;34m(\u001b[0m\u001b[0mposterior_predictive\u001b[0m\u001b[0;34m)\u001b[0m\u001b[0;34m\u001b[0m\u001b[0;34m\u001b[0m\u001b[0m\n\u001b[0;32m---> 23\u001b[0;31m \u001b[0mtrial_info\u001b[0m \u001b[0;34m=\u001b[0m \u001b[0mPPLBench\u001b[0m\u001b[0;34m.\u001b[0m\u001b[0mcombine_dictionaries\u001b[0m\u001b[0;34m(\u001b[0m\u001b[0mtrial_info\u001b[0m\u001b[0;34m,\u001b[0m \u001b[0mtiming_infos\u001b[0m\u001b[0;34m)\u001b[0m\u001b[0;34m\u001b[0m\u001b[0;34m\u001b[0m\u001b[0m\n\u001b[0m\u001b[1;32m     24\u001b[0m summary_info = PPLBench.compute_summary_statistics(\n\u001b[1;32m     25\u001b[0m     \u001b[0mposterior_predictive\u001b[0m\u001b[0;34m,\u001b[0m \u001b[0mtiming_infos\u001b[0m\u001b[0;34m,\u001b[0m \u001b[0margs_dict\u001b[0m\u001b[0;34m\u001b[0m\u001b[0;34m\u001b[0m\u001b[0m\n",
      "\u001b[0;32m~/work/pplbench/pplbench/PPLBench.py\u001b[0m in \u001b[0;36mcombine_dictionaries\u001b[0;34m(trial_info, timing_info)\u001b[0m\n\u001b[1;32m    138\u001b[0m     \u001b[0;32mfor\u001b[0m \u001b[0mppl\u001b[0m \u001b[0;32min\u001b[0m \u001b[0mtrial_info\u001b[0m\u001b[0;34m:\u001b[0m\u001b[0;34m\u001b[0m\u001b[0;34m\u001b[0m\u001b[0m\n\u001b[1;32m    139\u001b[0m         \u001b[0;32mfor\u001b[0m \u001b[0mtrial\u001b[0m \u001b[0;32min\u001b[0m \u001b[0mtrial_info\u001b[0m\u001b[0;34m[\u001b[0m\u001b[0mppl\u001b[0m\u001b[0;34m]\u001b[0m\u001b[0;34m:\u001b[0m\u001b[0;34m\u001b[0m\u001b[0;34m\u001b[0m\u001b[0m\n\u001b[0;32m--> 140\u001b[0;31m             \u001b[0mtrial_info\u001b[0m\u001b[0;34m[\u001b[0m\u001b[0mppl\u001b[0m\u001b[0;34m]\u001b[0m\u001b[0;34m[\u001b[0m\u001b[0mtrial\u001b[0m\u001b[0;34m]\u001b[0m\u001b[0;34m.\u001b[0m\u001b[0mupdate\u001b[0m\u001b[0;34m(\u001b[0m\u001b[0mtiming_info\u001b[0m\u001b[0;34m[\u001b[0m\u001b[0mppl\u001b[0m\u001b[0;34m]\u001b[0m\u001b[0;34m[\u001b[0m\u001b[0mtrial\u001b[0m\u001b[0;34m]\u001b[0m\u001b[0;34m)\u001b[0m\u001b[0;34m\u001b[0m\u001b[0;34m\u001b[0m\u001b[0m\n\u001b[0m\u001b[1;32m    141\u001b[0m     \u001b[0;32mreturn\u001b[0m \u001b[0mtrial_info\u001b[0m\u001b[0;34m\u001b[0m\u001b[0;34m\u001b[0m\u001b[0m\n\u001b[1;32m    142\u001b[0m \u001b[0;34m\u001b[0m\u001b[0m\n",
      "\u001b[0;31mKeyError\u001b[0m: 'NUTS'"
     ]
    }
   ],
   "source": [
    "import glob\n",
    "import pandas as pd\n",
    "import pickle\n",
    "\n",
    "import seaborn as sns\n",
    "sns.set_style(\"darkgrid\")\n",
    "\n",
    "\n",
    "#most_recent = sorted(glob.glob(\"./outputs/*\"), key=lambda x: x.split(\"/\")[-1])[-1]\n",
    "#most_recent = './outputs/31-08-2020_18:55:09'\n",
    "most_recent = './outputs/29-09-2020_22:10:46'\n",
    "\n",
    "stan_trials = pd.read_csv(f\"{most_recent}/trial_info.csv\")\n",
    "stan_posterior = pd.DataFrame(\n",
    "    pickle.load(open(f\"{most_recent}/posterior_predictives.pkl\", \"rb\"))[\"stan\"]\n",
    ")\n",
    "#sns.catplot(data=stan_posterior, kind=\"box\")\n",
    "\n",
    "from pplbench import PPLBench\n",
    "\n",
    "posterior_samples_subset = PPLBench.get_sample_subset(posterior_predictive, args_dict)\n",
    "trial_info = PPLBench.compute_trial_statistics(posterior_predictive)\n",
    "trial_info = PPLBench.combine_dictionaries(trial_info, timing_infos)\n",
    "summary_info = PPLBench.compute_summary_statistics(\n",
    "    posterior_predictive, timing_infos, args_dict\n",
    ")\n",
    "\n",
    "df = pd.DataFrame([\n",
    "        {\n",
    "            \"ppl\": ppl,\n",
    "            \"posterior_predictive\": trial_val\n",
    "        } \n",
    "    for ppl in (list(posterior_predictive.keys()) + [\"NUTS\"])\n",
    "    for trial in (\n",
    "        {\n",
    "            **posterior_predictive,\n",
    "            **{\"NUTS\": list(stan_posterior.to_numpy())},\n",
    "        }[ppl])\n",
    "    for trial_val in trial\n",
    "])\n",
    "# g = sns.catplot(data=df.melt(\n",
    "#     id_vars=[\"ppl\"],\n",
    "#     value_vars=[\"posterior_predictive\"],\n",
    "# ).sort_values(by=\"ppl\"), col=\"variable\", hue=\"ppl\", x=\"ppl\", y=\"value\", \n",
    "#               sharey=False, kind=\"box\")\n",
    "#g.set(ylim=(-500,0))"
   ]
  },
  {
   "cell_type": "code",
   "execution_count": 22,
   "metadata": {},
   "outputs": [],
   "source": [
    "stan_posterior = pd.DataFrame(\n",
    "    pickle.load(open(f\"{most_recent}/posterior_predictives.pkl\", \"rb\"))[\"stan\"]\n",
    ")\n",
    "posterior_predictive['NUTS'] = list(stan_posterior.to_numpy())"
   ]
  },
  {
   "cell_type": "code",
   "execution_count": 23,
   "metadata": {},
   "outputs": [
    {
     "data": {
      "text/html": [
       "<div>\n",
       "<style scoped>\n",
       "    .dataframe tbody tr th:only-of-type {\n",
       "        vertical-align: middle;\n",
       "    }\n",
       "\n",
       "    .dataframe tbody tr th {\n",
       "        vertical-align: top;\n",
       "    }\n",
       "\n",
       "    .dataframe thead th {\n",
       "        text-align: right;\n",
       "    }\n",
       "</style>\n",
       "<table border=\"1\" class=\"dataframe\">\n",
       "  <thead>\n",
       "    <tr style=\"text-align: right;\">\n",
       "      <th></th>\n",
       "      <th>n_eff</th>\n",
       "      <th>num_unique</th>\n",
       "      <th>compile_time</th>\n",
       "      <th>inference_time</th>\n",
       "      <th>ppl</th>\n",
       "      <th>trial</th>\n",
       "    </tr>\n",
       "  </thead>\n",
       "  <tbody>\n",
       "    <tr>\n",
       "      <th>0</th>\n",
       "      <td>39.553909</td>\n",
       "      <td>10.0</td>\n",
       "      <td>0.001722</td>\n",
       "      <td>21.141940</td>\n",
       "      <td>BM_ancestral</td>\n",
       "      <td>NaN</td>\n",
       "    </tr>\n",
       "    <tr>\n",
       "      <th>1</th>\n",
       "      <td>71.441887</td>\n",
       "      <td>13.0</td>\n",
       "      <td>0.000090</td>\n",
       "      <td>20.924612</td>\n",
       "      <td>BM_ancestral</td>\n",
       "      <td>NaN</td>\n",
       "    </tr>\n",
       "    <tr>\n",
       "      <th>2</th>\n",
       "      <td>100.785667</td>\n",
       "      <td>11.0</td>\n",
       "      <td>0.000132</td>\n",
       "      <td>21.187341</td>\n",
       "      <td>BM_ancestral</td>\n",
       "      <td>NaN</td>\n",
       "    </tr>\n",
       "    <tr>\n",
       "      <th>3</th>\n",
       "      <td>103.195900</td>\n",
       "      <td>11.0</td>\n",
       "      <td>0.000136</td>\n",
       "      <td>21.068738</td>\n",
       "      <td>BM_ancestral</td>\n",
       "      <td>NaN</td>\n",
       "    </tr>\n",
       "    <tr>\n",
       "      <th>4</th>\n",
       "      <td>25.523811</td>\n",
       "      <td>4.0</td>\n",
       "      <td>0.000104</td>\n",
       "      <td>21.066504</td>\n",
       "      <td>BM_ancestral</td>\n",
       "      <td>NaN</td>\n",
       "    </tr>\n",
       "    <tr>\n",
       "      <th>5</th>\n",
       "      <td>25.693787</td>\n",
       "      <td>3.0</td>\n",
       "      <td>0.000148</td>\n",
       "      <td>21.257529</td>\n",
       "      <td>BM_ancestral</td>\n",
       "      <td>NaN</td>\n",
       "    </tr>\n",
       "    <tr>\n",
       "      <th>6</th>\n",
       "      <td>77.447929</td>\n",
       "      <td>12.0</td>\n",
       "      <td>0.000216</td>\n",
       "      <td>20.891330</td>\n",
       "      <td>BM_ancestral</td>\n",
       "      <td>NaN</td>\n",
       "    </tr>\n",
       "    <tr>\n",
       "      <th>7</th>\n",
       "      <td>24.050934</td>\n",
       "      <td>13.0</td>\n",
       "      <td>0.000151</td>\n",
       "      <td>21.063618</td>\n",
       "      <td>BM_ancestral</td>\n",
       "      <td>NaN</td>\n",
       "    </tr>\n",
       "    <tr>\n",
       "      <th>8</th>\n",
       "      <td>102.193962</td>\n",
       "      <td>10.0</td>\n",
       "      <td>0.000236</td>\n",
       "      <td>21.037628</td>\n",
       "      <td>BM_ancestral</td>\n",
       "      <td>NaN</td>\n",
       "    </tr>\n",
       "    <tr>\n",
       "      <th>9</th>\n",
       "      <td>47.185234</td>\n",
       "      <td>10.0</td>\n",
       "      <td>0.000114</td>\n",
       "      <td>21.045583</td>\n",
       "      <td>BM_ancestral</td>\n",
       "      <td>NaN</td>\n",
       "    </tr>\n",
       "    <tr>\n",
       "      <th>0</th>\n",
       "      <td>102.104393</td>\n",
       "      <td>7.0</td>\n",
       "      <td>45.239081</td>\n",
       "      <td>0.075315</td>\n",
       "      <td>NUTS</td>\n",
       "      <td>0.0</td>\n",
       "    </tr>\n",
       "    <tr>\n",
       "      <th>1</th>\n",
       "      <td>82.278168</td>\n",
       "      <td>12.0</td>\n",
       "      <td>45.239081</td>\n",
       "      <td>0.188020</td>\n",
       "      <td>NUTS</td>\n",
       "      <td>1.0</td>\n",
       "    </tr>\n",
       "    <tr>\n",
       "      <th>2</th>\n",
       "      <td>103.695663</td>\n",
       "      <td>12.0</td>\n",
       "      <td>45.239081</td>\n",
       "      <td>0.197690</td>\n",
       "      <td>NUTS</td>\n",
       "      <td>2.0</td>\n",
       "    </tr>\n",
       "    <tr>\n",
       "      <th>3</th>\n",
       "      <td>52.051350</td>\n",
       "      <td>12.0</td>\n",
       "      <td>45.239081</td>\n",
       "      <td>0.087941</td>\n",
       "      <td>NUTS</td>\n",
       "      <td>3.0</td>\n",
       "    </tr>\n",
       "    <tr>\n",
       "      <th>4</th>\n",
       "      <td>29.218540</td>\n",
       "      <td>23.0</td>\n",
       "      <td>45.239081</td>\n",
       "      <td>0.429490</td>\n",
       "      <td>NUTS</td>\n",
       "      <td>4.0</td>\n",
       "    </tr>\n",
       "    <tr>\n",
       "      <th>5</th>\n",
       "      <td>62.023933</td>\n",
       "      <td>16.0</td>\n",
       "      <td>45.239081</td>\n",
       "      <td>0.279163</td>\n",
       "      <td>NUTS</td>\n",
       "      <td>5.0</td>\n",
       "    </tr>\n",
       "    <tr>\n",
       "      <th>6</th>\n",
       "      <td>28.854187</td>\n",
       "      <td>19.0</td>\n",
       "      <td>45.239081</td>\n",
       "      <td>0.090548</td>\n",
       "      <td>NUTS</td>\n",
       "      <td>6.0</td>\n",
       "    </tr>\n",
       "    <tr>\n",
       "      <th>7</th>\n",
       "      <td>49.135590</td>\n",
       "      <td>16.0</td>\n",
       "      <td>45.239081</td>\n",
       "      <td>0.109187</td>\n",
       "      <td>NUTS</td>\n",
       "      <td>7.0</td>\n",
       "    </tr>\n",
       "    <tr>\n",
       "      <th>8</th>\n",
       "      <td>72.488373</td>\n",
       "      <td>7.0</td>\n",
       "      <td>45.239081</td>\n",
       "      <td>0.095866</td>\n",
       "      <td>NUTS</td>\n",
       "      <td>8.0</td>\n",
       "    </tr>\n",
       "    <tr>\n",
       "      <th>9</th>\n",
       "      <td>50.287380</td>\n",
       "      <td>15.0</td>\n",
       "      <td>45.239081</td>\n",
       "      <td>0.063777</td>\n",
       "      <td>NUTS</td>\n",
       "      <td>9.0</td>\n",
       "    </tr>\n",
       "  </tbody>\n",
       "</table>\n",
       "</div>"
      ],
      "text/plain": [
       "        n_eff  num_unique  compile_time  inference_time           ppl  trial\n",
       "0   39.553909        10.0      0.001722       21.141940  BM_ancestral    NaN\n",
       "1   71.441887        13.0      0.000090       20.924612  BM_ancestral    NaN\n",
       "2  100.785667        11.0      0.000132       21.187341  BM_ancestral    NaN\n",
       "3  103.195900        11.0      0.000136       21.068738  BM_ancestral    NaN\n",
       "4   25.523811         4.0      0.000104       21.066504  BM_ancestral    NaN\n",
       "5   25.693787         3.0      0.000148       21.257529  BM_ancestral    NaN\n",
       "6   77.447929        12.0      0.000216       20.891330  BM_ancestral    NaN\n",
       "7   24.050934        13.0      0.000151       21.063618  BM_ancestral    NaN\n",
       "8  102.193962        10.0      0.000236       21.037628  BM_ancestral    NaN\n",
       "9   47.185234        10.0      0.000114       21.045583  BM_ancestral    NaN\n",
       "0  102.104393         7.0     45.239081        0.075315          NUTS    0.0\n",
       "1   82.278168        12.0     45.239081        0.188020          NUTS    1.0\n",
       "2  103.695663        12.0     45.239081        0.197690          NUTS    2.0\n",
       "3   52.051350        12.0     45.239081        0.087941          NUTS    3.0\n",
       "4   29.218540        23.0     45.239081        0.429490          NUTS    4.0\n",
       "5   62.023933        16.0     45.239081        0.279163          NUTS    5.0\n",
       "6   28.854187        19.0     45.239081        0.090548          NUTS    6.0\n",
       "7   49.135590        16.0     45.239081        0.109187          NUTS    7.0\n",
       "8   72.488373         7.0     45.239081        0.095866          NUTS    8.0\n",
       "9   50.287380        15.0     45.239081        0.063777          NUTS    9.0"
      ]
     },
     "execution_count": 23,
     "metadata": {},
     "output_type": "execute_result"
    }
   ],
   "source": [
    "df = pd.DataFrame()\n",
    "for ppl in list(trial_info.keys()) + [\"NUTS\"]:\n",
    "    if ppl == \"NUTS\":\n",
    "        trials = stan_trials\n",
    "    else:\n",
    "        trials = pd.DataFrame(trial_info[ppl]).T\n",
    "    trials[\"ppl\"] = ppl\n",
    "    df = df.append(trials)\n",
    "df"
   ]
  },
  {
   "cell_type": "code",
   "execution_count": 24,
   "metadata": {},
   "outputs": [
    {
     "name": "stderr",
     "output_type": "stream",
     "text": [
      "/opt/conda/lib/python3.7/site-packages/ipykernel_launcher.py:25: SettingWithCopyWarning: \n",
      "A value is trying to be set on a copy of a slice from a DataFrame\n",
      "\n",
      "See the caveats in the documentation: https://pandas.pydata.org/pandas-docs/stable/user_guide/indexing.html#returning-a-view-versus-a-copy\n",
      "/opt/conda/lib/python3.7/site-packages/ipykernel_launcher.py:26: SettingWithCopyWarning: \n",
      "A value is trying to be set on a copy of a slice from a DataFrame\n",
      "\n",
      "See the caveats in the documentation: https://pandas.pydata.org/pandas-docs/stable/user_guide/indexing.html#returning-a-view-versus-a-copy\n"
     ]
    }
   ],
   "source": [
    "import arviz as az\n",
    "\n",
    "\n",
    "df = pd.DataFrame()\n",
    "for ppl in list(trial_info.keys()) + [\"NUTS\"]:\n",
    "    if ppl == \"NUTS\":\n",
    "        trials = stan_trials\n",
    "    else:\n",
    "        trials = pd.DataFrame(trial_info[ppl]).T\n",
    "    trials[\"ppl\"] = ppl\n",
    "    df = df.append(trials)\n",
    "    \n",
    "df = df.sort_values(by='ppl')\n",
    "\n",
    "df['PLL'] = [\n",
    "    torch.logsumexp(torch.tensor(x), 0).item()\n",
    "    for ppl in sorted(posterior_predictive)\n",
    "    for x in posterior_predictive[ppl]\n",
    "]\n",
    "\n",
    "#df = df[df['PLL'] > -0] # filter numerical errors\n",
    "    \n",
    "# move adaptation to compile time\n",
    "percent_burn_in = (args_dict[\"num_adaptive_samples\"] / (args_dict[\"num_samples\"] + args_dict[\"num_adaptive_samples\"]))\n",
    "df[\"compile_time\"][df[\"ppl\"] == \"BM_IC\"] += df[df[\"ppl\"] == \"BM_IC\"][\"inference_time\"] * percent_burn_in\n",
    "df[\"inference_time\"][df[\"ppl\"] == \"BM_IC\"] -= df[df[\"ppl\"] == \"BM_IC\"][\"inference_time\"] * percent_burn_in\n",
    "df[\"efficiency\"] = df[\"n_eff\"] / (df[\"inference_time\"])\n",
    "    \n",
    "melted = df.sort_values(by=\"ppl\").melt(\n",
    "    id_vars=[\"ppl\"],\n",
    "    value_vars=[\"compile_time\", \"inference_time\", \"PLL\"],\n",
    ")\n",
    "ppl_replace = {\n",
    "    'BM_IC': 'LIC',\n",
    "    'BM_nmc': 'NMC',\n",
    "    'BM_rw': 'RWMH',\n",
    "    'BM_ancestral': 'Ancestral',\n",
    "}\n",
    "melted['ppl'] = melted['ppl'].replace(ppl_replace)\n",
    "melted['variable'] = melted['variable'].replace({\n",
    "    'compile_time': 'Compile time (sec)',\n",
    "    'inference_time': 'Inference time (sec)',\n",
    "})"
   ]
  },
  {
   "cell_type": "code",
   "execution_count": 26,
   "metadata": {},
   "outputs": [
    {
     "data": {
      "text/html": [
       "<div>\n",
       "<style scoped>\n",
       "    .dataframe tbody tr th:only-of-type {\n",
       "        vertical-align: middle;\n",
       "    }\n",
       "\n",
       "    .dataframe tbody tr th {\n",
       "        vertical-align: top;\n",
       "    }\n",
       "\n",
       "    .dataframe thead th {\n",
       "        text-align: right;\n",
       "    }\n",
       "</style>\n",
       "<table border=\"1\" class=\"dataframe\">\n",
       "  <thead>\n",
       "    <tr style=\"text-align: right;\">\n",
       "      <th></th>\n",
       "      <th>ppl</th>\n",
       "      <th>variable</th>\n",
       "      <th>value</th>\n",
       "    </tr>\n",
       "  </thead>\n",
       "  <tbody>\n",
       "    <tr>\n",
       "      <th>0</th>\n",
       "      <td>Ancestral</td>\n",
       "      <td>Compile time (sec)</td>\n",
       "      <td>0.001722</td>\n",
       "    </tr>\n",
       "    <tr>\n",
       "      <th>1</th>\n",
       "      <td>Ancestral</td>\n",
       "      <td>Compile time (sec)</td>\n",
       "      <td>0.000090</td>\n",
       "    </tr>\n",
       "    <tr>\n",
       "      <th>2</th>\n",
       "      <td>Ancestral</td>\n",
       "      <td>Compile time (sec)</td>\n",
       "      <td>0.000132</td>\n",
       "    </tr>\n",
       "    <tr>\n",
       "      <th>3</th>\n",
       "      <td>Ancestral</td>\n",
       "      <td>Compile time (sec)</td>\n",
       "      <td>0.000136</td>\n",
       "    </tr>\n",
       "    <tr>\n",
       "      <th>4</th>\n",
       "      <td>Ancestral</td>\n",
       "      <td>Compile time (sec)</td>\n",
       "      <td>0.000114</td>\n",
       "    </tr>\n",
       "    <tr>\n",
       "      <th>5</th>\n",
       "      <td>Ancestral</td>\n",
       "      <td>Compile time (sec)</td>\n",
       "      <td>0.000104</td>\n",
       "    </tr>\n",
       "    <tr>\n",
       "      <th>6</th>\n",
       "      <td>Ancestral</td>\n",
       "      <td>Compile time (sec)</td>\n",
       "      <td>0.000216</td>\n",
       "    </tr>\n",
       "    <tr>\n",
       "      <th>7</th>\n",
       "      <td>Ancestral</td>\n",
       "      <td>Compile time (sec)</td>\n",
       "      <td>0.000151</td>\n",
       "    </tr>\n",
       "    <tr>\n",
       "      <th>8</th>\n",
       "      <td>Ancestral</td>\n",
       "      <td>Compile time (sec)</td>\n",
       "      <td>0.000236</td>\n",
       "    </tr>\n",
       "    <tr>\n",
       "      <th>9</th>\n",
       "      <td>Ancestral</td>\n",
       "      <td>Compile time (sec)</td>\n",
       "      <td>0.000148</td>\n",
       "    </tr>\n",
       "    <tr>\n",
       "      <th>10</th>\n",
       "      <td>NUTS</td>\n",
       "      <td>Compile time (sec)</td>\n",
       "      <td>45.239081</td>\n",
       "    </tr>\n",
       "    <tr>\n",
       "      <th>11</th>\n",
       "      <td>NUTS</td>\n",
       "      <td>Compile time (sec)</td>\n",
       "      <td>45.239081</td>\n",
       "    </tr>\n",
       "    <tr>\n",
       "      <th>12</th>\n",
       "      <td>NUTS</td>\n",
       "      <td>Compile time (sec)</td>\n",
       "      <td>45.239081</td>\n",
       "    </tr>\n",
       "    <tr>\n",
       "      <th>13</th>\n",
       "      <td>NUTS</td>\n",
       "      <td>Compile time (sec)</td>\n",
       "      <td>45.239081</td>\n",
       "    </tr>\n",
       "    <tr>\n",
       "      <th>14</th>\n",
       "      <td>NUTS</td>\n",
       "      <td>Compile time (sec)</td>\n",
       "      <td>45.239081</td>\n",
       "    </tr>\n",
       "    <tr>\n",
       "      <th>15</th>\n",
       "      <td>NUTS</td>\n",
       "      <td>Compile time (sec)</td>\n",
       "      <td>45.239081</td>\n",
       "    </tr>\n",
       "    <tr>\n",
       "      <th>16</th>\n",
       "      <td>NUTS</td>\n",
       "      <td>Compile time (sec)</td>\n",
       "      <td>45.239081</td>\n",
       "    </tr>\n",
       "    <tr>\n",
       "      <th>17</th>\n",
       "      <td>NUTS</td>\n",
       "      <td>Compile time (sec)</td>\n",
       "      <td>45.239081</td>\n",
       "    </tr>\n",
       "    <tr>\n",
       "      <th>18</th>\n",
       "      <td>NUTS</td>\n",
       "      <td>Compile time (sec)</td>\n",
       "      <td>45.239081</td>\n",
       "    </tr>\n",
       "    <tr>\n",
       "      <th>19</th>\n",
       "      <td>NUTS</td>\n",
       "      <td>Compile time (sec)</td>\n",
       "      <td>45.239081</td>\n",
       "    </tr>\n",
       "    <tr>\n",
       "      <th>20</th>\n",
       "      <td>Ancestral</td>\n",
       "      <td>Inference time (sec)</td>\n",
       "      <td>21.141940</td>\n",
       "    </tr>\n",
       "    <tr>\n",
       "      <th>21</th>\n",
       "      <td>Ancestral</td>\n",
       "      <td>Inference time (sec)</td>\n",
       "      <td>20.924612</td>\n",
       "    </tr>\n",
       "    <tr>\n",
       "      <th>22</th>\n",
       "      <td>Ancestral</td>\n",
       "      <td>Inference time (sec)</td>\n",
       "      <td>21.187341</td>\n",
       "    </tr>\n",
       "    <tr>\n",
       "      <th>23</th>\n",
       "      <td>Ancestral</td>\n",
       "      <td>Inference time (sec)</td>\n",
       "      <td>21.068738</td>\n",
       "    </tr>\n",
       "    <tr>\n",
       "      <th>24</th>\n",
       "      <td>Ancestral</td>\n",
       "      <td>Inference time (sec)</td>\n",
       "      <td>21.045583</td>\n",
       "    </tr>\n",
       "    <tr>\n",
       "      <th>25</th>\n",
       "      <td>Ancestral</td>\n",
       "      <td>Inference time (sec)</td>\n",
       "      <td>21.066504</td>\n",
       "    </tr>\n",
       "    <tr>\n",
       "      <th>26</th>\n",
       "      <td>Ancestral</td>\n",
       "      <td>Inference time (sec)</td>\n",
       "      <td>20.891330</td>\n",
       "    </tr>\n",
       "    <tr>\n",
       "      <th>27</th>\n",
       "      <td>Ancestral</td>\n",
       "      <td>Inference time (sec)</td>\n",
       "      <td>21.063618</td>\n",
       "    </tr>\n",
       "    <tr>\n",
       "      <th>28</th>\n",
       "      <td>Ancestral</td>\n",
       "      <td>Inference time (sec)</td>\n",
       "      <td>21.037628</td>\n",
       "    </tr>\n",
       "    <tr>\n",
       "      <th>29</th>\n",
       "      <td>Ancestral</td>\n",
       "      <td>Inference time (sec)</td>\n",
       "      <td>21.257529</td>\n",
       "    </tr>\n",
       "    <tr>\n",
       "      <th>30</th>\n",
       "      <td>NUTS</td>\n",
       "      <td>Inference time (sec)</td>\n",
       "      <td>0.109187</td>\n",
       "    </tr>\n",
       "    <tr>\n",
       "      <th>31</th>\n",
       "      <td>NUTS</td>\n",
       "      <td>Inference time (sec)</td>\n",
       "      <td>0.095866</td>\n",
       "    </tr>\n",
       "    <tr>\n",
       "      <th>32</th>\n",
       "      <td>NUTS</td>\n",
       "      <td>Inference time (sec)</td>\n",
       "      <td>0.075315</td>\n",
       "    </tr>\n",
       "    <tr>\n",
       "      <th>33</th>\n",
       "      <td>NUTS</td>\n",
       "      <td>Inference time (sec)</td>\n",
       "      <td>0.188020</td>\n",
       "    </tr>\n",
       "    <tr>\n",
       "      <th>34</th>\n",
       "      <td>NUTS</td>\n",
       "      <td>Inference time (sec)</td>\n",
       "      <td>0.197690</td>\n",
       "    </tr>\n",
       "    <tr>\n",
       "      <th>35</th>\n",
       "      <td>NUTS</td>\n",
       "      <td>Inference time (sec)</td>\n",
       "      <td>0.087941</td>\n",
       "    </tr>\n",
       "    <tr>\n",
       "      <th>36</th>\n",
       "      <td>NUTS</td>\n",
       "      <td>Inference time (sec)</td>\n",
       "      <td>0.429490</td>\n",
       "    </tr>\n",
       "    <tr>\n",
       "      <th>37</th>\n",
       "      <td>NUTS</td>\n",
       "      <td>Inference time (sec)</td>\n",
       "      <td>0.279163</td>\n",
       "    </tr>\n",
       "    <tr>\n",
       "      <th>38</th>\n",
       "      <td>NUTS</td>\n",
       "      <td>Inference time (sec)</td>\n",
       "      <td>0.090548</td>\n",
       "    </tr>\n",
       "    <tr>\n",
       "      <th>39</th>\n",
       "      <td>NUTS</td>\n",
       "      <td>Inference time (sec)</td>\n",
       "      <td>0.063777</td>\n",
       "    </tr>\n",
       "    <tr>\n",
       "      <th>40</th>\n",
       "      <td>Ancestral</td>\n",
       "      <td>PLL</td>\n",
       "      <td>4.553899</td>\n",
       "    </tr>\n",
       "    <tr>\n",
       "      <th>41</th>\n",
       "      <td>Ancestral</td>\n",
       "      <td>PLL</td>\n",
       "      <td>4.587145</td>\n",
       "    </tr>\n",
       "    <tr>\n",
       "      <th>42</th>\n",
       "      <td>Ancestral</td>\n",
       "      <td>PLL</td>\n",
       "      <td>4.553731</td>\n",
       "    </tr>\n",
       "    <tr>\n",
       "      <th>43</th>\n",
       "      <td>Ancestral</td>\n",
       "      <td>PLL</td>\n",
       "      <td>4.545954</td>\n",
       "    </tr>\n",
       "    <tr>\n",
       "      <th>44</th>\n",
       "      <td>Ancestral</td>\n",
       "      <td>PLL</td>\n",
       "      <td>4.605170</td>\n",
       "    </tr>\n",
       "    <tr>\n",
       "      <th>45</th>\n",
       "      <td>Ancestral</td>\n",
       "      <td>PLL</td>\n",
       "      <td>4.523292</td>\n",
       "    </tr>\n",
       "    <tr>\n",
       "      <th>46</th>\n",
       "      <td>Ancestral</td>\n",
       "      <td>PLL</td>\n",
       "      <td>4.582897</td>\n",
       "    </tr>\n",
       "    <tr>\n",
       "      <th>47</th>\n",
       "      <td>Ancestral</td>\n",
       "      <td>PLL</td>\n",
       "      <td>4.564307</td>\n",
       "    </tr>\n",
       "    <tr>\n",
       "      <th>48</th>\n",
       "      <td>Ancestral</td>\n",
       "      <td>PLL</td>\n",
       "      <td>4.562080</td>\n",
       "    </tr>\n",
       "    <tr>\n",
       "      <th>49</th>\n",
       "      <td>Ancestral</td>\n",
       "      <td>PLL</td>\n",
       "      <td>4.564348</td>\n",
       "    </tr>\n",
       "    <tr>\n",
       "      <th>50</th>\n",
       "      <td>NUTS</td>\n",
       "      <td>PLL</td>\n",
       "      <td>4.587171</td>\n",
       "    </tr>\n",
       "    <tr>\n",
       "      <th>51</th>\n",
       "      <td>NUTS</td>\n",
       "      <td>PLL</td>\n",
       "      <td>4.595124</td>\n",
       "    </tr>\n",
       "    <tr>\n",
       "      <th>52</th>\n",
       "      <td>NUTS</td>\n",
       "      <td>PLL</td>\n",
       "      <td>4.540413</td>\n",
       "    </tr>\n",
       "    <tr>\n",
       "      <th>53</th>\n",
       "      <td>NUTS</td>\n",
       "      <td>PLL</td>\n",
       "      <td>4.575032</td>\n",
       "    </tr>\n",
       "    <tr>\n",
       "      <th>54</th>\n",
       "      <td>NUTS</td>\n",
       "      <td>PLL</td>\n",
       "      <td>4.522602</td>\n",
       "    </tr>\n",
       "    <tr>\n",
       "      <th>55</th>\n",
       "      <td>NUTS</td>\n",
       "      <td>PLL</td>\n",
       "      <td>4.455501</td>\n",
       "    </tr>\n",
       "    <tr>\n",
       "      <th>56</th>\n",
       "      <td>NUTS</td>\n",
       "      <td>PLL</td>\n",
       "      <td>4.537936</td>\n",
       "    </tr>\n",
       "    <tr>\n",
       "      <th>57</th>\n",
       "      <td>NUTS</td>\n",
       "      <td>PLL</td>\n",
       "      <td>4.469909</td>\n",
       "    </tr>\n",
       "    <tr>\n",
       "      <th>58</th>\n",
       "      <td>NUTS</td>\n",
       "      <td>PLL</td>\n",
       "      <td>4.519802</td>\n",
       "    </tr>\n",
       "    <tr>\n",
       "      <th>59</th>\n",
       "      <td>NUTS</td>\n",
       "      <td>PLL</td>\n",
       "      <td>4.591792</td>\n",
       "    </tr>\n",
       "  </tbody>\n",
       "</table>\n",
       "</div>"
      ],
      "text/plain": [
       "          ppl              variable      value\n",
       "0   Ancestral    Compile time (sec)   0.001722\n",
       "1   Ancestral    Compile time (sec)   0.000090\n",
       "2   Ancestral    Compile time (sec)   0.000132\n",
       "3   Ancestral    Compile time (sec)   0.000136\n",
       "4   Ancestral    Compile time (sec)   0.000114\n",
       "5   Ancestral    Compile time (sec)   0.000104\n",
       "6   Ancestral    Compile time (sec)   0.000216\n",
       "7   Ancestral    Compile time (sec)   0.000151\n",
       "8   Ancestral    Compile time (sec)   0.000236\n",
       "9   Ancestral    Compile time (sec)   0.000148\n",
       "10       NUTS    Compile time (sec)  45.239081\n",
       "11       NUTS    Compile time (sec)  45.239081\n",
       "12       NUTS    Compile time (sec)  45.239081\n",
       "13       NUTS    Compile time (sec)  45.239081\n",
       "14       NUTS    Compile time (sec)  45.239081\n",
       "15       NUTS    Compile time (sec)  45.239081\n",
       "16       NUTS    Compile time (sec)  45.239081\n",
       "17       NUTS    Compile time (sec)  45.239081\n",
       "18       NUTS    Compile time (sec)  45.239081\n",
       "19       NUTS    Compile time (sec)  45.239081\n",
       "20  Ancestral  Inference time (sec)  21.141940\n",
       "21  Ancestral  Inference time (sec)  20.924612\n",
       "22  Ancestral  Inference time (sec)  21.187341\n",
       "23  Ancestral  Inference time (sec)  21.068738\n",
       "24  Ancestral  Inference time (sec)  21.045583\n",
       "25  Ancestral  Inference time (sec)  21.066504\n",
       "26  Ancestral  Inference time (sec)  20.891330\n",
       "27  Ancestral  Inference time (sec)  21.063618\n",
       "28  Ancestral  Inference time (sec)  21.037628\n",
       "29  Ancestral  Inference time (sec)  21.257529\n",
       "30       NUTS  Inference time (sec)   0.109187\n",
       "31       NUTS  Inference time (sec)   0.095866\n",
       "32       NUTS  Inference time (sec)   0.075315\n",
       "33       NUTS  Inference time (sec)   0.188020\n",
       "34       NUTS  Inference time (sec)   0.197690\n",
       "35       NUTS  Inference time (sec)   0.087941\n",
       "36       NUTS  Inference time (sec)   0.429490\n",
       "37       NUTS  Inference time (sec)   0.279163\n",
       "38       NUTS  Inference time (sec)   0.090548\n",
       "39       NUTS  Inference time (sec)   0.063777\n",
       "40  Ancestral                   PLL   4.553899\n",
       "41  Ancestral                   PLL   4.587145\n",
       "42  Ancestral                   PLL   4.553731\n",
       "43  Ancestral                   PLL   4.545954\n",
       "44  Ancestral                   PLL   4.605170\n",
       "45  Ancestral                   PLL   4.523292\n",
       "46  Ancestral                   PLL   4.582897\n",
       "47  Ancestral                   PLL   4.564307\n",
       "48  Ancestral                   PLL   4.562080\n",
       "49  Ancestral                   PLL   4.564348\n",
       "50       NUTS                   PLL   4.587171\n",
       "51       NUTS                   PLL   4.595124\n",
       "52       NUTS                   PLL   4.540413\n",
       "53       NUTS                   PLL   4.575032\n",
       "54       NUTS                   PLL   4.522602\n",
       "55       NUTS                   PLL   4.455501\n",
       "56       NUTS                   PLL   4.537936\n",
       "57       NUTS                   PLL   4.469909\n",
       "58       NUTS                   PLL   4.519802\n",
       "59       NUTS                   PLL   4.591792"
      ]
     },
     "execution_count": 26,
     "metadata": {},
     "output_type": "execute_result"
    }
   ],
   "source": [
    "melted_new = melted\n",
    "melted_new"
   ]
  },
  {
   "cell_type": "code",
   "execution_count": 36,
   "metadata": {},
   "outputs": [],
   "source": [
    "melted = pickle.load(open(\"outputs/blr_pll.pkl\", \"rb\"))\n",
    "melted = melted.append(melted_new[melted_new.ppl == 'Ancestral'])\n",
    "melted['variable'] = melted['variable'].replace({\n",
    "    'Compile time': 'Compile time (sec)',\n",
    "    'Inference time': 'Inference time (sec)'\n",
    "})"
   ]
  },
  {
   "cell_type": "code",
   "execution_count": 37,
   "metadata": {},
   "outputs": [
    {
     "data": {
      "image/png": "[encoded data removed]",
      "text/plain": [
       "<Figure size 2550x600 with 3 Axes>"
      ]
     },
     "metadata": {},
     "output_type": "display_data"
    }
   ],
   "source": [
    "import seaborn as sns\n",
    "import pickle\n",
    "sns.set(font_scale=0.7)\n",
    "\n",
    "#pickle.dump(melted, open(\"outputs/blr_pll.pkl\", \"wb\"))\n",
    "#melted = pickle.load(open(\"outputs/blr_pll.pkl\", \"rb\"))\n",
    "g = sns.catplot(data=melted, col=\"variable\", x=\"ppl\", y=\"value\", hue=\"ppl\", sharey=False, kind=\"box\", col_wrap=3)  \n",
    "\n",
    "g.fig.set_size_inches(8.5, 2)\n",
    "g.fig.set_dpi(300)\n",
    "g.fig.tight_layout()\n",
    "g.fig.savefig('blr_pll.pdf', dpi=300)"
   ]
  },
  {
   "cell_type": "code",
   "execution_count": 38,
   "metadata": {},
   "outputs": [],
   "source": [
    "import arviz as az\n",
    "dataset_dict = {}\n",
    "\n",
    "for ppl in list(posterior_samples.keys()):\n",
    "    trials = posterior_samples[ppl]\n",
    "    \n",
    "    data = {}\n",
    "    for i, chains in enumerate(trials):\n",
    "        for j, sample in enumerate(chains):\n",
    "            for var in sample:\n",
    "                if var not in data:\n",
    "                    if sample[var].ndim == 0:\n",
    "                        data[var] = np.zeros((len(trials), len(chains)))\n",
    "                    else:\n",
    "                        data[var] = np.zeros((len(trials), len(chains), sample[var].shape[0]))\n",
    "                data[var][i][j] = sample[var]\n",
    "    dataset_dict[ppl] = az.convert_to_inference_data(data)\n",
    "    dataset_dict[ppl].log_likelihood = az.dict_to_dataset({\n",
    "        ppl:posterior_predictive[ppl]\n",
    "    })"
   ]
  },
  {
   "cell_type": "code",
   "execution_count": 39,
   "metadata": {},
   "outputs": [
    {
     "data": {
      "text/plain": [
       "100"
      ]
     },
     "execution_count": 39,
     "metadata": {},
     "output_type": "execute_result"
    }
   ],
   "source": [
    "len(trials[0])"
   ]
  },
  {
   "cell_type": "code",
   "execution_count": 40,
   "metadata": {},
   "outputs": [
    {
     "data": {
      "text/plain": [
       "1"
      ]
     },
     "execution_count": 40,
     "metadata": {},
     "output_type": "execute_result"
    }
   ],
   "source": [
    "trials[0][0]['alpha'].size"
   ]
  },
  {
   "cell_type": "code",
   "execution_count": 41,
   "metadata": {},
   "outputs": [],
   "source": [
    "trials = pickle.load(open(f\"{most_recent}/posterior_samples.pkl\", \"rb\"))['stan']\n",
    "data = {}\n",
    "for i, chains in enumerate(trials):\n",
    "        for j, sample in enumerate(chains):\n",
    "            for var in sample:\n",
    "                if var not in data:\n",
    "                    if sample[var].size == 1:\n",
    "                        data[var] = np.zeros((len(trials), len(chains)))\n",
    "                    else:\n",
    "                        data[var] = np.zeros((len(trials), len(chains), sample[var].shape[1]))\n",
    "                data[var][i][j] = sample[var]\n",
    "ppl = 'NUTS'\n",
    "dataset_dict[ppl] = az.convert_to_inference_data(data)\n",
    "# dataset_dict[ppl].log_likelihood = az.dict_to_dataset({\n",
    "#     ppl:posterior_predictive[ppl]\n",
    "# })"
   ]
  },
  {
   "cell_type": "code",
   "execution_count": 44,
   "metadata": {},
   "outputs": [],
   "source": [
    "melted = pd.concat([\n",
    "    pd.concat([pd.DataFrame({\n",
    "        'ESS': filter(lambda x: x < 1e4, np.hstack([az.ess(dataset_dict[ppl])['alpha'].values, az.ess(dataset_dict[ppl])['beta'].values])),\n",
    "        'ppl': ppl\n",
    "    }) for ppl in sorted(set(df.ppl))]).melt(id_vars=['ppl'], value_vars=['ESS']),\n",
    "    pd.concat([pd.DataFrame({\n",
    "        'Rhat': filter(lambda x: x < 1e4, np.hstack([az.rhat(dataset_dict[ppl])['alpha'].values, az.rhat(dataset_dict[ppl])['beta'].values])),\n",
    "        'ppl': ppl\n",
    "    }) for ppl in sorted(set(df.ppl))]).melt(id_vars=['ppl'], value_vars=['Rhat'])\n",
    "])\n",
    "melted['ppl'] = melted['ppl'].replace(ppl_replace)"
   ]
  },
  {
   "cell_type": "code",
   "execution_count": 47,
   "metadata": {},
   "outputs": [],
   "source": [
    "melted_new = melted[melted.ppl == 'Ancestral']"
   ]
  },
  {
   "cell_type": "code",
   "execution_count": 48,
   "metadata": {},
   "outputs": [
    {
     "data": {
      "image/png": "[encoded data removed]",
      "text/plain": [
       "<Figure size 1700x600 with 2 Axes>"
      ]
     },
     "metadata": {},
     "output_type": "display_data"
    }
   ],
   "source": [
    "import pickle\n",
    "import seaborn as sns\n",
    "#pickle.dump(melted, open(\"outputs/blr_ess.pkl\", \"wb\"))\n",
    "melted = pickle.load(open(\"outputs/blr_ess.pkl\", \"rb\"))\n",
    "melted = melted.append(melted_new)\n",
    "g = sns.catplot(data=melted, col=\"variable\", x=\"ppl\", y=\"value\", hue=\"ppl\", sharey=False, kind=\"box\")    \n",
    "\n",
    "g.fig.set_size_inches(8.5*2/3, 2)\n",
    "g.fig.set_dpi(300)\n",
    "g.fig.tight_layout()\n",
    "g.fig.savefig('blr_ess_rhat.pdf', dpi=300)"
   ]
  },
  {
   "cell_type": "code",
   "execution_count": null,
   "metadata": {},
   "outputs": [],
   "source": []
  }
 ],
 "metadata": {
  "kernelspec": {
   "display_name": "Python 3",
   "language": "python",
   "name": "python3"
  },
  "language_info": {
   "codemirror_mode": {
    "name": "ipython",
    "version": 3
   },
   "file_extension": ".py",
   "mimetype": "text/x-python",
   "name": "python",
   "nbconvert_exporter": "python",
   "pygments_lexer": "ipython3",
   "version": "3.7.8"
  }
 },
 "nbformat": 4,
 "nbformat_minor": 4
}
