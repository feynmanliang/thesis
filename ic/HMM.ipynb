{
 "cells": [
  {
   "cell_type": "code",
   "execution_count": 1,
   "metadata": {},
   "outputs": [],
   "source": [
    "# Copyright(C) Facebook, Inc. and its affiliates. All Rights Reserved.\n",
    "\n",
    "import time\n",
    "from typing import Dict, List, Optional, Tuple\n",
    "\n",
    "import beanmachine.ppl as bm\n",
    "import torch\n",
    "import torch.distributions as dist\n",
    "import torch.optim as optim\n",
    "from torch import Tensor, tensor\n",
    "\n",
    "from pplbench.PPLBench import PPLBenchPPL\n",
    "import beanmachine.ppl.experimental.inference_compilation.ic_infer as ic_infer\n",
    "\n",
    "class HiddenMarkovModel(object):\n",
    "    def __init__(\n",
    "        self,\n",
    "        N: int,\n",
    "        K: int,\n",
    "        observations: List,\n",
    "        num_samples: int,\n",
    "        concentration: float,\n",
    "        mu_loc: float,\n",
    "        mu_scale: float,\n",
    "        sigma_shape: float,\n",
    "        sigma_rate: float,\n",
    "        model: Optional[Tensor],\n",
    "        inference_type: Optional[str],\n",
    "        ic_args: Optional[dict],\n",
    "    ) -> None:\n",
    "        self.observations = observations\n",
    "        self.N = N\n",
    "        self.K = K\n",
    "        self.num_samples = num_samples\n",
    "\n",
    "        self.concentration: float = concentration\n",
    "        self.mu_loc = mu_loc\n",
    "        self.mu_scale = mu_scale\n",
    "        self.sigma_shape = sigma_shape\n",
    "        self.sigma_rate = sigma_rate\n",
    "        self.model = model\n",
    "        self.inference_type = inference_type\n",
    "        if self.inference_type == \"ic\":\n",
    "            self.ic = ic_infer.ICInference().compile(\n",
    "                [self.X(0)] + [\n",
    "                    self.Y(n) for n in range(self.N)\n",
    "                ] + (([\n",
    "                    self.Theta(k) for k in range(self.K)\n",
    "                ] + [\n",
    "                    self.Mu(k) for k in range(self.K)\n",
    "                ] + [\n",
    "                    self.Sigma(k) for k in range(self.K)\n",
    "                ]) if self.model else []),\n",
    "                num_worlds=ic_args[\"num_worlds\"],\n",
    "                optimizer_func=lambda p: optim.Adam(p, lr=ic_args[\"lr\"], weight_decay=ic_args[\"wd\"])\n",
    "            )\n",
    "\n",
    "    @bm.random_variable\n",
    "    def Theta(self, k):\n",
    "        return dist.Dirichlet(torch.ones(self.K) * self.concentration / self.K)\n",
    "\n",
    "    @bm.random_variable\n",
    "    def Mu(self, k):\n",
    "        return dist.Normal(self.mu_loc, self.mu_scale)\n",
    "\n",
    "    @bm.random_variable\n",
    "    def Sigma(self, k):\n",
    "        return dist.Gamma(self.sigma_shape, self.sigma_rate)\n",
    "\n",
    "    # Hidden states\n",
    "    @bm.random_variable\n",
    "    def X(self, n: int):\n",
    "        if n == 0:\n",
    "            return dist.Categorical(tensor([1.0] + [0.0] * (self.K - 1)))\n",
    "        else:\n",
    "            return dist.Categorical(self.Theta(self.X(n - 1).item()))\n",
    "\n",
    "    # Noisy observations/emissions\n",
    "    @bm.random_variable\n",
    "    def Y(self, n: int):\n",
    "        return dist.Normal(self.Mu(self.X(n).item()), self.Sigma(self.X(n).item()))\n",
    "\n",
    "    def infer(self):\n",
    "        queries = [self.X(self.N - 1)]\n",
    "        if not self.model:\n",
    "            queries += (\n",
    "                [self.Theta(k) for k in range(self.K)]\n",
    "                + [self.Mu(k) for k in range(self.K)]\n",
    "                + [self.Sigma(k) for k in range(self.K)]\n",
    "            )\n",
    "\n",
    "        observations_dict = {self.Y(n): self.observations[n] for n in range(self.N)}\n",
    "        observations_dict.update({self.X(0): tensor(0.0)})\n",
    "        if self.model:\n",
    "            observations_dict.update(\n",
    "                {self.Theta(k): self.model[\"theta\"][k] for k in range(self.K)}\n",
    "            )\n",
    "            observations_dict.update(\n",
    "                {self.Mu(k): self.model[\"mus\"][k] for k in range(self.K)}\n",
    "            )\n",
    "            observations_dict.update(\n",
    "                {self.Sigma(k): self.model[\"sigmas\"][k] for k in range(self.K)}\n",
    "            )\n",
    "        observations_dict = dict(observations_dict)\n",
    "\n",
    "        start_time = time.time()\n",
    "        if self.inference_type == \"mcmc\":\n",
    "            mh = bm.CompositionalInference()\n",
    "            inferred = mh.infer(queries, observations_dict, self.num_samples, num_chains=1)\n",
    "        elif self.inference_type == \"mcmc-uniform\":\n",
    "            mh = bm.SingleSiteUniformMetropolisHastings()\n",
    "            inferred = mh.infer(queries, observations_dict, self.num_samples, num_chains=1)\n",
    "        elif self.inference_type == \"ic\":\n",
    "            inferred = self.ic.infer(\n",
    "                queries=queries,\n",
    "                observations=observations_dict,\n",
    "                num_samples=self.num_samples,\n",
    "                num_chains=1)\n",
    "        elapsed_time_sample_beanmachine = time.time() - start_time\n",
    "\n",
    "        if self.model:\n",
    "            samples = inferred.get_chain()[self.X(self.N - 1)].detach().numpy()\n",
    "\n",
    "        else:\n",
    "            # Return as a tuple of: thetas, mus, sigmas, xNs\n",
    "            samples = (\n",
    "                [\n",
    "                    inferred.get_chain()[self.Theta(k)].detach().numpy()\n",
    "                    for k in range(self.K)\n",
    "                ],\n",
    "                [\n",
    "                    inferred.get_chain()[self.Mu(k)].detach().numpy()\n",
    "                    for k in range(self.K)\n",
    "                ],\n",
    "                [\n",
    "                    inferred.get_chain()[self.Sigma(k)].detach().numpy()\n",
    "                    for k in range(self.K)\n",
    "                ],\n",
    "                inferred.get_chain()[self.X(self.N - 1)].detach().numpy(),\n",
    "            )\n",
    "        return (samples, elapsed_time_sample_beanmachine)\n",
    "\n",
    "\n",
    "class HiddenMarkov(PPLBenchPPL):\n",
    "    def obtain_posterior(\n",
    "        self, data_train: List, args_dict: Dict, model: Optional[Tensor]\n",
    "    ) -> Tuple[List, Dict]:\n",
    "        \"\"\"\n",
    "        Beanmachine impmementation of HMM prediction.\n",
    "\n",
    "        :param data_train:\n",
    "        :param args_dict: a dict of model arguments\n",
    "        :returns: samples_beanmachine(dict): posterior samples of all parameters\n",
    "        :returns: timing_info(dict): compile_time, inference_time\n",
    "        \"\"\"\n",
    "        concentration, mu_loc, mu_scale, sigma_shape, sigma_rate, observe_model = list(\n",
    "            map(float, args_dict[\"model_args\"])\n",
    "        )\n",
    "        N = int(args_dict[\"n\"])\n",
    "        K = int(args_dict[\"k\"])\n",
    "        num_samples = int(args_dict[\"num_samples\"])\n",
    "        if not observe_model:\n",
    "            model = None\n",
    "\n",
    "        start_time = time.time()\n",
    "        # hmm = HiddenMarkovModel(N, K, theta, sigma, data_train, num_samples)\n",
    "        hmm = HiddenMarkovModel(\n",
    "            N,\n",
    "            K,\n",
    "            data_train,\n",
    "            num_samples,\n",
    "            concentration,\n",
    "            mu_loc,\n",
    "            mu_scale,\n",
    "            sigma_shape,\n",
    "            sigma_rate,\n",
    "            model,\n",
    "            inference_type=args_dict[\"inference_type\"],\n",
    "            ic_args=args_dict[\"ic\"],\n",
    "        )\n",
    "        elapsed_time_compile_beanmachine = time.time() - start_time\n",
    "\n",
    "        samples, elapsed_time_sample_beanmachine = hmm.infer()\n",
    "\n",
    "        # repackage samples into shape required by PPLBench\n",
    "        xn1str = \"X[\" + str(N - 1) + \"]\"\n",
    "        if observe_model:\n",
    "            samples_formatted = [{xn1str: xn1} for xn1 in samples]\n",
    "\n",
    "        else:\n",
    "            thetas, mus, sigmas, xn1s = samples\n",
    "            # Want to swap the way these are ordered, so we can iterate through.\n",
    "            thetas = [[thetasK[i] for thetasK in thetas] for i in range(num_samples)]\n",
    "            mus = [[musK[i] for musK in mus] for i in range(num_samples)]\n",
    "            sigmas = [[sigmasK[i] for sigmasK in sigmas] for i in range(num_samples)]\n",
    "            # Now, e.g., thetas[i] gives the 'i'th\n",
    "            # MCMC sample of theta[0 .. K] as a list\n",
    "\n",
    "            samples_formatted = [\n",
    "                {\"theta\": theta, \"mus\": mu, \"sigmas\": sigma, xn1str: xn1}\n",
    "                for theta, mu, sigma, xn1 in zip(thetas, mus, sigmas, xn1s)\n",
    "            ]\n",
    "\n",
    "        timing_info = {\n",
    "            \"compile_time\": elapsed_time_compile_beanmachine,\n",
    "            \"inference_time\": elapsed_time_sample_beanmachine,\n",
    "        }\n",
    "        return (samples_formatted, timing_info)\n"
   ]
  },
  {
   "cell_type": "code",
   "execution_count": 2,
   "metadata": {},
   "outputs": [],
   "source": [
    "timing_infos = {}\n",
    "posterior_samples = {}\n",
    "posterior_predictive = {}"
   ]
  },
  {
   "cell_type": "code",
   "execution_count": 3,
   "metadata": {},
   "outputs": [
    {
     "name": "stdout",
     "output_type": "stream",
     "text": [
      "Generating data\n",
      "Starting trial 1 of 5\n"
     ]
    },
    {
     "data": {
      "application/vnd.jupyter.widget-view+json": {
       "model_id": "ac9ecfd93ea8495daf5d07295d7fd78b",
       "version_major": 2,
       "version_minor": 0
      },
      "text/plain": [
       "HBox(children=(FloatProgress(value=0.0, description='Samples collected', style=ProgressStyle(description_width…"
      ]
     },
     "metadata": {},
     "output_type": "display_data"
    },
    {
     "name": "stdout",
     "output_type": "stream",
     "text": [
      "\n",
      "Trial 1 complete in 7.247365236282349 seconds.\n",
      " Statistics of  posterior predictive\n",
      " mean:0.6439247727394104\n",
      " var: 3.552713678800501e-15\n",
      "Starting trial 2 of 5\n"
     ]
    },
    {
     "data": {
      "application/vnd.jupyter.widget-view+json": {
       "model_id": "05a8b28160304f5083fe46d55695428a",
       "version_major": 2,
       "version_minor": 0
      },
      "text/plain": [
       "HBox(children=(FloatProgress(value=0.0, description='Samples collected', style=ProgressStyle(description_width…"
      ]
     },
     "metadata": {},
     "output_type": "display_data"
    },
    {
     "name": "stdout",
     "output_type": "stream",
     "text": [
      "\n",
      "Trial 2 complete in 7.222901821136475 seconds.\n",
      " Statistics of  posterior predictive\n",
      " mean:0.6439247727394104\n",
      " var: 3.552713678800501e-15\n",
      "Starting trial 3 of 5\n"
     ]
    },
    {
     "data": {
      "application/vnd.jupyter.widget-view+json": {
       "model_id": "d2afe13f58a94df98d9a1f53f7b69673",
       "version_major": 2,
       "version_minor": 0
      },
      "text/plain": [
       "HBox(children=(FloatProgress(value=0.0, description='Samples collected', style=ProgressStyle(description_width…"
      ]
     },
     "metadata": {},
     "output_type": "display_data"
    },
    {
     "name": "stdout",
     "output_type": "stream",
     "text": [
      "\n",
      "Trial 3 complete in 7.170017242431641 seconds.\n",
      " Statistics of  posterior predictive\n",
      " mean:0.6439247727394104\n",
      " var: 3.552713678800501e-15\n",
      "Starting trial 4 of 5\n"
     ]
    },
    {
     "data": {
      "application/vnd.jupyter.widget-view+json": {
       "model_id": "eb01480dd9124d2c8d2c9eecca960e75",
       "version_major": 2,
       "version_minor": 0
      },
      "text/plain": [
       "HBox(children=(FloatProgress(value=0.0, description='Samples collected', style=ProgressStyle(description_width…"
      ]
     },
     "metadata": {},
     "output_type": "display_data"
    },
    {
     "name": "stdout",
     "output_type": "stream",
     "text": [
      "\n",
      "Trial 4 complete in 7.178408861160278 seconds.\n",
      " Statistics of  posterior predictive\n",
      " mean:0.6095283627510071\n",
      " var: 0.1171281561255455\n",
      "Starting trial 5 of 5\n"
     ]
    },
    {
     "data": {
      "application/vnd.jupyter.widget-view+json": {
       "model_id": "67d38ab0c6df4827acd9cfd8fb007fcd",
       "version_major": 2,
       "version_minor": 0
      },
      "text/plain": [
       "HBox(children=(FloatProgress(value=0.0, description='Samples collected', style=ProgressStyle(description_width…"
      ]
     },
     "metadata": {},
     "output_type": "display_data"
    },
    {
     "name": "stdout",
     "output_type": "stream",
     "text": [
      "\n",
      "Trial 5 complete in 7.1932361125946045 seconds.\n",
      " Statistics of  posterior predictive\n",
      " mean:0.6439247727394104\n",
      " var: 3.552713678800501e-15\n"
     ]
    }
   ],
   "source": [
    "import time\n",
    "import numpy as np\n",
    "import pandas as pd\n",
    "\n",
    "import torch\n",
    "import torch.distributions as dist\n",
    "from torch import tensor\n",
    "\n",
    "import pplbench.models.hidden_markov_model as model\n",
    "\n",
    "_model = model\n",
    "\n",
    "args_dict = model.get_defaults()\n",
    "args_dict[\"trials\"] = 5\n",
    "args_dict[\"plot_data_size\"] = 100\n",
    "args_dict[\"num_samples\"] = 100\n",
    "args_dict[\"num_samples_beanmachine_vectorized\"] = 100\n",
    "#args_dict[\"inference_type\"] = \"ic\"\n",
    "args_dict[\"inference_type\"] = \"mcmc\"\n",
    "args_dict[\"ic\"] = None\n",
    "\n",
    "model_instance = model.generate_model(args_dict)\n",
    "generated_data = model.generate_data(args_dict=args_dict, model=model_instance)\n",
    "ppl_instance = HiddenMarkov()\n",
    "\n",
    "ppl = 'BM_NMC'\n",
    "timing_infos[ppl] = [None] * int(args_dict[\"trials\"])\n",
    "posterior_samples[ppl] = [None] * int(args_dict[\"trials\"])\n",
    "posterior_predictive[ppl] = [None] * int(args_dict[\"trials\"])\n",
    "ic = None\n",
    "# start trial loop\n",
    "for i in range(int(args_dict[\"trials\"])):\n",
    "    print(\"Starting trial\", i + 1, \"of\", args_dict[\"trials\"])\n",
    "    \n",
    "    # obtain posterior samples and timing info\n",
    "    data_train=generated_data[\"data_train\"]\n",
    "    (\n",
    "        posterior_samples[ppl][i],\n",
    "        timing_infos[ppl][i],\n",
    "    ) = ppl_instance.obtain_posterior(data_train, args_dict,model=model_instance)\n",
    "    \n",
    "    # compute posterior predictive\n",
    "    posterior_predictive[ppl][i] = model.evaluate_posterior_predictive(\n",
    "        samples=posterior_samples[ppl][i].copy(),\n",
    "        data_test=generated_data[\"data_test\"],\n",
    "        model=model_instance,\n",
    "    )\n",
    "    print(\n",
    "        f\"Trial {i + 1} \"\n",
    "        f'complete in {timing_infos[ppl][i][\"inference_time\"]} '\n",
    "        \"seconds.\\n Statistics of  posterior predictive\\n mean:\"\n",
    "        f\"{np.array(posterior_predictive[ppl][i]).mean()}\"\n",
    "        f\"\\n var: {np.array(posterior_predictive[ppl][i]).var()}\"\n",
    "    )"
   ]
  },
  {
   "cell_type": "code",
   "execution_count": 4,
   "metadata": {},
   "outputs": [
    {
     "name": "stdout",
     "output_type": "stream",
     "text": [
      "Generating data\n",
      "Starting trial 1 of 5\n"
     ]
    },
    {
     "data": {
      "application/vnd.jupyter.widget-view+json": {
       "model_id": "aa9feb9f91f94687a846f550ce0e2e6e",
       "version_major": 2,
       "version_minor": 0
      },
      "text/plain": [
       "HBox(children=(FloatProgress(value=0.0, description='Samples collected', style=ProgressStyle(description_width…"
      ]
     },
     "metadata": {},
     "output_type": "display_data"
    },
    {
     "name": "stdout",
     "output_type": "stream",
     "text": [
      "\n",
      "Trial 1 complete in 7.372642755508423 seconds.\n",
      " Statistics of  posterior predictive\n",
      " mean:-1.946231484413147\n",
      " var: 1.4210854715202004e-14\n",
      "Starting trial 2 of 5\n"
     ]
    },
    {
     "data": {
      "application/vnd.jupyter.widget-view+json": {
       "model_id": "31dfa6093e99404caeb4a6478aa10aee",
       "version_major": 2,
       "version_minor": 0
      },
      "text/plain": [
       "HBox(children=(FloatProgress(value=0.0, description='Samples collected', style=ProgressStyle(description_width…"
      ]
     },
     "metadata": {},
     "output_type": "display_data"
    },
    {
     "name": "stdout",
     "output_type": "stream",
     "text": [
      "\n",
      "Trial 2 complete in 7.340271711349487 seconds.\n",
      " Statistics of  posterior predictive\n",
      " mean:-2.017906665802002\n",
      " var: 5.684341886080802e-14\n",
      "Starting trial 3 of 5\n"
     ]
    },
    {
     "data": {
      "application/vnd.jupyter.widget-view+json": {
       "model_id": "fec9469a9dc748f4945db054792a54c7",
       "version_major": 2,
       "version_minor": 0
      },
      "text/plain": [
       "HBox(children=(FloatProgress(value=0.0, description='Samples collected', style=ProgressStyle(description_width…"
      ]
     },
     "metadata": {},
     "output_type": "display_data"
    },
    {
     "name": "stdout",
     "output_type": "stream",
     "text": [
      "\n",
      "Trial 3 complete in 7.313391447067261 seconds.\n",
      " Statistics of  posterior predictive\n",
      " mean:-2.1477413177490234\n",
      " var: 0.03752060607075691\n",
      "Starting trial 4 of 5\n"
     ]
    },
    {
     "data": {
      "application/vnd.jupyter.widget-view+json": {
       "model_id": "b2fccd528f814a42b1282d56af80436c",
       "version_major": 2,
       "version_minor": 0
      },
      "text/plain": [
       "HBox(children=(FloatProgress(value=0.0, description='Samples collected', style=ProgressStyle(description_width…"
      ]
     },
     "metadata": {},
     "output_type": "display_data"
    },
    {
     "name": "stdout",
     "output_type": "stream",
     "text": [
      "\n",
      "Trial 4 complete in 7.1349804401397705 seconds.\n",
      " Statistics of  posterior predictive\n",
      " mean:-2.017906665802002\n",
      " var: 5.684341886080802e-14\n",
      "Starting trial 5 of 5\n"
     ]
    },
    {
     "data": {
      "application/vnd.jupyter.widget-view+json": {
       "model_id": "a075ef18c0494bdfbaef0e77520fbf61",
       "version_major": 2,
       "version_minor": 0
      },
      "text/plain": [
       "HBox(children=(FloatProgress(value=0.0, description='Samples collected', style=ProgressStyle(description_width…"
      ]
     },
     "metadata": {},
     "output_type": "display_data"
    },
    {
     "name": "stdout",
     "output_type": "stream",
     "text": [
      "\n",
      "Trial 5 complete in 7.3141770362854 seconds.\n",
      " Statistics of  posterior predictive\n",
      " mean:-2.017906665802002\n",
      " var: 5.684341886080802e-14\n"
     ]
    }
   ],
   "source": [
    "import time\n",
    "import numpy as np\n",
    "import pandas as pd\n",
    "\n",
    "import torch\n",
    "import torch.distributions as dist\n",
    "from torch import tensor\n",
    "\n",
    "import pplbench.models.hidden_markov_model as model\n",
    "\n",
    "_model = model\n",
    "\n",
    "args_dict = model.get_defaults()\n",
    "args_dict[\"trials\"] = 5\n",
    "args_dict[\"plot_data_size\"] = 100\n",
    "args_dict[\"num_samples\"] = 100\n",
    "args_dict[\"num_samples_beanmachine_vectorized\"] = 100\n",
    "#args_dict[\"inference_type\"] = \"ic\"\n",
    "args_dict[\"inference_type\"] = \"mcmc-uniform\"\n",
    "args_dict[\"ic\"] = None\n",
    "\n",
    "model_instance = model.generate_model(args_dict)\n",
    "generated_data = model.generate_data(args_dict=args_dict, model=model_instance)\n",
    "ppl_instance = HiddenMarkov()\n",
    "\n",
    "ppl = 'BM_uniform'\n",
    "timing_infos[ppl] = [None] * int(args_dict[\"trials\"])\n",
    "posterior_samples[ppl] = [None] * int(args_dict[\"trials\"])\n",
    "posterior_predictive[ppl] = [None] * int(args_dict[\"trials\"])\n",
    "ic = None\n",
    "# start trial loop\n",
    "for i in range(int(args_dict[\"trials\"])):\n",
    "    print(\"Starting trial\", i + 1, \"of\", args_dict[\"trials\"])\n",
    "    \n",
    "    # obtain posterior samples and timing info\n",
    "    data_train=generated_data[\"data_train\"]\n",
    "    (\n",
    "        posterior_samples[ppl][i],\n",
    "        timing_infos[ppl][i],\n",
    "    ) = ppl_instance.obtain_posterior(data_train, args_dict,model=model_instance)\n",
    "    \n",
    "    # compute posterior predictive\n",
    "    posterior_predictive[ppl][i] = model.evaluate_posterior_predictive(\n",
    "        samples=posterior_samples[ppl][i].copy(),\n",
    "        data_test=generated_data[\"data_test\"],\n",
    "        model=model_instance,\n",
    "    )\n",
    "    print(\n",
    "        f\"Trial {i + 1} \"\n",
    "        f'complete in {timing_infos[ppl][i][\"inference_time\"]} '\n",
    "        \"seconds.\\n Statistics of  posterior predictive\\n mean:\"\n",
    "        f\"{np.array(posterior_predictive[ppl][i]).mean()}\"\n",
    "        f\"\\n var: {np.array(posterior_predictive[ppl][i]).var()}\"\n",
    "    )"
   ]
  },
  {
   "cell_type": "code",
   "execution_count": 5,
   "metadata": {},
   "outputs": [
    {
     "name": "stdout",
     "output_type": "stream",
     "text": [
      "Generating data\n",
      "Starting trial 1 of 5\n"
     ]
    },
    {
     "data": {
      "application/vnd.jupyter.widget-view+json": {
       "model_id": "dad27ad2a73841ce925c29dfb5e65932",
       "version_major": 2,
       "version_minor": 0
      },
      "text/plain": [
       "HBox(children=(FloatProgress(value=0.0, max=161.0), HTML(value='')))"
      ]
     },
     "metadata": {},
     "output_type": "display_data"
    },
    {
     "name": "stdout",
     "output_type": "stream",
     "text": [
      "\n",
      "Training Results - Epoch: 1  Avg loss: 73.80\n",
      "Validation Results - Epoch: 1  Avg loss: 36.32\n",
      "EPOCH_COMPLETED took 284.6221568584442 seconds\n",
      "COMPLETED took 329.635769367218 seconds\n"
     ]
    },
    {
     "data": {
      "application/vnd.jupyter.widget-view+json": {
       "model_id": "81357295da484914b65ec6506d56f4c3",
       "version_major": 2,
       "version_minor": 0
      },
      "text/plain": [
       "HBox(children=(FloatProgress(value=0.0, description='Samples collected', style=ProgressStyle(description_width…"
      ]
     },
     "metadata": {},
     "output_type": "display_data"
    },
    {
     "name": "stdout",
     "output_type": "stream",
     "text": [
      "\n",
      "Trial 1 complete in 17.28995943069458 seconds.\n",
      " Statistics of  posterior predictive\n",
      " mean:-6.064169406890869\n",
      " var: 9.094947017729282e-13\n",
      "Starting trial 2 of 5\n"
     ]
    },
    {
     "data": {
      "application/vnd.jupyter.widget-view+json": {
       "model_id": "3ed47e41bb9446a0ad04d1b4712cfd3f",
       "version_major": 2,
       "version_minor": 0
      },
      "text/plain": [
       "HBox(children=(FloatProgress(value=0.0, max=161.0), HTML(value='')))"
      ]
     },
     "metadata": {},
     "output_type": "display_data"
    },
    {
     "name": "stdout",
     "output_type": "stream",
     "text": [
      "\n",
      "Training Results - Epoch: 1  Avg loss: 30.70\n",
      "Validation Results - Epoch: 1  Avg loss: 16.71\n",
      "EPOCH_COMPLETED took 289.7421112060547 seconds\n",
      "COMPLETED took 336.20754837989807 seconds\n"
     ]
    },
    {
     "data": {
      "application/vnd.jupyter.widget-view+json": {
       "model_id": "3aae8d1ba32c4e5e892d43aa7cb4dae1",
       "version_major": 2,
       "version_minor": 0
      },
      "text/plain": [
       "HBox(children=(FloatProgress(value=0.0, description='Samples collected', style=ProgressStyle(description_width…"
      ]
     },
     "metadata": {},
     "output_type": "display_data"
    },
    {
     "name": "stdout",
     "output_type": "stream",
     "text": [
      "\n",
      "Trial 2 complete in 20.93644428253174 seconds.\n",
      " Statistics of  posterior predictive\n",
      " mean:-1.7265493869781494\n",
      " var: 0.1900499314069748\n",
      "Starting trial 3 of 5\n"
     ]
    },
    {
     "data": {
      "application/vnd.jupyter.widget-view+json": {
       "model_id": "709b9beea2fa4d93855cb7a0077264a8",
       "version_major": 2,
       "version_minor": 0
      },
      "text/plain": [
       "HBox(children=(FloatProgress(value=0.0, max=161.0), HTML(value='')))"
      ]
     },
     "metadata": {},
     "output_type": "display_data"
    },
    {
     "name": "stdout",
     "output_type": "stream",
     "text": [
      "\n",
      "Training Results - Epoch: 1  Avg loss: 26.12\n",
      "Validation Results - Epoch: 1  Avg loss: 21.10\n",
      "EPOCH_COMPLETED took 315.9466359615326 seconds\n",
      "COMPLETED took 362.14820861816406 seconds\n"
     ]
    },
    {
     "data": {
      "application/vnd.jupyter.widget-view+json": {
       "model_id": "c0c4dcdacb134a7c9fb6c2d8ac625b98",
       "version_major": 2,
       "version_minor": 0
      },
      "text/plain": [
       "HBox(children=(FloatProgress(value=0.0, description='Samples collected', style=ProgressStyle(description_width…"
      ]
     },
     "metadata": {},
     "output_type": "display_data"
    },
    {
     "name": "stdout",
     "output_type": "stream",
     "text": [
      "\n",
      "Trial 3 complete in 21.294909477233887 seconds.\n",
      " Statistics of  posterior predictive\n",
      " mean:-6.064169406890869\n",
      " var: 9.094947017729282e-13\n",
      "Starting trial 4 of 5\n"
     ]
    },
    {
     "data": {
      "application/vnd.jupyter.widget-view+json": {
       "model_id": "19a53d084807477d93dd8ec6c0ff6231",
       "version_major": 2,
       "version_minor": 0
      },
      "text/plain": [
       "HBox(children=(FloatProgress(value=0.0, max=161.0), HTML(value='')))"
      ]
     },
     "metadata": {},
     "output_type": "display_data"
    },
    {
     "name": "stdout",
     "output_type": "stream",
     "text": [
      "\n",
      "Training Results - Epoch: 1  Avg loss: 18.93\n",
      "Validation Results - Epoch: 1  Avg loss: 16.53\n",
      "EPOCH_COMPLETED took 312.8978953361511 seconds\n",
      "COMPLETED took 367.19911766052246 seconds\n"
     ]
    },
    {
     "data": {
      "application/vnd.jupyter.widget-view+json": {
       "model_id": "d897803c55344bd79b0b272b308f848d",
       "version_major": 2,
       "version_minor": 0
      },
      "text/plain": [
       "HBox(children=(FloatProgress(value=0.0, description='Samples collected', style=ProgressStyle(description_width…"
      ]
     },
     "metadata": {},
     "output_type": "display_data"
    },
    {
     "name": "stdout",
     "output_type": "stream",
     "text": [
      "\n",
      "Trial 4 complete in 20.737121105194092 seconds.\n",
      " Statistics of  posterior predictive\n",
      " mean:-6.064169406890869\n",
      " var: 9.094947017729282e-13\n",
      "Starting trial 5 of 5\n"
     ]
    },
    {
     "data": {
      "application/vnd.jupyter.widget-view+json": {
       "model_id": "5bb9dfe0bb9d47398d10cd6e0923cefc",
       "version_major": 2,
       "version_minor": 0
      },
      "text/plain": [
       "HBox(children=(FloatProgress(value=0.0, max=161.0), HTML(value='')))"
      ]
     },
     "metadata": {},
     "output_type": "display_data"
    },
    {
     "name": "stdout",
     "output_type": "stream",
     "text": [
      "\n",
      "Training Results - Epoch: 1  Avg loss: 24.62\n",
      "Validation Results - Epoch: 1  Avg loss: 77.65\n",
      "EPOCH_COMPLETED took 352.09198570251465 seconds\n",
      "COMPLETED took 412.70882868766785 seconds\n"
     ]
    },
    {
     "data": {
      "application/vnd.jupyter.widget-view+json": {
       "model_id": "44706781f8b9403e8bac3d4da5d9c8a5",
       "version_major": 2,
       "version_minor": 0
      },
      "text/plain": [
       "HBox(children=(FloatProgress(value=0.0, description='Samples collected', style=ProgressStyle(description_width…"
      ]
     },
     "metadata": {},
     "output_type": "display_data"
    },
    {
     "name": "stdout",
     "output_type": "stream",
     "text": [
      "\n",
      "Trial 5 complete in 21.782921314239502 seconds.\n",
      " Statistics of  posterior predictive\n",
      " mean:-6.064169406890869\n",
      " var: 9.094947017729282e-13\n"
     ]
    }
   ],
   "source": [
    "import time\n",
    "import numpy as np\n",
    "import pandas as pd\n",
    "\n",
    "import torch\n",
    "import torch.distributions as dist\n",
    "from torch import tensor\n",
    "\n",
    "import pplbench.models.hidden_markov_model as model\n",
    "\n",
    "_model = model\n",
    "\n",
    "args_dict = model.get_defaults()\n",
    "args_dict[\"trials\"] = 5\n",
    "args_dict[\"plot_data_size\"] = 100\n",
    "args_dict[\"num_samples\"] = 100\n",
    "args_dict[\"num_samples_beanmachine_vectorized\"] = 100\n",
    "#args_dict[\"inference_type\"] = \"mcmc\"\n",
    "args_dict[\"inference_type\"] = \"ic\"\n",
    "args_dict[\"ic\"] = {\n",
    "    \"num_worlds\": int(1e2),\n",
    "    \"lr\": 1e-2,\n",
    "    \"wd\": 1e-3,\n",
    "}\n",
    "\n",
    "\n",
    "model_instance = model.generate_model(args_dict)\n",
    "generated_data = model.generate_data(args_dict=args_dict, model=model_instance)\n",
    "ppl_instance = HiddenMarkov()\n",
    "\n",
    "ppl = 'BM_IC'\n",
    "timing_infos[ppl] = [None] * int(args_dict[\"trials\"])\n",
    "posterior_samples[ppl] = [None] * int(args_dict[\"trials\"])\n",
    "posterior_predictive[ppl] = [None] * int(args_dict[\"trials\"])\n",
    "ic = None\n",
    "# start trial loop\n",
    "for i in range(int(args_dict[\"trials\"])):\n",
    "    print(\"Starting trial\", i + 1, \"of\", args_dict[\"trials\"])\n",
    "    \n",
    "    # obtain posterior samples and timing info\n",
    "    data_train=generated_data[\"data_train\"]\n",
    "    (\n",
    "        posterior_samples[ppl][i],\n",
    "        timing_infos[ppl][i],\n",
    "    ) = ppl_instance.obtain_posterior(data_train, args_dict, model=model_instance)\n",
    "    \n",
    "    # compute posterior predictive\n",
    "    posterior_predictive[ppl][i] = model.evaluate_posterior_predictive(\n",
    "        samples=posterior_samples[ppl][i].copy(),\n",
    "        data_test=generated_data[\"data_test\"],\n",
    "        model=model_instance,\n",
    "    )\n",
    "    print(\n",
    "        f\"Trial {i + 1} \"\n",
    "        f'complete in {timing_infos[ppl][i][\"inference_time\"]} '\n",
    "        \"seconds.\\n Statistics of  posterior predictive\\n mean:\"\n",
    "        f\"{np.array(posterior_predictive[ppl][i]).mean()}\"\n",
    "        f\"\\n var: {np.array(posterior_predictive[ppl][i]).var()}\"\n",
    "    )"
   ]
  },
  {
   "cell_type": "code",
   "execution_count": 11,
   "metadata": {},
   "outputs": [],
   "source": [
    "import PPLBench\n",
    "\n",
    "posterior_samples_subset = PPLBench.get_sample_subset(posterior_predictive, args_dict)\n",
    "trial_info = PPLBench.compute_trial_statistics(posterior_predictive)\n",
    "trial_info = PPLBench.combine_dictionaries(trial_info, timing_infos)\n",
    "summary_info = PPLBench.compute_summary_statistics(\n",
    "    posterior_predictive, timing_infos, args_dict\n",
    ")\n"
   ]
  },
  {
   "cell_type": "code",
   "execution_count": 12,
   "metadata": {},
   "outputs": [
    {
     "data": {
      "text/plain": [
       "{'BM_NMC': {0: {'n_eff': 0.0,\n",
       "   'num_unique': 1,\n",
       "   'compile_time': 8.106231689453125e-06,\n",
       "   'inference_time': 7.247365236282349},\n",
       "  1: {'n_eff': 0.0,\n",
       "   'num_unique': 1,\n",
       "   'compile_time': 7.867813110351562e-06,\n",
       "   'inference_time': 7.222901821136475},\n",
       "  2: {'n_eff': 0.0,\n",
       "   'num_unique': 1,\n",
       "   'compile_time': 5.245208740234375e-06,\n",
       "   'inference_time': 7.170017242431641},\n",
       "  3: {'n_eff': 102.10437774658203,\n",
       "   'num_unique': 2,\n",
       "   'compile_time': 5.0067901611328125e-06,\n",
       "   'inference_time': 7.178408861160278},\n",
       "  4: {'n_eff': 0.0,\n",
       "   'num_unique': 1,\n",
       "   'compile_time': 5.245208740234375e-06,\n",
       "   'inference_time': 7.1932361125946045}},\n",
       " 'BM_uniform': {0: {'n_eff': nan,\n",
       "   'num_unique': 1,\n",
       "   'compile_time': 6.67572021484375e-06,\n",
       "   'inference_time': 7.372642755508423},\n",
       "  1: {'n_eff': 0.0,\n",
       "   'num_unique': 1,\n",
       "   'compile_time': 5.0067901611328125e-06,\n",
       "   'inference_time': 7.340271711349487},\n",
       "  2: {'n_eff': 6.973954677581787,\n",
       "   'num_unique': 2,\n",
       "   'compile_time': 5.4836273193359375e-06,\n",
       "   'inference_time': 7.313391447067261},\n",
       "  3: {'n_eff': 0.0,\n",
       "   'num_unique': 1,\n",
       "   'compile_time': 5.9604644775390625e-06,\n",
       "   'inference_time': 7.1349804401397705},\n",
       "  4: {'n_eff': 0.0,\n",
       "   'num_unique': 1,\n",
       "   'compile_time': 5.9604644775390625e-06,\n",
       "   'inference_time': 7.3141770362854}},\n",
       " 'BM_IC': {0: {'n_eff': 0.0,\n",
       "   'num_unique': 1,\n",
       "   'compile_time': 329.70429491996765,\n",
       "   'inference_time': 17.28995943069458},\n",
       "  1: {'n_eff': 100.02040100097656,\n",
       "   'num_unique': 2,\n",
       "   'compile_time': 336.2446982860565,\n",
       "   'inference_time': 20.93644428253174},\n",
       "  2: {'n_eff': 0.0,\n",
       "   'num_unique': 1,\n",
       "   'compile_time': 362.2013442516327,\n",
       "   'inference_time': 21.294909477233887},\n",
       "  3: {'n_eff': 0.0,\n",
       "   'num_unique': 1,\n",
       "   'compile_time': 367.2489721775055,\n",
       "   'inference_time': 20.737121105194092},\n",
       "  4: {'n_eff': 0.0,\n",
       "   'num_unique': 1,\n",
       "   'compile_time': 412.88024067878723,\n",
       "   'inference_time': 21.782921314239502}}}"
      ]
     },
     "execution_count": 12,
     "metadata": {},
     "output_type": "execute_result"
    }
   ],
   "source": [
    "trial_info"
   ]
  },
  {
   "cell_type": "code",
   "execution_count": 13,
   "metadata": {},
   "outputs": [
    {
     "data": {
      "text/plain": [
       "{'BM_NMC': {'r_hat': 1.0,\n",
       "  'n_eff': 510.41455078125,\n",
       "  'n_eff/time': 14.17348531658242},\n",
       " 'BM_uniform': {'r_hat': 1.4696024656295776,\n",
       "  'n_eff': 6.156506538391113,\n",
       "  'n_eff/time': 0.1687848752600037},\n",
       " 'BM_IC': {'r_hat': 9.386752128601074,\n",
       "  'n_eff': 2.539161443710327,\n",
       "  'n_eff/time': 0.024883650638840918}}"
      ]
     },
     "execution_count": 13,
     "metadata": {},
     "output_type": "execute_result"
    }
   ],
   "source": [
    "summary_info"
   ]
  },
  {
   "cell_type": "code",
   "execution_count": 14,
   "metadata": {},
   "outputs": [
    {
     "data": {
      "text/plain": [
       "<seaborn.axisgrid.FacetGrid at 0x7f0ab6e15990>"
      ]
     },
     "execution_count": 14,
     "metadata": {},
     "output_type": "execute_result"
    },
    {
     "data": {
      "image/png": "[encoded data removed]",
      "text/plain": [
       "<Figure size 1440x360 with 4 Axes>"
      ]
     },
     "metadata": {},
     "output_type": "display_data"
    }
   ],
   "source": [
    "df = pd.DataFrame()\n",
    "for ppl in trial_info:\n",
    "    trials = pd.DataFrame(trial_info[ppl]).T\n",
    "    trials[\"ppl\"] = ppl\n",
    "    df = df.append(trials)\n",
    "df[\"num_unique_per_infer_time\"] = df[\"num_unique\"] / df[\"inference_time\"]\n",
    "    \n",
    "import seaborn as sns\n",
    "sns.set_style(\"darkgrid\")\n",
    "\n",
    "sns.catplot(data=df.melt(\n",
    "    id_vars=[\"ppl\"],\n",
    "    value_vars=[\"compile_time\", \"inference_time\", \"num_unique\", \"num_unique_per_infer_time\"],\n",
    "), col=\"variable\", x=\"ppl\", y=\"value\", hue=\"ppl\", sharey=False, kind=\"box\")    "
   ]
  },
  {
   "cell_type": "code",
   "execution_count": 15,
   "metadata": {},
   "outputs": [
    {
     "data": {
      "text/plain": [
       "<seaborn.axisgrid.FacetGrid at 0x7f0ab529e410>"
      ]
     },
     "execution_count": 15,
     "metadata": {},
     "output_type": "execute_result"
    },
    {
     "data": {
      "image/png": "[encoded data removed]",
      "text/plain": [
       "<Figure size 360x360 with 1 Axes>"
      ]
     },
     "metadata": {},
     "output_type": "display_data"
    }
   ],
   "source": [
    "df = pd.DataFrame([\n",
    "        {\n",
    "            \"ppl\": ppl,\n",
    "            \"posterior_predictive\": trial_val\n",
    "        } \n",
    "    for ppl in posterior_predictive\n",
    "    for trial in posterior_predictive[ppl]\n",
    "    for trial_val in trial\n",
    "])\n",
    "sns.catplot(data=df.melt(\n",
    "    id_vars=[\"ppl\"],\n",
    "    value_vars=[\"posterior_predictive\"],\n",
    "), col=\"variable\", hue=\"ppl\", x=\"ppl\", y=\"value\", sharey=False, kind=\"box\")"
   ]
  },
  {
   "cell_type": "code",
   "execution_count": null,
   "metadata": {},
   "outputs": [],
   "source": []
  }
 ],
 "metadata": {
  "kernelspec": {
   "display_name": "Python 3",
   "language": "python",
   "name": "python3"
  },
  "language_info": {
   "codemirror_mode": {
    "name": "ipython",
    "version": 3
   },
   "file_extension": ".py",
   "mimetype": "text/x-python",
   "name": "python",
   "nbconvert_exporter": "python",
   "pygments_lexer": "ipython3",
   "version": "3.7.8"
  }
 },
 "nbformat": 4,
 "nbformat_minor": 4
}
