{
 "cells": [
  {
   "cell_type": "code",
   "execution_count": 1,
   "metadata": {},
   "outputs": [
    {
     "data": {
      "text/plain": [
       "<torch._C.Generator at 0x7f73f80291d0>"
      ]
     },
     "execution_count": 1,
     "metadata": {},
     "output_type": "execute_result"
    }
   ],
   "source": [
    "import torch.distributions as dist\n",
    "import torch\n",
    "from beanmachine.ppl.model.statistical_model import StatisticalModel\n",
    "import numpy as np\n",
    "\n",
    "StatisticalModel.reset()\n",
    "torch.autograd.set_detect_anomaly(False) \n",
    "\n",
    "np.random.seed(4)\n",
    "torch.manual_seed(4)"
   ]
  },
  {
   "cell_type": "code",
   "execution_count": 2,
   "metadata": {},
   "outputs": [],
   "source": [
    "# Copyright(C) Facebook, Inc. and its affiliates. All Rights Reserved.\n",
    "import time\n",
    "from typing import Dict\n",
    "\n",
    "import beanmachine.ppl as bm\n",
    "import pandas as pd\n",
    "import torch\n",
    "import torch.distributions as dist\n",
    "from beanmachine.ppl.experimental.inference_compilation.ic_infer import ICInference\n",
    "from beanmachine.ppl.model.statistical_model import RVIdentifier\n",
    "from torch import Tensor, tensor\n",
    "import torch.optim as optim\n",
    "\n",
    "from pplbench.PPLBench import PPLBenchPPL\n",
    "\n",
    "\n",
    "class NSchoolsVectorizedModel:\n",
    "    def __init__(\n",
    "        self,\n",
    "        df,\n",
    "        num_samples: int,\n",
    "        num_districts: int,\n",
    "        num_states: int,\n",
    "        num_types: int,\n",
    "        inference_type: str,\n",
    "        sd_district_scale: float = 1,\n",
    "        sd_state_scale: float = 1,\n",
    "        sd_type_scale: float = 1,\n",
    "        num_worlds: int = 100,\n",
    "        batch_size: int = 16,\n",
    "        node_id_embedding_dim: int = 0,\n",
    "        node_embedding_dim: int = 32,\n",
    "        mb_embedding_dim: int = 32,\n",
    "        mb_num_layers: int = 3,\n",
    "        node_proposal_num_layers: int = 1,\n",
    "        lr: float = 1e-4,\n",
    "        gmm_num_components: int = 1,\n",
    "        wd: float = 1e-5,\n",
    "    ):\n",
    "        self._df = df\n",
    "        self._num_samples = num_samples\n",
    "        self._sd_district_scale = sd_district_scale\n",
    "        self._sd_state_scale = sd_state_scale\n",
    "        self._sd_type_scale = sd_type_scale\n",
    "        super().__init__()\n",
    "\n",
    "        self._u_sizes = [num_districts * num_states, num_states, num_types]\n",
    "        self.num_levels = len(self._u_sizes)\n",
    "        self.torch_re_maps = []\n",
    "        for i in range(self.num_levels):\n",
    "            re_map_i = torch.zeros((self._df.shape[0], self._u_sizes[i]))\n",
    "            for j in range(self._df.shape[0]):\n",
    "                if i == 0:\n",
    "                    # beta_district\n",
    "                    re_map_i[\n",
    "                        j,\n",
    "                        self._df.state[j] * self._df.district[j] + self._df.district[j],\n",
    "                    ] = 1\n",
    "                elif i == 1:\n",
    "                    # beta_state\n",
    "                    re_map_i[j, self._df.state[j]] = 1\n",
    "                elif i == 2:\n",
    "                    # beta_type\n",
    "                    re_map_i[j, self._df.type[j]] = 1\n",
    "                else:\n",
    "                    raise Exception(\"Should not occur.\")\n",
    "            self.torch_re_maps.append(re_map_i)\n",
    "\n",
    "        self.queries = [self.beta_0()]\n",
    "        for i in range(self.num_levels):\n",
    "            self.queries += [self.sds(i), self.u(i)]\n",
    "        self.observations: Dict[RVIdentifier, Tensor] = {\n",
    "            self.y(): tensor(self._df.yi).float()\n",
    "        }\n",
    "\n",
    "        self.inference_type = inference_type\n",
    "        if self.inference_type == \"ic\":\n",
    "            self._icmh = ICInference()\n",
    "            self._icmh.compile(\n",
    "                observation_keys=list(self.observations.keys()),\n",
    "                num_worlds=num_worlds,\n",
    "                batch_size=batch_size,\n",
    "                node_id_embedding_dim=node_id_embedding_dim,\n",
    "                node_embedding_dim=node_embedding_dim,\n",
    "                mb_embedding_dim=mb_embedding_dim,\n",
    "                mb_num_layers=mb_num_layers,\n",
    "                node_proposal_num_layers=node_proposal_num_layers,\n",
    "                optimizer_func=lambda x: optim.Adam(x, lr=lr, weight_decay=wd),\n",
    "                gmm_num_components=gmm_num_components,\n",
    "            )\n",
    "\n",
    "    @bm.random_variable\n",
    "    def beta_0(self):\n",
    "        return dist.StudentT(3, loc=0.0, scale=10.0)\n",
    "\n",
    "    @bm.random_variable\n",
    "    def sds(self, i):\n",
    "        assert i < self.num_levels\n",
    "        return dist.HalfCauchy(\n",
    "            [self._sd_district_scale, self._sd_state_scale, self._sd_type_scale][i]\n",
    "        )\n",
    "\n",
    "    @bm.random_variable\n",
    "    def u(self, i):\n",
    "        assert i < self.num_levels\n",
    "        return dist.Independent(\n",
    "            dist.Normal(torch.zeros(self._u_sizes[i]), self.sds(i).item()), 1\n",
    "        )\n",
    "\n",
    "    @bm.random_variable\n",
    "    def y(self):\n",
    "        yhat = self.beta_0() + sum(\n",
    "            torch.mm(self.torch_re_maps[i], self.u(i).reshape(self._u_sizes[i], 1))\n",
    "            for i in range(self.num_levels)\n",
    "        )\n",
    "        yhat = yhat.reshape(-1)\n",
    "        return dist.Independent(dist.Normal(yhat, tensor(self._df.sei).float()), 1)\n",
    "\n",
    "    def infer(self, num_adaptive_samples=0):\n",
    "        if self.inference_type == \"mcmc\":\n",
    "            return bm.CompositionalInference().infer(\n",
    "                self.queries,\n",
    "                self.observations,\n",
    "                num_samples=int(self._num_samples),\n",
    "                num_chains=1,\n",
    "                num_adaptive_samples=int(num_adaptive_samples),\n",
    "            )\n",
    "        elif self.inference_type == \"mcmc-uniform\":\n",
    "            return bm.SingleSiteUniformMetropolisHastings().infer(\n",
    "                self.queries,\n",
    "                self.observations,\n",
    "                num_samples=int(self._num_samples),\n",
    "                num_chains=1,\n",
    "                num_adaptive_samples=int(num_adaptive_samples),\n",
    "            )\n",
    "        elif self.inference_type == \"mcmc-rw\":\n",
    "            return bm.SingleSiteRandomWalk().infer(\n",
    "                self.queries,\n",
    "                self.observations,\n",
    "                num_samples=int(self._num_samples),\n",
    "                num_chains=1,\n",
    "                num_adaptive_samples=int(num_adaptive_samples),\n",
    "            )\n",
    "        elif self.inference_type == \"mcmc-hmc\":\n",
    "            return bm.SingleSiteHamiltonianMonteCarlo(path_length=10, step_size=0.1).infer(\n",
    "                self.queries,\n",
    "                self.observations,\n",
    "                num_samples=int(self._num_samples),\n",
    "                num_chains=1,\n",
    "                num_adaptive_samples=int(num_adaptive_samples),\n",
    "            )\n",
    "        elif self.inference_type == \"ic\":\n",
    "            return self._icmh.infer(\n",
    "                self.queries,\n",
    "                self.observations,\n",
    "                num_samples=int(self._num_samples),\n",
    "                num_chains=1,\n",
    "                num_adaptive_samples=int(num_adaptive_samples),\n",
    "            )\n",
    "\n",
    "\n",
    "class NSchoolsVectorized(PPLBenchPPL):\n",
    "    def obtain_posterior(self, data_train, args_dict: Dict, model):\n",
    "        \"\"\"\n",
    "        Beanmachine vectorized implementation of n-schools.\n",
    "\n",
    "        :param data_train:\n",
    "        :param args_dict: a dict of model arguments\n",
    "        :returns: samples_beanmachine(dict): posterior samples of all parameters\n",
    "        :returns: timing_info(dict): compile_time, inference_time\n",
    "        \"\"\"\n",
    "        num_samples = args_dict[\"num_samples_beanmachine_vectorized\"]\n",
    "        num_states, num_districts, num_types = [int(x) for x in args_dict[\"model_args\"]]\n",
    "\n",
    "        compile_start = time.time()\n",
    "        model = NSchoolsVectorizedModel(\n",
    "            data_train,\n",
    "            inference_type=args_dict[\"inference_type\"],\n",
    "            num_samples=num_samples,\n",
    "            num_districts=num_districts,\n",
    "            num_states=num_states,\n",
    "            num_types=num_types,\n",
    "        )\n",
    "        elapsed_time_compile_beanmachine = time.time() - compile_start\n",
    "\n",
    "        inference_start = time.time()\n",
    "        samples = model.infer().get_chain()\n",
    "        elapsed_time_inference_beanmachine = time.time() - inference_start\n",
    "\n",
    "        timing_info = {\n",
    "            \"compile_time\": elapsed_time_compile_beanmachine,\n",
    "            \"inference_time\": elapsed_time_inference_beanmachine,\n",
    "        }\n",
    "\n",
    "        samples_formatted = pd.DataFrame()\n",
    "        samples_formatted[\"beta_0\"] = samples.get_variable(model.beta_0())\n",
    "        for i, level in enumerate([\"district\", \"state\", \"type\"]):\n",
    "            samples_formatted[f\"sd_{level}\"] = samples.get_variable(model.sds(i))\n",
    "\n",
    "            u_i = samples.get_variable(model.u(i))\n",
    "            for j in range(model._u_sizes[i]):\n",
    "                if level == \"district\":\n",
    "                    state = int(j / num_districts)\n",
    "                    district = j % num_districts\n",
    "                    samples_formatted[f\"beta_state_{state}_district_{district}\"] = u_i[\n",
    "                        :, j\n",
    "                    ]\n",
    "                else:\n",
    "                    samples_formatted[f\"beta_{level}_{j}\"] = u_i[:, j]\n",
    "\n",
    "        return (samples_formatted, timing_info)\n"
   ]
  },
  {
   "cell_type": "code",
   "execution_count": 3,
   "metadata": {},
   "outputs": [],
   "source": [
    "timing_infos = {}\n",
    "posterior_samples = {}\n",
    "posterior_predictive = {}"
   ]
  },
  {
   "cell_type": "code",
   "execution_count": 4,
   "metadata": {},
   "outputs": [
    {
     "name": "stdout",
     "output_type": "stream",
     "text": [
      "Generating data\n",
      "Starting trial 1 of 10\n"
     ]
    },
    {
     "data": {
      "application/vnd.jupyter.widget-view+json": {
       "model_id": "f034da343a10496d931f7dcef1234637",
       "version_major": 2,
       "version_minor": 0
      },
      "text/plain": [
       "HBox(children=(FloatProgress(value=0.0, description='Samples collected', style=ProgressStyle(description_width…"
      ]
     },
     "metadata": {},
     "output_type": "display_data"
    },
    {
     "name": "stdout",
     "output_type": "stream",
     "text": [
      "\n",
      "Trial 1 complete in 25.89471411705017 seconds.\n",
      " Statistics of  posterior predictive\n",
      " mean:1.6549675159724442\n",
      " var: 3.840382696729695\n",
      "Starting trial 2 of 10\n"
     ]
    },
    {
     "data": {
      "application/vnd.jupyter.widget-view+json": {
       "model_id": "6c97978b1c7c482ea8a986713ccae1aa",
       "version_major": 2,
       "version_minor": 0
      },
      "text/plain": [
       "HBox(children=(FloatProgress(value=0.0, description='Samples collected', style=ProgressStyle(description_width…"
      ]
     },
     "metadata": {},
     "output_type": "display_data"
    },
    {
     "name": "stdout",
     "output_type": "stream",
     "text": [
      "\n",
      "Trial 2 complete in 27.488704681396484 seconds.\n",
      " Statistics of  posterior predictive\n",
      " mean:1.369258190331271\n",
      " var: 3.9536218182431124\n",
      "Starting trial 3 of 10\n"
     ]
    },
    {
     "data": {
      "application/vnd.jupyter.widget-view+json": {
       "model_id": "3af1110b4ea94b68898c4dd4ab297613",
       "version_major": 2,
       "version_minor": 0
      },
      "text/plain": [
       "HBox(children=(FloatProgress(value=0.0, description='Samples collected', style=ProgressStyle(description_width…"
      ]
     },
     "metadata": {},
     "output_type": "display_data"
    },
    {
     "name": "stdout",
     "output_type": "stream",
     "text": [
      "\n",
      "Trial 3 complete in 26.41641616821289 seconds.\n",
      " Statistics of  posterior predictive\n",
      " mean:4.2146348015536015\n",
      " var: 0.09758247216963488\n",
      "Starting trial 4 of 10\n"
     ]
    },
    {
     "data": {
      "application/vnd.jupyter.widget-view+json": {
       "model_id": "c2f708b15e6f406b9748129051a9fdc6",
       "version_major": 2,
       "version_minor": 0
      },
      "text/plain": [
       "HBox(children=(FloatProgress(value=0.0, description='Samples collected', style=ProgressStyle(description_width…"
      ]
     },
     "metadata": {},
     "output_type": "display_data"
    },
    {
     "name": "stdout",
     "output_type": "stream",
     "text": [
      "\n",
      "Trial 4 complete in 25.72386074066162 seconds.\n",
      " Statistics of  posterior predictive\n",
      " mean:1.2086750870725533\n",
      " var: 4.649918797756915\n",
      "Starting trial 5 of 10\n"
     ]
    },
    {
     "data": {
      "application/vnd.jupyter.widget-view+json": {
       "model_id": "ad8ee8f5ddd44557a4bca34eef187986",
       "version_major": 2,
       "version_minor": 0
      },
      "text/plain": [
       "HBox(children=(FloatProgress(value=0.0, description='Samples collected', style=ProgressStyle(description_width…"
      ]
     },
     "metadata": {},
     "output_type": "display_data"
    },
    {
     "name": "stdout",
     "output_type": "stream",
     "text": [
      "\n",
      "Trial 5 complete in 25.918257474899292 seconds.\n",
      " Statistics of  posterior predictive\n",
      " mean:0.6664457731107885\n",
      " var: 7.380085977737382\n",
      "Starting trial 6 of 10\n"
     ]
    },
    {
     "data": {
      "application/vnd.jupyter.widget-view+json": {
       "model_id": "91cbade026524f4aafe0f66dd15901eb",
       "version_major": 2,
       "version_minor": 0
      },
      "text/plain": [
       "HBox(children=(FloatProgress(value=0.0, description='Samples collected', style=ProgressStyle(description_width…"
      ]
     },
     "metadata": {},
     "output_type": "display_data"
    },
    {
     "name": "stdout",
     "output_type": "stream",
     "text": [
      "\n",
      "Trial 6 complete in 26.119300365447998 seconds.\n",
      " Statistics of  posterior predictive\n",
      " mean:4.1382164848654615\n",
      " var: 0.10249847498970467\n",
      "Starting trial 7 of 10\n"
     ]
    },
    {
     "data": {
      "application/vnd.jupyter.widget-view+json": {
       "model_id": "e8b2b80481b947fc828738ca089cda6e",
       "version_major": 2,
       "version_minor": 0
      },
      "text/plain": [
       "HBox(children=(FloatProgress(value=0.0, description='Samples collected', style=ProgressStyle(description_width…"
      ]
     },
     "metadata": {},
     "output_type": "display_data"
    },
    {
     "name": "stdout",
     "output_type": "stream",
     "text": [
      "\n",
      "Trial 7 complete in 26.90136694908142 seconds.\n",
      " Statistics of  posterior predictive\n",
      " mean:1.2683073540031626\n",
      " var: 3.9785706742747915\n",
      "Starting trial 8 of 10\n"
     ]
    },
    {
     "data": {
      "application/vnd.jupyter.widget-view+json": {
       "model_id": "67be7bbb655a4f58bbde3afbb85065be",
       "version_major": 2,
       "version_minor": 0
      },
      "text/plain": [
       "HBox(children=(FloatProgress(value=0.0, description='Samples collected', style=ProgressStyle(description_width…"
      ]
     },
     "metadata": {},
     "output_type": "display_data"
    },
    {
     "name": "stdout",
     "output_type": "stream",
     "text": [
      "\n",
      "Trial 8 complete in 28.245262145996094 seconds.\n",
      " Statistics of  posterior predictive\n",
      " mean:1.9539809598210391\n",
      " var: 2.338401381274374\n",
      "Starting trial 9 of 10\n"
     ]
    },
    {
     "data": {
      "application/vnd.jupyter.widget-view+json": {
       "model_id": "763ab11d1bde4a6687f8ee4d2c70fb35",
       "version_major": 2,
       "version_minor": 0
      },
      "text/plain": [
       "HBox(children=(FloatProgress(value=0.0, description='Samples collected', style=ProgressStyle(description_width…"
      ]
     },
     "metadata": {},
     "output_type": "display_data"
    },
    {
     "name": "stdout",
     "output_type": "stream",
     "text": [
      "\n",
      "Trial 9 complete in 26.83334493637085 seconds.\n",
      " Statistics of  posterior predictive\n",
      " mean:2.71434240538543\n",
      " var: 0.7865701106781134\n",
      "Starting trial 10 of 10\n"
     ]
    },
    {
     "data": {
      "application/vnd.jupyter.widget-view+json": {
       "model_id": "d942674ca392491780acda721103ee07",
       "version_major": 2,
       "version_minor": 0
      },
      "text/plain": [
       "HBox(children=(FloatProgress(value=0.0, description='Samples collected', style=ProgressStyle(description_width…"
      ]
     },
     "metadata": {},
     "output_type": "display_data"
    },
    {
     "name": "stdout",
     "output_type": "stream",
     "text": [
      "\n",
      "Trial 10 complete in 26.234057664871216 seconds.\n",
      " Statistics of  posterior predictive\n",
      " mean:1.0860324985596583\n",
      " var: 6.055957818884829\n"
     ]
    }
   ],
   "source": [
    "import time\n",
    "import numpy as np\n",
    "import pandas as pd\n",
    "\n",
    "import pplbench.models.n_schools_model as model\n",
    "\n",
    "_model = model\n",
    "\n",
    "args_dict = model.get_defaults()\n",
    "args_dict[\"trials\"] = 10\n",
    "args_dict[\"plot_data_size\"] = 100\n",
    "args_dict[\"inference_type\"] = \"mcmc\"\n",
    "args_dict[\"num_samples\"] = 100\n",
    "args_dict[\"num_samples_beanmachine_vectorized\"] = 100\n",
    "\n",
    "model_instance = model.generate_model(args_dict)\n",
    "generated_data = model.generate_data(args_dict=args_dict, model=model_instance)\n",
    "ppl_instance = NSchoolsVectorized()\n",
    "\n",
    "\n",
    "ppl = 'BM_NMC'\n",
    "timing_infos[ppl] = [None] * int(args_dict[\"trials\"])\n",
    "posterior_samples[ppl] = [None] * int(args_dict[\"trials\"])\n",
    "posterior_predictive[ppl] = [None] * int(args_dict[\"trials\"])\n",
    "ic = None\n",
    "# start trial loop\n",
    "for i in range(int(args_dict[\"trials\"])):\n",
    "    print(\"Starting trial\", i + 1, \"of\", args_dict[\"trials\"])\n",
    "    \n",
    "    # obtain posterior samples and timing info\n",
    "    data_train=generated_data[\"data_train\"]\n",
    "    num_samples = args_dict[\"num_samples_beanmachine_vectorized\"]\n",
    "    num_states, num_districts, num_types = [int(x) for x in args_dict[\"model_args\"]]\n",
    "\n",
    "    compile_start = time.time()\n",
    "    model = NSchoolsVectorizedModel(\n",
    "        data_train,\n",
    "        inference_type=args_dict[\"inference_type\"],\n",
    "        num_samples=num_samples,\n",
    "        num_districts=num_districts,\n",
    "        num_states=num_states,\n",
    "        num_types=num_types,\n",
    "        num_worlds=1e3,\n",
    "        gmm_num_components=10,\n",
    "        node_embedding_dim=32,\n",
    "        mb_embedding_dim=32,\n",
    "        batch_size=1,\n",
    "        lr=1e-4,\n",
    "        wd=1e-5,\n",
    "    )\n",
    "    elapsed_time_compile_beanmachine = time.time() - compile_start\n",
    "\n",
    "    inference_start = time.time()\n",
    "    samples = model.infer(\n",
    "        num_adaptive_samples=int(0),\n",
    "#         num_adaptive_samples=int(1e3),\n",
    "    ).get_chain()\n",
    "    elapsed_time_inference_beanmachine = time.time() - inference_start\n",
    "\n",
    "    timing_info = {\n",
    "        \"compile_time\": elapsed_time_compile_beanmachine,\n",
    "        \"inference_time\": elapsed_time_inference_beanmachine,\n",
    "    }\n",
    "\n",
    "    samples_formatted = pd.DataFrame()\n",
    "    samples_formatted[\"beta_0\"] = samples.get_variable(model.beta_0())\n",
    "    for _i, level in enumerate([\"district\", \"state\", \"type\"]):\n",
    "        samples_formatted[f\"sd_{level}\"] = samples.get_variable(model.sds(_i))\n",
    "\n",
    "        u_i = samples.get_variable(model.u(_i))\n",
    "        for j in range(model._u_sizes[_i]):\n",
    "            if level == \"district\":\n",
    "                state = int(j / num_districts)\n",
    "                district = j % num_districts\n",
    "                samples_formatted[f\"beta_state_{state}_district_{district}\"] = u_i[\n",
    "                    :, j\n",
    "                ]\n",
    "            else:\n",
    "                samples_formatted[f\"beta_{level}_{j}\"] = u_i[:, j]\n",
    "    \n",
    "    (\n",
    "        posterior_samples[ppl][i],\n",
    "        timing_infos[ppl][i],\n",
    "    ) = samples_formatted, timing_info\n",
    "    \n",
    "    model = _model\n",
    "    \n",
    "    # compute posterior predictive\n",
    "    posterior_predictive[ppl][i] = model.evaluate_posterior_predictive(\n",
    "        samples=posterior_samples[ppl][i].copy(),\n",
    "        data_test=generated_data[\"data_test\"],\n",
    "        model=model_instance,\n",
    "    )\n",
    "    print(\n",
    "        f\"Trial {i + 1} \"\n",
    "        f'complete in {timing_infos[ppl][i][\"inference_time\"]} '\n",
    "        \"seconds.\\n Statistics of  posterior predictive\\n mean:\"\n",
    "        f\"{np.array(posterior_predictive[ppl][i]).mean()}\"\n",
    "        f\"\\n var: {np.array(posterior_predictive[ppl][i]).var()}\"\n",
    "    )"
   ]
  },
  {
   "cell_type": "code",
   "execution_count": 5,
   "metadata": {},
   "outputs": [
    {
     "name": "stdout",
     "output_type": "stream",
     "text": [
      "Starting trial 1 of 10\n"
     ]
    },
    {
     "data": {
      "application/vnd.jupyter.widget-view+json": {
       "model_id": "5909d10c09594882bd62a357ad1453aa",
       "version_major": 2,
       "version_minor": 0
      },
      "text/plain": [
       "HBox(children=(FloatProgress(value=0.0, description='Samples collected', style=ProgressStyle(description_width…"
      ]
     },
     "metadata": {},
     "output_type": "display_data"
    },
    {
     "name": "stdout",
     "output_type": "stream",
     "text": [
      "\n",
      "Trial 1 complete in 22.29210090637207 seconds.\n",
      " Statistics of  posterior predictive\n",
      " mean:-30.7333423439083\n",
      " var: 119.9547044113631\n",
      "Starting trial 2 of 10\n"
     ]
    },
    {
     "data": {
      "application/vnd.jupyter.widget-view+json": {
       "model_id": "39daa466e6fb4beba0b5f225bdec900d",
       "version_major": 2,
       "version_minor": 0
      },
      "text/plain": [
       "HBox(children=(FloatProgress(value=0.0, description='Samples collected', style=ProgressStyle(description_width…"
      ]
     },
     "metadata": {},
     "output_type": "display_data"
    },
    {
     "name": "stdout",
     "output_type": "stream",
     "text": [
      "\n",
      "Trial 2 complete in 22.86727285385132 seconds.\n",
      " Statistics of  posterior predictive\n",
      " mean:-14.37076373485502\n",
      " var: 46.946032159136706\n",
      "Starting trial 3 of 10\n"
     ]
    },
    {
     "data": {
      "application/vnd.jupyter.widget-view+json": {
       "model_id": "e4a88789a3df4d2bbacf86b2a31637d0",
       "version_major": 2,
       "version_minor": 0
      },
      "text/plain": [
       "HBox(children=(FloatProgress(value=0.0, description='Samples collected', style=ProgressStyle(description_width…"
      ]
     },
     "metadata": {},
     "output_type": "display_data"
    },
    {
     "name": "stdout",
     "output_type": "stream",
     "text": [
      "\n",
      "Trial 3 complete in 22.342613220214844 seconds.\n",
      " Statistics of  posterior predictive\n",
      " mean:-15.665518786761446\n",
      " var: 184.6062371557077\n",
      "Starting trial 4 of 10\n"
     ]
    },
    {
     "data": {
      "application/vnd.jupyter.widget-view+json": {
       "model_id": "1dde3ad4e5ff4edcad403fd2689f11ef",
       "version_major": 2,
       "version_minor": 0
      },
      "text/plain": [
       "HBox(children=(FloatProgress(value=0.0, description='Samples collected', style=ProgressStyle(description_width…"
      ]
     },
     "metadata": {},
     "output_type": "display_data"
    },
    {
     "name": "stdout",
     "output_type": "stream",
     "text": [
      "\n",
      "Trial 4 complete in 22.19943404197693 seconds.\n",
      " Statistics of  posterior predictive\n",
      " mean:-22.165564064261094\n",
      " var: 44.100984557554554\n",
      "Starting trial 5 of 10\n"
     ]
    },
    {
     "data": {
      "application/vnd.jupyter.widget-view+json": {
       "model_id": "40a13ba2b017447b850d184dcbc41380",
       "version_major": 2,
       "version_minor": 0
      },
      "text/plain": [
       "HBox(children=(FloatProgress(value=0.0, description='Samples collected', style=ProgressStyle(description_width…"
      ]
     },
     "metadata": {},
     "output_type": "display_data"
    },
    {
     "name": "stdout",
     "output_type": "stream",
     "text": [
      "\n",
      "Trial 5 complete in 21.455495595932007 seconds.\n",
      " Statistics of  posterior predictive\n",
      " mean:-34.81737427719633\n",
      " var: 329.164941246067\n",
      "Starting trial 6 of 10\n"
     ]
    },
    {
     "data": {
      "application/vnd.jupyter.widget-view+json": {
       "model_id": "beb2df77a58a4ef1aa764512a60fb4f9",
       "version_major": 2,
       "version_minor": 0
      },
      "text/plain": [
       "HBox(children=(FloatProgress(value=0.0, description='Samples collected', style=ProgressStyle(description_width…"
      ]
     },
     "metadata": {},
     "output_type": "display_data"
    },
    {
     "name": "stdout",
     "output_type": "stream",
     "text": [
      "\n",
      "Trial 6 complete in 22.522618293762207 seconds.\n",
      " Statistics of  posterior predictive\n",
      " mean:-22.461130482373488\n",
      " var: 31.359946902870316\n",
      "Starting trial 7 of 10\n"
     ]
    },
    {
     "data": {
      "application/vnd.jupyter.widget-view+json": {
       "model_id": "c76559844bcf4464a451198529936682",
       "version_major": 2,
       "version_minor": 0
      },
      "text/plain": [
       "HBox(children=(FloatProgress(value=0.0, description='Samples collected', style=ProgressStyle(description_width…"
      ]
     },
     "metadata": {},
     "output_type": "display_data"
    },
    {
     "name": "stdout",
     "output_type": "stream",
     "text": [
      "\n",
      "Trial 7 complete in 21.94502854347229 seconds.\n",
      " Statistics of  posterior predictive\n",
      " mean:-31.362475716209072\n",
      " var: 114.2222738961922\n",
      "Starting trial 8 of 10\n"
     ]
    },
    {
     "data": {
      "application/vnd.jupyter.widget-view+json": {
       "model_id": "1893c9cffbb64ec19ac69cf8f68cda9a",
       "version_major": 2,
       "version_minor": 0
      },
      "text/plain": [
       "HBox(children=(FloatProgress(value=0.0, description='Samples collected', style=ProgressStyle(description_width…"
      ]
     },
     "metadata": {},
     "output_type": "display_data"
    },
    {
     "name": "stdout",
     "output_type": "stream",
     "text": [
      "\n",
      "Trial 8 complete in 22.913940906524658 seconds.\n",
      " Statistics of  posterior predictive\n",
      " mean:-17.793349845400733\n",
      " var: 11.535964814356038\n",
      "Starting trial 9 of 10\n"
     ]
    },
    {
     "data": {
      "application/vnd.jupyter.widget-view+json": {
       "model_id": "7f40bbb6c2284bd180f57c5b764cc1a1",
       "version_major": 2,
       "version_minor": 0
      },
      "text/plain": [
       "HBox(children=(FloatProgress(value=0.0, description='Samples collected', style=ProgressStyle(description_width…"
      ]
     },
     "metadata": {},
     "output_type": "display_data"
    },
    {
     "name": "stdout",
     "output_type": "stream",
     "text": [
      "\n",
      "Trial 9 complete in 21.63244128227234 seconds.\n",
      " Statistics of  posterior predictive\n",
      " mean:-25.99566608347975\n",
      " var: 172.66448853081914\n",
      "Starting trial 10 of 10\n"
     ]
    },
    {
     "data": {
      "application/vnd.jupyter.widget-view+json": {
       "model_id": "f9fbfdfd9cdd478fb6cad5ce3a2c21aa",
       "version_major": 2,
       "version_minor": 0
      },
      "text/plain": [
       "HBox(children=(FloatProgress(value=0.0, description='Samples collected', style=ProgressStyle(description_width…"
      ]
     },
     "metadata": {},
     "output_type": "display_data"
    },
    {
     "name": "stdout",
     "output_type": "stream",
     "text": [
      "\n",
      "Trial 10 complete in 21.70352792739868 seconds.\n",
      " Statistics of  posterior predictive\n",
      " mean:-22.153811724456283\n",
      " var: 34.46041499811062\n"
     ]
    }
   ],
   "source": [
    "import time\n",
    "import numpy as np\n",
    "import pandas as pd\n",
    "\n",
    "import pplbench.models.n_schools_model as model\n",
    "\n",
    "_model = model\n",
    "\n",
    "args_dict = model.get_defaults()\n",
    "args_dict[\"trials\"] = 10\n",
    "args_dict[\"plot_data_size\"] = 100\n",
    "args_dict[\"inference_type\"] = \"mcmc-uniform\"\n",
    "args_dict[\"num_samples\"] = 100\n",
    "args_dict[\"num_samples_beanmachine_vectorized\"] = 100\n",
    "\n",
    "ppl = 'BM_uniform'\n",
    "timing_infos[ppl] = [None] * int(args_dict[\"trials\"])\n",
    "posterior_samples[ppl] = [None] * int(args_dict[\"trials\"])\n",
    "posterior_predictive[ppl] = [None] * int(args_dict[\"trials\"])\n",
    "ic = None\n",
    "# start trial loop\n",
    "for i in range(int(args_dict[\"trials\"])):\n",
    "    print(\"Starting trial\", i + 1, \"of\", args_dict[\"trials\"])\n",
    "    \n",
    "    # obtain posterior samples and timing info\n",
    "    data_train=generated_data[\"data_train\"]\n",
    "    num_samples = args_dict[\"num_samples_beanmachine_vectorized\"]\n",
    "    num_states, num_districts, num_types = [int(x) for x in args_dict[\"model_args\"]]\n",
    "\n",
    "    compile_start = time.time()\n",
    "    model = NSchoolsVectorizedModel(\n",
    "        data_train,\n",
    "        inference_type=args_dict[\"inference_type\"],\n",
    "        num_samples=num_samples,\n",
    "        num_districts=num_districts,\n",
    "        num_states=num_states,\n",
    "        num_types=num_types,\n",
    "        num_worlds=1e3,\n",
    "        gmm_num_components=10,\n",
    "        node_embedding_dim=32,\n",
    "        mb_embedding_dim=32,\n",
    "        batch_size=1,\n",
    "        lr=1e-4,\n",
    "        wd=1e-5,\n",
    "    )\n",
    "    elapsed_time_compile_beanmachine = time.time() - compile_start\n",
    "\n",
    "    inference_start = time.time()\n",
    "    samples = model.infer(\n",
    "        num_adaptive_samples=int(0),\n",
    "#         num_adaptive_samples=int(1e3),\n",
    "    ).get_chain()\n",
    "    elapsed_time_inference_beanmachine = time.time() - inference_start\n",
    "\n",
    "    timing_info = {\n",
    "        \"compile_time\": elapsed_time_compile_beanmachine,\n",
    "        \"inference_time\": elapsed_time_inference_beanmachine,\n",
    "    }\n",
    "\n",
    "    samples_formatted = pd.DataFrame()\n",
    "    samples_formatted[\"beta_0\"] = samples.get_variable(model.beta_0())\n",
    "    for _i, level in enumerate([\"district\", \"state\", \"type\"]):\n",
    "        samples_formatted[f\"sd_{level}\"] = samples.get_variable(model.sds(_i))\n",
    "\n",
    "        u_i = samples.get_variable(model.u(_i))\n",
    "        for j in range(model._u_sizes[_i]):\n",
    "            if level == \"district\":\n",
    "                state = int(j / num_districts)\n",
    "                district = j % num_districts\n",
    "                samples_formatted[f\"beta_state_{state}_district_{district}\"] = u_i[\n",
    "                    :, j\n",
    "                ]\n",
    "            else:\n",
    "                samples_formatted[f\"beta_{level}_{j}\"] = u_i[:, j]\n",
    "    \n",
    "    (\n",
    "        posterior_samples[ppl][i],\n",
    "        timing_infos[ppl][i],\n",
    "    ) = samples_formatted, timing_info\n",
    "    \n",
    "    model = _model\n",
    "    \n",
    "    # compute posterior predictive\n",
    "    posterior_predictive[ppl][i] = model.evaluate_posterior_predictive(\n",
    "        samples=posterior_samples[ppl][i].copy(),\n",
    "        data_test=generated_data[\"data_test\"],\n",
    "        model=model_instance,\n",
    "    )\n",
    "    print(\n",
    "        f\"Trial {i + 1} \"\n",
    "        f'complete in {timing_infos[ppl][i][\"inference_time\"]} '\n",
    "        \"seconds.\\n Statistics of  posterior predictive\\n mean:\"\n",
    "        f\"{np.array(posterior_predictive[ppl][i]).mean()}\"\n",
    "        f\"\\n var: {np.array(posterior_predictive[ppl][i]).var()}\"\n",
    "    )"
   ]
  },
  {
   "cell_type": "code",
   "execution_count": 6,
   "metadata": {},
   "outputs": [],
   "source": [
    "# import time\n",
    "# import numpy as np\n",
    "# import pandas as pd\n",
    "\n",
    "# import pplbench.models.n_schools_model as model\n",
    "\n",
    "# _model = model\n",
    "\n",
    "# args_dict = model.get_defaults()\n",
    "# args_dict[\"trials\"] = 5\n",
    "# args_dict[\"plot_data_size\"] = 100\n",
    "# args_dict[\"inference_type\"] = \"mcmc-hmc\"\n",
    "# args_dict[\"num_samples\"] = 100\n",
    "# args_dict[\"num_samples_beanmachine_vectorized\"] = 100\n",
    "\n",
    "# model_instance = model.generate_model(args_dict)\n",
    "# generated_data = model.generate_data(args_dict=args_dict, model=model_instance)\n",
    "# ppl_instance = NSchoolsVectorized()\n",
    "\n",
    "\n",
    "# ppl = 'BM_hmc'\n",
    "# timing_infos[ppl] = [None] * int(args_dict[\"trials\"])\n",
    "# posterior_samples[ppl] = [None] * int(args_dict[\"trials\"])\n",
    "# posterior_predictive[ppl] = [None] * int(args_dict[\"trials\"])\n",
    "# ic = None\n",
    "# # start trial loop\n",
    "# for i in range(int(args_dict[\"trials\"])):\n",
    "#     print(\"Starting trial\", i + 1, \"of\", args_dict[\"trials\"])\n",
    "    \n",
    "#     # obtain posterior samples and timing info\n",
    "#     data_train=generated_data[\"data_train\"]\n",
    "#     num_samples = args_dict[\"num_samples_beanmachine_vectorized\"]\n",
    "#     num_states, num_districts, num_types = [int(x) for x in args_dict[\"model_args\"]]\n",
    "\n",
    "#     compile_start = time.time()\n",
    "#     model = NSchoolsVectorizedModel(\n",
    "#         data_train,\n",
    "#         inference_type=args_dict[\"inference_type\"],\n",
    "#         num_samples=num_samples,\n",
    "#         num_districts=num_districts,\n",
    "#         num_states=num_states,\n",
    "#         num_types=num_types,\n",
    "#         num_worlds=1e3,\n",
    "#         gmm_num_components=10,\n",
    "#         node_embedding_dim=32,\n",
    "#         mb_embedding_dim=32,\n",
    "#         batch_size=1,\n",
    "#         lr=1e-4,\n",
    "#         wd=1e-5,\n",
    "#     )\n",
    "#     elapsed_time_compile_beanmachine = time.time() - compile_start\n",
    "\n",
    "#     inference_start = time.time()\n",
    "#     samples = model.infer(\n",
    "#         num_adaptive_samples=int(0),\n",
    "# #         num_adaptive_samples=int(1e3),\n",
    "#     ).get_chain()\n",
    "#     elapsed_time_inference_beanmachine = time.time() - inference_start\n",
    "\n",
    "#     timing_info = {\n",
    "#         \"compile_time\": elapsed_time_compile_beanmachine,\n",
    "#         \"inference_time\": elapsed_time_inference_beanmachine,\n",
    "#     }\n",
    "\n",
    "#     samples_formatted = pd.DataFrame()\n",
    "#     samples_formatted[\"beta_0\"] = samples.get_variable(model.beta_0())\n",
    "#     for _i, level in enumerate([\"district\", \"state\", \"type\"]):\n",
    "#         samples_formatted[f\"sd_{level}\"] = samples.get_variable(model.sds(_i))\n",
    "\n",
    "#         u_i = samples.get_variable(model.u(_i))\n",
    "#         for j in range(model._u_sizes[_i]):\n",
    "#             if level == \"district\":\n",
    "#                 state = int(j / num_districts)\n",
    "#                 district = j % num_districts\n",
    "#                 samples_formatted[f\"beta_state_{state}_district_{district}\"] = u_i[\n",
    "#                     :, j\n",
    "#                 ]\n",
    "#             else:\n",
    "#                 samples_formatted[f\"beta_{level}_{j}\"] = u_i[:, j]\n",
    "    \n",
    "#     (\n",
    "#         posterior_samples[ppl][i],\n",
    "#         timing_infos[ppl][i],\n",
    "#     ) = samples_formatted, timing_info\n",
    "    \n",
    "#     model = _model\n",
    "    \n",
    "#     # compute posterior predictive\n",
    "#     posterior_predictive[ppl][i] = model.evaluate_posterior_predictive(\n",
    "#         samples=posterior_samples[ppl][i].copy(),\n",
    "#         data_test=generated_data[\"data_test\"],\n",
    "#         model=model_instance,\n",
    "#     )\n",
    "#     print(\n",
    "#         f\"Trial {i + 1} \"\n",
    "#         f'complete in {timing_infos[ppl][i][\"inference_time\"]} '\n",
    "#         \"seconds.\\n Statistics of  posterior predictive\\n mean:\"\n",
    "#         f\"{np.array(posterior_predictive[ppl][i]).mean()}\"\n",
    "#         f\"\\n var: {np.array(posterior_predictive[ppl][i]).var()}\"\n",
    "#     )"
   ]
  },
  {
   "cell_type": "code",
   "execution_count": 7,
   "metadata": {},
   "outputs": [
    {
     "name": "stdout",
     "output_type": "stream",
     "text": [
      "Starting trial 1 of 10\n"
     ]
    },
    {
     "data": {
      "application/vnd.jupyter.widget-view+json": {
       "model_id": "761ca72cfe4a4a79b5c70780752e917b",
       "version_major": 2,
       "version_minor": 0
      },
      "text/plain": [
       "HBox(children=(FloatProgress(value=0.0, description='Samples collected', style=ProgressStyle(description_width…"
      ]
     },
     "metadata": {},
     "output_type": "display_data"
    },
    {
     "name": "stdout",
     "output_type": "stream",
     "text": [
      "\n",
      "Trial 1 complete in 21.714799642562866 seconds.\n",
      " Statistics of  posterior predictive\n",
      " mean:2.042910095745667\n",
      " var: 4.666072126936848\n",
      "Starting trial 2 of 10\n"
     ]
    },
    {
     "data": {
      "application/vnd.jupyter.widget-view+json": {
       "model_id": "22cf9725900747efa27d89a871afbe11",
       "version_major": 2,
       "version_minor": 0
      },
      "text/plain": [
       "HBox(children=(FloatProgress(value=0.0, description='Samples collected', style=ProgressStyle(description_width…"
      ]
     },
     "metadata": {},
     "output_type": "display_data"
    },
    {
     "name": "stdout",
     "output_type": "stream",
     "text": [
      "\n",
      "Trial 2 complete in 23.548874855041504 seconds.\n",
      " Statistics of  posterior predictive\n",
      " mean:2.8653711302244154\n",
      " var: 2.6024231978180996\n",
      "Starting trial 3 of 10\n"
     ]
    },
    {
     "data": {
      "application/vnd.jupyter.widget-view+json": {
       "model_id": "6ae3c3c1a1e24f2286ed6745ebad7083",
       "version_major": 2,
       "version_minor": 0
      },
      "text/plain": [
       "HBox(children=(FloatProgress(value=0.0, description='Samples collected', style=ProgressStyle(description_width…"
      ]
     },
     "metadata": {},
     "output_type": "display_data"
    },
    {
     "name": "stdout",
     "output_type": "stream",
     "text": [
      "\n",
      "Trial 3 complete in 25.295844554901123 seconds.\n",
      " Statistics of  posterior predictive\n",
      " mean:3.0621577727716254\n",
      " var: 0.8912370103594579\n",
      "Starting trial 4 of 10\n"
     ]
    },
    {
     "data": {
      "application/vnd.jupyter.widget-view+json": {
       "model_id": "7738ae18ad4f44c7b6f47524c398ca5b",
       "version_major": 2,
       "version_minor": 0
      },
      "text/plain": [
       "HBox(children=(FloatProgress(value=0.0, description='Samples collected', style=ProgressStyle(description_width…"
      ]
     },
     "metadata": {},
     "output_type": "display_data"
    },
    {
     "name": "stdout",
     "output_type": "stream",
     "text": [
      "\n",
      "Trial 4 complete in 24.5461745262146 seconds.\n",
      " Statistics of  posterior predictive\n",
      " mean:3.1853845945760657\n",
      " var: 0.1666850285046411\n",
      "Starting trial 5 of 10\n"
     ]
    },
    {
     "data": {
      "application/vnd.jupyter.widget-view+json": {
       "model_id": "e1413329a6494f2fa2f36030363f6192",
       "version_major": 2,
       "version_minor": 0
      },
      "text/plain": [
       "HBox(children=(FloatProgress(value=0.0, description='Samples collected', style=ProgressStyle(description_width…"
      ]
     },
     "metadata": {},
     "output_type": "display_data"
    },
    {
     "name": "stdout",
     "output_type": "stream",
     "text": [
      "\n",
      "Trial 5 complete in 24.86508846282959 seconds.\n",
      " Statistics of  posterior predictive\n",
      " mean:1.725474115354107\n",
      " var: 4.3928568736407865\n",
      "Starting trial 6 of 10\n"
     ]
    },
    {
     "data": {
      "application/vnd.jupyter.widget-view+json": {
       "model_id": "5068f85087ac406ea0f88118294cbad9",
       "version_major": 2,
       "version_minor": 0
      },
      "text/plain": [
       "HBox(children=(FloatProgress(value=0.0, description='Samples collected', style=ProgressStyle(description_width…"
      ]
     },
     "metadata": {},
     "output_type": "display_data"
    },
    {
     "name": "stdout",
     "output_type": "stream",
     "text": [
      "\n",
      "Trial 6 complete in 23.369320392608643 seconds.\n",
      " Statistics of  posterior predictive\n",
      " mean:1.1506635702950765\n",
      " var: 9.643470619254574\n",
      "Starting trial 7 of 10\n"
     ]
    },
    {
     "data": {
      "application/vnd.jupyter.widget-view+json": {
       "model_id": "47a95423915242578417014d2b123b62",
       "version_major": 2,
       "version_minor": 0
      },
      "text/plain": [
       "HBox(children=(FloatProgress(value=0.0, description='Samples collected', style=ProgressStyle(description_width…"
      ]
     },
     "metadata": {},
     "output_type": "display_data"
    },
    {
     "name": "stdout",
     "output_type": "stream",
     "text": [
      "\n",
      "Trial 7 complete in 22.20425820350647 seconds.\n",
      " Statistics of  posterior predictive\n",
      " mean:-5.410391234973113\n",
      " var: 27.731857361229707\n",
      "Starting trial 8 of 10\n"
     ]
    },
    {
     "data": {
      "application/vnd.jupyter.widget-view+json": {
       "model_id": "03ea2611e10247acb11e429b73e89404",
       "version_major": 2,
       "version_minor": 0
      },
      "text/plain": [
       "HBox(children=(FloatProgress(value=0.0, description='Samples collected', style=ProgressStyle(description_width…"
      ]
     },
     "metadata": {},
     "output_type": "display_data"
    },
    {
     "name": "stdout",
     "output_type": "stream",
     "text": [
      "\n",
      "Trial 8 complete in 23.319977283477783 seconds.\n",
      " Statistics of  posterior predictive\n",
      " mean:3.2647257679136628\n",
      " var: 0.4722787500270838\n",
      "Starting trial 9 of 10\n"
     ]
    },
    {
     "data": {
      "application/vnd.jupyter.widget-view+json": {
       "model_id": "cd7ef0f578634fb582e15f73dd26a274",
       "version_major": 2,
       "version_minor": 0
      },
      "text/plain": [
       "HBox(children=(FloatProgress(value=0.0, description='Samples collected', style=ProgressStyle(description_width…"
      ]
     },
     "metadata": {},
     "output_type": "display_data"
    },
    {
     "name": "stdout",
     "output_type": "stream",
     "text": [
      "\n",
      "Trial 9 complete in 22.228455781936646 seconds.\n",
      " Statistics of  posterior predictive\n",
      " mean:0.8157129925901973\n",
      " var: 6.089538412899258\n",
      "Starting trial 10 of 10\n"
     ]
    },
    {
     "data": {
      "application/vnd.jupyter.widget-view+json": {
       "model_id": "37950ad37b1f4b15a25f45c032d839a0",
       "version_major": 2,
       "version_minor": 0
      },
      "text/plain": [
       "HBox(children=(FloatProgress(value=0.0, description='Samples collected', style=ProgressStyle(description_width…"
      ]
     },
     "metadata": {},
     "output_type": "display_data"
    },
    {
     "name": "stdout",
     "output_type": "stream",
     "text": [
      "\n",
      "Trial 10 complete in 22.735130310058594 seconds.\n",
      " Statistics of  posterior predictive\n",
      " mean:1.5045350278669625\n",
      " var: 7.541933767876494\n"
     ]
    }
   ],
   "source": [
    "import time\n",
    "import numpy as np\n",
    "import pandas as pd\n",
    "\n",
    "import pplbench.models.n_schools_model as model\n",
    "\n",
    "_model = model\n",
    "\n",
    "args_dict = model.get_defaults()\n",
    "args_dict[\"trials\"] = 10\n",
    "args_dict[\"plot_data_size\"] = 100\n",
    "args_dict[\"inference_type\"] = \"mcmc-rw\"\n",
    "args_dict[\"num_samples\"] = 100\n",
    "args_dict[\"num_samples_beanmachine_vectorized\"] = 100\n",
    "\n",
    "\n",
    "ppl = 'BM_RW'\n",
    "timing_infos[ppl] = [None] * int(args_dict[\"trials\"])\n",
    "posterior_samples[ppl] = [None] * int(args_dict[\"trials\"])\n",
    "posterior_predictive[ppl] = [None] * int(args_dict[\"trials\"])\n",
    "ic = None\n",
    "# start trial loop\n",
    "for i in range(int(args_dict[\"trials\"])):\n",
    "    print(\"Starting trial\", i + 1, \"of\", args_dict[\"trials\"])\n",
    "    \n",
    "    # obtain posterior samples and timing info\n",
    "    data_train=generated_data[\"data_train\"]\n",
    "    num_samples = args_dict[\"num_samples_beanmachine_vectorized\"]\n",
    "    num_states, num_districts, num_types = [int(x) for x in args_dict[\"model_args\"]]\n",
    "\n",
    "    compile_start = time.time()\n",
    "    model = NSchoolsVectorizedModel(\n",
    "        data_train,\n",
    "        inference_type=args_dict[\"inference_type\"],\n",
    "        num_samples=num_samples,\n",
    "        num_districts=num_districts,\n",
    "        num_states=num_states,\n",
    "        num_types=num_types,\n",
    "        num_worlds=1e3,\n",
    "        gmm_num_components=10,\n",
    "        node_embedding_dim=32,\n",
    "        mb_embedding_dim=32,\n",
    "        batch_size=1,\n",
    "        lr=1e-4,\n",
    "        wd=1e-5,\n",
    "    )\n",
    "    elapsed_time_compile_beanmachine = time.time() - compile_start\n",
    "\n",
    "    inference_start = time.time()\n",
    "    samples = model.infer(\n",
    "        num_adaptive_samples=int(0),\n",
    "#         num_adaptive_samples=int(1e3),\n",
    "    ).get_chain()\n",
    "    elapsed_time_inference_beanmachine = time.time() - inference_start\n",
    "\n",
    "    timing_info = {\n",
    "        \"compile_time\": elapsed_time_compile_beanmachine,\n",
    "        \"inference_time\": elapsed_time_inference_beanmachine,\n",
    "    }\n",
    "\n",
    "    samples_formatted = pd.DataFrame()\n",
    "    samples_formatted[\"beta_0\"] = samples.get_variable(model.beta_0())\n",
    "    for _i, level in enumerate([\"district\", \"state\", \"type\"]):\n",
    "        samples_formatted[f\"sd_{level}\"] = samples.get_variable(model.sds(_i))\n",
    "\n",
    "        u_i = samples.get_variable(model.u(_i))\n",
    "        for j in range(model._u_sizes[_i]):\n",
    "            if level == \"district\":\n",
    "                state = int(j / num_districts)\n",
    "                district = j % num_districts\n",
    "                samples_formatted[f\"beta_state_{state}_district_{district}\"] = u_i[\n",
    "                    :, j\n",
    "                ]\n",
    "            else:\n",
    "                samples_formatted[f\"beta_{level}_{j}\"] = u_i[:, j]\n",
    "    \n",
    "    (\n",
    "        posterior_samples[ppl][i],\n",
    "        timing_infos[ppl][i],\n",
    "    ) = samples_formatted, timing_info\n",
    "    \n",
    "    model = _model\n",
    "    \n",
    "    # compute posterior predictive\n",
    "    posterior_predictive[ppl][i] = model.evaluate_posterior_predictive(\n",
    "        samples=posterior_samples[ppl][i].copy(),\n",
    "        data_test=generated_data[\"data_test\"],\n",
    "        model=model_instance,\n",
    "    )\n",
    "    print(\n",
    "        f\"Trial {i + 1} \"\n",
    "        f'complete in {timing_infos[ppl][i][\"inference_time\"]} '\n",
    "        \"seconds.\\n Statistics of  posterior predictive\\n mean:\"\n",
    "        f\"{np.array(posterior_predictive[ppl][i]).mean()}\"\n",
    "        f\"\\n var: {np.array(posterior_predictive[ppl][i]).var()}\"\n",
    "    )"
   ]
  },
  {
   "cell_type": "code",
   "execution_count": 8,
   "metadata": {},
   "outputs": [
    {
     "name": "stdout",
     "output_type": "stream",
     "text": [
      "Starting trial 1 of 10\n"
     ]
    },
    {
     "data": {
      "application/vnd.jupyter.widget-view+json": {
       "model_id": "5056a66f82334779b40027f6ab0bc924",
       "version_major": 2,
       "version_minor": 0
      },
      "text/plain": [
       "HBox(children=(FloatProgress(value=0.0, max=1000.0), HTML(value='')))"
      ]
     },
     "metadata": {},
     "output_type": "display_data"
    },
    {
     "name": "stdout",
     "output_type": "stream",
     "text": [
      "Loss: tensor([30.4036], grad_fn=<AddBackward0>))))))\n"
     ]
    },
    {
     "data": {
      "application/vnd.jupyter.widget-view+json": {
       "model_id": "e191300ba41746c3862ceffcfb89c3b3",
       "version_major": 2,
       "version_minor": 0
      },
      "text/plain": [
       "HBox(children=(FloatProgress(value=0.0, description='Samples collected', style=ProgressStyle(description_width…"
      ]
     },
     "metadata": {},
     "output_type": "display_data"
    },
    {
     "name": "stdout",
     "output_type": "stream",
     "text": [
      "\n",
      "Trial 1 complete in 24.161322593688965 seconds.\n",
      " Statistics of  posterior predictive\n",
      " mean:3.7139228003780573\n",
      " var: 1.4678177981745404\n",
      "Starting trial 2 of 10\n"
     ]
    },
    {
     "data": {
      "application/vnd.jupyter.widget-view+json": {
       "model_id": "6389434adb6e4d2a8b772fb9b09db134",
       "version_major": 2,
       "version_minor": 0
      },
      "text/plain": [
       "HBox(children=(FloatProgress(value=0.0, max=1000.0), HTML(value='')))"
      ]
     },
     "metadata": {},
     "output_type": "display_data"
    },
    {
     "name": "stdout",
     "output_type": "stream",
     "text": [
      "Loss: tensor([13.7712], grad_fn=<AddBackward0>))>)))\n"
     ]
    },
    {
     "data": {
      "application/vnd.jupyter.widget-view+json": {
       "model_id": "541eac44f37a481e9c8eda6f5edcb009",
       "version_major": 2,
       "version_minor": 0
      },
      "text/plain": [
       "HBox(children=(FloatProgress(value=0.0, description='Samples collected', style=ProgressStyle(description_width…"
      ]
     },
     "metadata": {},
     "output_type": "display_data"
    },
    {
     "name": "stdout",
     "output_type": "stream",
     "text": [
      "\n",
      "Trial 2 complete in 26.792700052261353 seconds.\n",
      " Statistics of  posterior predictive\n",
      " mean:-8.264353308135682\n",
      " var: 31.728110681488605\n",
      "Starting trial 3 of 10\n"
     ]
    },
    {
     "data": {
      "application/vnd.jupyter.widget-view+json": {
       "model_id": "57f34a62c4e74bc8989a9fa46bb8552d",
       "version_major": 2,
       "version_minor": 0
      },
      "text/plain": [
       "HBox(children=(FloatProgress(value=0.0, max=1000.0), HTML(value='')))"
      ]
     },
     "metadata": {},
     "output_type": "display_data"
    },
    {
     "name": "stdout",
     "output_type": "stream",
     "text": [
      "Loss: tensor([30.0185], grad_fn=<AddBackward0>))))))\n"
     ]
    },
    {
     "data": {
      "application/vnd.jupyter.widget-view+json": {
       "model_id": "39c06e6eb6f74ca6a102211fc960ea3a",
       "version_major": 2,
       "version_minor": 0
      },
      "text/plain": [
       "HBox(children=(FloatProgress(value=0.0, description='Samples collected', style=ProgressStyle(description_width…"
      ]
     },
     "metadata": {},
     "output_type": "display_data"
    },
    {
     "name": "stdout",
     "output_type": "stream",
     "text": [
      "\n",
      "Trial 3 complete in 24.847769021987915 seconds.\n",
      " Statistics of  posterior predictive\n",
      " mean:3.3203719655585426\n",
      " var: 1.713240123861237\n",
      "Starting trial 4 of 10\n"
     ]
    },
    {
     "data": {
      "application/vnd.jupyter.widget-view+json": {
       "model_id": "7cc7c8d86b92447aa2db05f4cc728717",
       "version_major": 2,
       "version_minor": 0
      },
      "text/plain": [
       "HBox(children=(FloatProgress(value=0.0, max=1000.0), HTML(value='')))"
      ]
     },
     "metadata": {},
     "output_type": "display_data"
    },
    {
     "name": "stdout",
     "output_type": "stream",
     "text": [
      "Loss: tensor([112.2905], grad_fn=<AddBackward0>)>)>)\n"
     ]
    },
    {
     "data": {
      "application/vnd.jupyter.widget-view+json": {
       "model_id": "21cca3cc1cd642e8b6a1ce608deaeac1",
       "version_major": 2,
       "version_minor": 0
      },
      "text/plain": [
       "HBox(children=(FloatProgress(value=0.0, description='Samples collected', style=ProgressStyle(description_width…"
      ]
     },
     "metadata": {},
     "output_type": "display_data"
    },
    {
     "name": "stdout",
     "output_type": "stream",
     "text": [
      "\n",
      "Trial 4 complete in 25.0601909160614 seconds.\n",
      " Statistics of  posterior predictive\n",
      " mean:3.2906050924317687\n",
      " var: 0.4660490718053422\n",
      "Starting trial 5 of 10\n"
     ]
    },
    {
     "data": {
      "application/vnd.jupyter.widget-view+json": {
       "model_id": "493294fc7ca04d949574b60683116b70",
       "version_major": 2,
       "version_minor": 0
      },
      "text/plain": [
       "HBox(children=(FloatProgress(value=0.0, max=1000.0), HTML(value='')))"
      ]
     },
     "metadata": {},
     "output_type": "display_data"
    },
    {
     "name": "stdout",
     "output_type": "stream",
     "text": [
      "Loss: tensor([35.5338], grad_fn=<AddBackward0>))>)))\n"
     ]
    },
    {
     "data": {
      "application/vnd.jupyter.widget-view+json": {
       "model_id": "202e74398cd84e999a55510a9db625a8",
       "version_major": 2,
       "version_minor": 0
      },
      "text/plain": [
       "HBox(children=(FloatProgress(value=0.0, description='Samples collected', style=ProgressStyle(description_width…"
      ]
     },
     "metadata": {},
     "output_type": "display_data"
    },
    {
     "name": "stdout",
     "output_type": "stream",
     "text": [
      "\n",
      "Trial 5 complete in 24.43287491798401 seconds.\n",
      " Statistics of  posterior predictive\n",
      " mean:4.745777018405831\n",
      " var: 0.13448182063241462\n",
      "Starting trial 6 of 10\n"
     ]
    },
    {
     "data": {
      "application/vnd.jupyter.widget-view+json": {
       "model_id": "6905dcfdae984fb5ab70d44601ef4e53",
       "version_major": 2,
       "version_minor": 0
      },
      "text/plain": [
       "HBox(children=(FloatProgress(value=0.0, max=1000.0), HTML(value='')))"
      ]
     },
     "metadata": {},
     "output_type": "display_data"
    },
    {
     "name": "stdout",
     "output_type": "stream",
     "text": [
      "Loss: tensor([104.6121], grad_fn=<AddBackward0>))0>)\n"
     ]
    },
    {
     "data": {
      "application/vnd.jupyter.widget-view+json": {
       "model_id": "e94c85086c9e419da55f97e2e5dcf2cf",
       "version_major": 2,
       "version_minor": 0
      },
      "text/plain": [
       "HBox(children=(FloatProgress(value=0.0, description='Samples collected', style=ProgressStyle(description_width…"
      ]
     },
     "metadata": {},
     "output_type": "display_data"
    },
    {
     "name": "stdout",
     "output_type": "stream",
     "text": [
      "\n",
      "Trial 6 complete in 23.683905839920044 seconds.\n",
      " Statistics of  posterior predictive\n",
      " mean:0.18543061459390572\n",
      " var: 8.577311739310653\n",
      "Starting trial 7 of 10\n"
     ]
    },
    {
     "data": {
      "application/vnd.jupyter.widget-view+json": {
       "model_id": "27ffc48226ab45529369e1a89e3e4f4e",
       "version_major": 2,
       "version_minor": 0
      },
      "text/plain": [
       "HBox(children=(FloatProgress(value=0.0, max=1000.0), HTML(value='')))"
      ]
     },
     "metadata": {},
     "output_type": "display_data"
    },
    {
     "name": "stdout",
     "output_type": "stream",
     "text": [
      "Loss: tensor([31.3718], grad_fn=<AddBackward0>)0>)>)\n"
     ]
    },
    {
     "data": {
      "application/vnd.jupyter.widget-view+json": {
       "model_id": "00c79734125c467286fdd6120f4c6caa",
       "version_major": 2,
       "version_minor": 0
      },
      "text/plain": [
       "HBox(children=(FloatProgress(value=0.0, description='Samples collected', style=ProgressStyle(description_width…"
      ]
     },
     "metadata": {},
     "output_type": "display_data"
    },
    {
     "name": "stdout",
     "output_type": "stream",
     "text": [
      "\n",
      "Trial 7 complete in 24.49493908882141 seconds.\n",
      " Statistics of  posterior predictive\n",
      " mean:4.167258833743309\n",
      " var: 0.21432956493254246\n",
      "Starting trial 8 of 10\n"
     ]
    },
    {
     "data": {
      "application/vnd.jupyter.widget-view+json": {
       "model_id": "9d06a893bfb04a0ab3d289edf6fac5fc",
       "version_major": 2,
       "version_minor": 0
      },
      "text/plain": [
       "HBox(children=(FloatProgress(value=0.0, max=1000.0), HTML(value='')))"
      ]
     },
     "metadata": {},
     "output_type": "display_data"
    },
    {
     "name": "stdout",
     "output_type": "stream",
     "text": [
      "Loss: tensor([34.3804], grad_fn=<AddBackward0>))>)))\n"
     ]
    },
    {
     "data": {
      "application/vnd.jupyter.widget-view+json": {
       "model_id": "e65ed04cd65e41a38bcbdc4ce606f9cd",
       "version_major": 2,
       "version_minor": 0
      },
      "text/plain": [
       "HBox(children=(FloatProgress(value=0.0, description='Samples collected', style=ProgressStyle(description_width…"
      ]
     },
     "metadata": {},
     "output_type": "display_data"
    },
    {
     "name": "stdout",
     "output_type": "stream",
     "text": [
      "\n",
      "Trial 8 complete in 23.696625471115112 seconds.\n",
      " Statistics of  posterior predictive\n",
      " mean:2.288248417798044\n",
      " var: 0.9383122314636202\n",
      "Starting trial 9 of 10\n"
     ]
    },
    {
     "data": {
      "application/vnd.jupyter.widget-view+json": {
       "model_id": "bb28a6051c914797a745fb01bc6c6703",
       "version_major": 2,
       "version_minor": 0
      },
      "text/plain": [
       "HBox(children=(FloatProgress(value=0.0, max=1000.0), HTML(value='')))"
      ]
     },
     "metadata": {},
     "output_type": "display_data"
    },
    {
     "name": "stdout",
     "output_type": "stream",
     "text": [
      "Loss: tensor([7.9957], grad_fn=<AddBackward0>)))))>)\n"
     ]
    },
    {
     "data": {
      "application/vnd.jupyter.widget-view+json": {
       "model_id": "7abc00d0b6b74645b62bcb8ba95565f2",
       "version_major": 2,
       "version_minor": 0
      },
      "text/plain": [
       "HBox(children=(FloatProgress(value=0.0, description='Samples collected', style=ProgressStyle(description_width…"
      ]
     },
     "metadata": {},
     "output_type": "display_data"
    },
    {
     "name": "stdout",
     "output_type": "stream",
     "text": [
      "\n",
      "Trial 9 complete in 24.05576181411743 seconds.\n",
      " Statistics of  posterior predictive\n",
      " mean:1.461104321044111\n",
      " var: 6.8452788544852865\n",
      "Starting trial 10 of 10\n"
     ]
    },
    {
     "data": {
      "application/vnd.jupyter.widget-view+json": {
       "model_id": "b93528f8c7a1455a9b8f71e5b602b714",
       "version_major": 2,
       "version_minor": 0
      },
      "text/plain": [
       "HBox(children=(FloatProgress(value=0.0, max=1000.0), HTML(value='')))"
      ]
     },
     "metadata": {},
     "output_type": "display_data"
    },
    {
     "name": "stdout",
     "output_type": "stream",
     "text": [
      "Loss: tensor([30.5340], grad_fn=<AddBackward0>)0>)))\n"
     ]
    },
    {
     "data": {
      "application/vnd.jupyter.widget-view+json": {
       "model_id": "6f6c088682bb4084a89864af97733511",
       "version_major": 2,
       "version_minor": 0
      },
      "text/plain": [
       "HBox(children=(FloatProgress(value=0.0, description='Samples collected', style=ProgressStyle(description_width…"
      ]
     },
     "metadata": {},
     "output_type": "display_data"
    },
    {
     "name": "stdout",
     "output_type": "stream",
     "text": [
      "\n",
      "Trial 10 complete in 24.754242420196533 seconds.\n",
      " Statistics of  posterior predictive\n",
      " mean:-5.861036530540998\n",
      " var: 12.936418263555733\n"
     ]
    }
   ],
   "source": [
    "import time\n",
    "import numpy as np\n",
    "import pandas as pd\n",
    "\n",
    "import pplbench.models.n_schools_model as model\n",
    "\n",
    "\n",
    "_model = model\n",
    "\n",
    "args_dict = model.get_defaults()\n",
    "args_dict[\"trials\"] = 10\n",
    "args_dict[\"plot_data_size\"] = 100\n",
    "args_dict[\"inference_type\"] = \"ic\"\n",
    "args_dict[\"num_samples\"] = 100\n",
    "args_dict[\"num_samples_beanmachine_vectorized\"] = 100\n",
    "\n",
    "ppl = 'BM_IC'\n",
    "timing_infos[ppl] = [None] * int(args_dict[\"trials\"])\n",
    "posterior_samples[ppl] = [None] * int(args_dict[\"trials\"])\n",
    "posterior_predictive[ppl] = [None] * int(args_dict[\"trials\"])\n",
    "ic = None\n",
    "# start trial loop\n",
    "for i in range(int(args_dict[\"trials\"])):\n",
    "    print(\"Starting trial\", i + 1, \"of\", args_dict[\"trials\"])\n",
    "    \n",
    "    # obtain posterior samples and timing info\n",
    "    data_train=generated_data[\"data_train\"]\n",
    "    num_samples = args_dict[\"num_samples_beanmachine_vectorized\"]\n",
    "    num_states, num_districts, num_types = [int(x) for x in args_dict[\"model_args\"]]\n",
    "\n",
    "    compile_start = time.time()\n",
    "    model = NSchoolsVectorizedModel(\n",
    "        data_train,\n",
    "        inference_type=args_dict[\"inference_type\"],\n",
    "        num_samples=num_samples,\n",
    "        num_districts=num_districts,\n",
    "        num_states=num_states,\n",
    "        num_types=num_types,\n",
    "        num_worlds=1e3,\n",
    "        gmm_num_components=10,\n",
    "        node_embedding_dim=32,\n",
    "        mb_embedding_dim=32,\n",
    "        batch_size=1,\n",
    "        lr=1e-5,\n",
    "        wd=1e-6,\n",
    "    )\n",
    "    elapsed_time_compile_beanmachine = time.time() - compile_start\n",
    "\n",
    "    inference_start = time.time()\n",
    "    samples = model.infer(\n",
    "        num_adaptive_samples=int(0),\n",
    "#         num_adaptive_samples=int(1e3),\n",
    "    ).get_chain()\n",
    "    elapsed_time_inference_beanmachine = time.time() - inference_start\n",
    "\n",
    "    timing_info = {\n",
    "        \"compile_time\": elapsed_time_compile_beanmachine,\n",
    "        \"inference_time\": elapsed_time_inference_beanmachine,\n",
    "    }\n",
    "\n",
    "    samples_formatted = pd.DataFrame()\n",
    "    samples_formatted[\"beta_0\"] = samples.get_variable(model.beta_0())\n",
    "    for _i, level in enumerate([\"district\", \"state\", \"type\"]):\n",
    "        samples_formatted[f\"sd_{level}\"] = samples.get_variable(model.sds(_i))\n",
    "\n",
    "        u_i = samples.get_variable(model.u(_i))\n",
    "        for j in range(model._u_sizes[_i]):\n",
    "            if level == \"district\":\n",
    "                state = int(j / num_districts)\n",
    "                district = j % num_districts\n",
    "                samples_formatted[f\"beta_state_{state}_district_{district}\"] = u_i[\n",
    "                    :, j\n",
    "                ]\n",
    "            else:\n",
    "                samples_formatted[f\"beta_{level}_{j}\"] = u_i[:, j]\n",
    "    \n",
    "    (\n",
    "        posterior_samples[ppl][i],\n",
    "        timing_infos[ppl][i],\n",
    "    ) = samples_formatted, timing_info\n",
    "    \n",
    "    model = _model\n",
    "    \n",
    "    # compute posterior predictive\n",
    "    posterior_predictive[ppl][i] = model.evaluate_posterior_predictive(\n",
    "        samples=posterior_samples[ppl][i].copy(),\n",
    "        data_test=generated_data[\"data_test\"],\n",
    "        model=model_instance,\n",
    "    )\n",
    "    print(\n",
    "        f\"Trial {i + 1} \"\n",
    "        f'complete in {timing_infos[ppl][i][\"inference_time\"]} '\n",
    "        \"seconds.\\n Statistics of  posterior predictive\\n mean:\"\n",
    "        f\"{np.array(posterior_predictive[ppl][i]).mean()}\"\n",
    "        f\"\\n var: {np.array(posterior_predictive[ppl][i]).var()}\"\n",
    "    )"
   ]
  },
  {
   "cell_type": "code",
   "execution_count": 9,
   "metadata": {},
   "outputs": [
    {
     "name": "stdout",
     "output_type": "stream",
     "text": [
      "Generating data\n",
      "Starting benchmark...\n",
      "Outputs will be saved in : ./outputs/09-10-2020_23:09:33\n",
      "stan:\n",
      "Starting trial 1 of 10\n",
      "INFO:pystan:COMPILING THE C++ CODE FOR MODEL n_schools_8274850a5d1d0bb08670a4967437dbb1 NOW.\n",
      "\n",
      "Gradient evaluation took 0.000288 seconds\n",
      "1000 transitions using 10 leapfrog steps per transition would take 2.88 seconds.\n",
      "Adjust your expectations accordingly!\n",
      "\n",
      "\n",
      "WARNING: There aren't enough warmup iterations to fit the\n",
      "         three stages of adaptation as currently configured.\n",
      "         Reducing each adaptation stage to 15%/75%/10% of\n",
      "         the given number of warmup iterations:\n",
      "           init_buffer = 7\n",
      "           adapt_window = 38\n",
      "           term_buffer = 5\n",
      "\n",
      "Iteration:  1 / 100 [  1%]  (Warmup)\n",
      "Informational Message: The current Metropolis proposal is about to be rejected because of the following issue:\n",
      "Exception: normal_lpdf: Location parameter[1] is inf, but must be finite!  (in 'unknown file name' at line 60)\n",
      "\n",
      "If this warning occurs sporadically, such as for highly constrained variable types like covariance matrices, then the sampler is fine,\n",
      "but if this warning occurs often then your model may be either severely ill-conditioned or misspecified.\n",
      "\n",
      "Informational Message: The current Metropolis proposal is about to be rejected because of the following issue:\n",
      "Exception: normal_lpdf: Location parameter[1] is inf, but must be finite!  (in 'unknown file name' at line 60)\n",
      "\n",
      "If this warning occurs sporadically, such as for highly constrained variable types like covariance matrices, then the sampler is fine,\n",
      "but if this warning occurs often then your model may be either severely ill-conditioned or misspecified.\n",
      "\n",
      "Informational Message: The current Metropolis proposal is about to be rejected because of the following issue:\n",
      "Exception: normal_lpdf: Location parameter[1] is inf, but must be finite!  (in 'unknown file name' at line 60)\n",
      "\n",
      "If this warning occurs sporadically, such as for highly constrained variable types like covariance matrices, then the sampler is fine,\n",
      "but if this warning occurs often then your model may be either severely ill-conditioned or misspecified.\n",
      "\n",
      "Iteration: 10 / 100 [ 10%]  (Warmup)\n",
      "Iteration: 20 / 100 [ 20%]  (Warmup)\n",
      "Iteration: 30 / 100 [ 30%]  (Warmup)\n",
      "Iteration: 40 / 100 [ 40%]  (Warmup)\n",
      "Iteration: 50 / 100 [ 50%]  (Warmup)\n",
      "Iteration: 51 / 100 [ 51%]  (Sampling)\n",
      "Iteration: 60 / 100 [ 60%]  (Sampling)\n",
      "Iteration: 70 / 100 [ 70%]  (Sampling)\n",
      "Iteration: 80 / 100 [ 80%]  (Sampling)\n",
      "Iteration: 90 / 100 [ 90%]  (Sampling)\n",
      "Iteration: 100 / 100 [100%]  (Sampling)\n",
      "\n",
      " Elapsed Time: 0.150464 seconds (Warm-up)\n",
      "               0.187906 seconds (Sampling)\n",
      "               0.33837 seconds (Total)\n",
      "\n",
      "Trial 1 complete in 0.38233494758605957 seconds.\n",
      " Statistics of  posterior predictive\n",
      " mean:5.114488333989545\n",
      " var: 0.00017136098301182993\n",
      "Starting trial 2 of 10\n",
      "INFO:pystan:COMPILING THE C++ CODE FOR MODEL n_schools_8274850a5d1d0bb08670a4967437dbb1 NOW.\n",
      "\n",
      "Gradient evaluation took 0.000713 seconds\n",
      "1000 transitions using 10 leapfrog steps per transition would take 7.13 seconds.\n",
      "Adjust your expectations accordingly!\n",
      "\n",
      "\n",
      "WARNING: There aren't enough warmup iterations to fit the\n",
      "         three stages of adaptation as currently configured.\n",
      "         Reducing each adaptation stage to 15%/75%/10% of\n",
      "         the given number of warmup iterations:\n",
      "           init_buffer = 7\n",
      "           adapt_window = 38\n",
      "           term_buffer = 5\n",
      "\n",
      "Iteration:  1 / 100 [  1%]  (Warmup)\n",
      "Informational Message: The current Metropolis proposal is about to be rejected because of the following issue:\n",
      "Exception: normal_lpdf: Location parameter[1] is -inf, but must be finite!  (in 'unknown file name' at line 60)\n",
      "\n",
      "If this warning occurs sporadically, such as for highly constrained variable types like covariance matrices, then the sampler is fine,\n",
      "but if this warning occurs often then your model may be either severely ill-conditioned or misspecified.\n",
      "\n",
      "Informational Message: The current Metropolis proposal is about to be rejected because of the following issue:\n",
      "Exception: normal_lpdf: Location parameter[1] is -inf, but must be finite!  (in 'unknown file name' at line 60)\n",
      "\n",
      "If this warning occurs sporadically, such as for highly constrained variable types like covariance matrices, then the sampler is fine,\n",
      "but if this warning occurs often then your model may be either severely ill-conditioned or misspecified.\n",
      "\n",
      "Iteration: 10 / 100 [ 10%]  (Warmup)\n",
      "Iteration: 20 / 100 [ 20%]  (Warmup)\n",
      "Iteration: 30 / 100 [ 30%]  (Warmup)\n",
      "Iteration: 40 / 100 [ 40%]  (Warmup)\n",
      "Iteration: 50 / 100 [ 50%]  (Warmup)\n",
      "Iteration: 51 / 100 [ 51%]  (Sampling)\n",
      "Iteration: 60 / 100 [ 60%]  (Sampling)\n",
      "Iteration: 70 / 100 [ 70%]  (Sampling)\n",
      "Iteration: 80 / 100 [ 80%]  (Sampling)\n",
      "Iteration: 90 / 100 [ 90%]  (Sampling)\n",
      "Iteration: 100 / 100 [100%]  (Sampling)\n",
      "\n",
      " Elapsed Time: 0.120452 seconds (Warm-up)\n",
      "               0.123841 seconds (Sampling)\n",
      "               0.244293 seconds (Total)\n",
      "\n",
      "Trial 2 complete in 0.2839071750640869 seconds.\n",
      " Statistics of  posterior predictive\n",
      " mean:4.70815915604603\n",
      " var: 0.03849619488794924\n",
      "Starting trial 3 of 10\n",
      "INFO:pystan:COMPILING THE C++ CODE FOR MODEL n_schools_8274850a5d1d0bb08670a4967437dbb1 NOW.\n",
      "\n",
      "Gradient evaluation took 0.000382 seconds\n",
      "1000 transitions using 10 leapfrog steps per transition would take 3.82 seconds.\n",
      "Adjust your expectations accordingly!\n",
      "\n",
      "\n",
      "WARNING: There aren't enough warmup iterations to fit the\n",
      "         three stages of adaptation as currently configured.\n",
      "         Reducing each adaptation stage to 15%/75%/10% of\n",
      "         the given number of warmup iterations:\n",
      "           init_buffer = 7\n",
      "           adapt_window = 38\n",
      "           term_buffer = 5\n",
      "\n",
      "Informational Message: The current Metropolis proposal is about to be rejected because of the following issue:\n",
      "Exception: normal_lpdf: Location parameter[1] is -inf, but must be finite!  (in 'unknown file name' at line 60)\n",
      "\n",
      "If this warning occurs sporadically, such as for highly constrained variable types like covariance matrices, then the sampler is fine,\n",
      "but if this warning occurs often then your model may be either severely ill-conditioned or misspecified.\n",
      "\n",
      "Informational Message: The current Metropolis proposal is about to be rejected because of the following issue:\n",
      "Exception: normal_lpdf: Location parameter[1] is -inf, but must be finite!  (in 'unknown file name' at line 60)\n",
      "\n",
      "If this warning occurs sporadically, such as for highly constrained variable types like covariance matrices, then the sampler is fine,\n",
      "but if this warning occurs often then your model may be either severely ill-conditioned or misspecified.\n",
      "\n",
      "Informational Message: The current Metropolis proposal is about to be rejected because of the following issue:\n",
      "Exception: normal_lpdf: Location parameter[1] is -inf, but must be finite!  (in 'unknown file name' at line 60)\n",
      "\n",
      "If this warning occurs sporadically, such as for highly constrained variable types like covariance matrices, then the sampler is fine,\n",
      "but if this warning occurs often then your model may be either severely ill-conditioned or misspecified.\n",
      "\n",
      "Iteration:  1 / 100 [  1%]  (Warmup)\n",
      "Informational Message: The current Metropolis proposal is about to be rejected because of the following issue:\n",
      "Exception: normal_lpdf: Location parameter[1] is -inf, but must be finite!  (in 'unknown file name' at line 60)\n",
      "\n",
      "If this warning occurs sporadically, such as for highly constrained variable types like covariance matrices, then the sampler is fine,\n",
      "but if this warning occurs often then your model may be either severely ill-conditioned or misspecified.\n",
      "\n",
      "Informational Message: The current Metropolis proposal is about to be rejected because of the following issue:\n",
      "Exception: normal_lpdf: Location parameter[1] is -inf, but must be finite!  (in 'unknown file name' at line 60)\n",
      "\n",
      "If this warning occurs sporadically, such as for highly constrained variable types like covariance matrices, then the sampler is fine,\n",
      "but if this warning occurs often then your model may be either severely ill-conditioned or misspecified.\n",
      "\n",
      "Iteration: 10 / 100 [ 10%]  (Warmup)\n",
      "Iteration: 20 / 100 [ 20%]  (Warmup)\n",
      "Iteration: 30 / 100 [ 30%]  (Warmup)\n",
      "Iteration: 40 / 100 [ 40%]  (Warmup)\n",
      "Iteration: 50 / 100 [ 50%]  (Warmup)\n",
      "Iteration: 51 / 100 [ 51%]  (Sampling)\n",
      "Iteration: 60 / 100 [ 60%]  (Sampling)\n",
      "Iteration: 70 / 100 [ 70%]  (Sampling)\n",
      "Iteration: 80 / 100 [ 80%]  (Sampling)\n",
      "Iteration: 90 / 100 [ 90%]  (Sampling)\n",
      "Iteration: 100 / 100 [100%]  (Sampling)\n",
      "\n",
      " Elapsed Time: 0.145691 seconds (Warm-up)\n",
      "               0.143346 seconds (Sampling)\n",
      "               0.289037 seconds (Total)\n",
      "\n",
      "Trial 3 complete in 0.33603477478027344 seconds.\n",
      " Statistics of  posterior predictive\n",
      " mean:3.932700335233512\n",
      " var: 0.09840537162515123\n",
      "Starting trial 4 of 10\n",
      "INFO:pystan:COMPILING THE C++ CODE FOR MODEL n_schools_8274850a5d1d0bb08670a4967437dbb1 NOW.\n",
      "\n",
      "Gradient evaluation took 0.000368 seconds\n",
      "1000 transitions using 10 leapfrog steps per transition would take 3.68 seconds.\n",
      "Adjust your expectations accordingly!\n",
      "\n",
      "\n",
      "WARNING: There aren't enough warmup iterations to fit the\n",
      "         three stages of adaptation as currently configured.\n",
      "         Reducing each adaptation stage to 15%/75%/10% of\n",
      "         the given number of warmup iterations:\n",
      "           init_buffer = 7\n",
      "           adapt_window = 38\n",
      "           term_buffer = 5\n",
      "\n",
      "Informational Message: The current Metropolis proposal is about to be rejected because of the following issue:\n",
      "Exception: normal_lpdf: Location parameter[1] is -inf, but must be finite!  (in 'unknown file name' at line 60)\n",
      "\n",
      "If this warning occurs sporadically, such as for highly constrained variable types like covariance matrices, then the sampler is fine,\n",
      "but if this warning occurs often then your model may be either severely ill-conditioned or misspecified.\n",
      "\n",
      "Informational Message: The current Metropolis proposal is about to be rejected because of the following issue:\n",
      "Exception: normal_lpdf: Location parameter[1] is -inf, but must be finite!  (in 'unknown file name' at line 60)\n",
      "\n",
      "If this warning occurs sporadically, such as for highly constrained variable types like covariance matrices, then the sampler is fine,\n",
      "but if this warning occurs often then your model may be either severely ill-conditioned or misspecified.\n",
      "\n",
      "Informational Message: The current Metropolis proposal is about to be rejected because of the following issue:\n",
      "Exception: normal_lpdf: Location parameter[1] is -inf, but must be finite!  (in 'unknown file name' at line 60)\n",
      "\n",
      "If this warning occurs sporadically, such as for highly constrained variable types like covariance matrices, then the sampler is fine,\n",
      "but if this warning occurs often then your model may be either severely ill-conditioned or misspecified.\n",
      "\n",
      "Informational Message: The current Metropolis proposal is about to be rejected because of the following issue:\n",
      "Exception: normal_lpdf: Location parameter[1] is -inf, but must be finite!  (in 'unknown file name' at line 60)\n",
      "\n",
      "If this warning occurs sporadically, such as for highly constrained variable types like covariance matrices, then the sampler is fine,\n",
      "but if this warning occurs often then your model may be either severely ill-conditioned or misspecified.\n",
      "\n",
      "Iteration:  1 / 100 [  1%]  (Warmup)\n",
      "Informational Message: The current Metropolis proposal is about to be rejected because of the following issue:\n",
      "Exception: normal_lpdf: Location parameter[1] is -inf, but must be finite!  (in 'unknown file name' at line 60)\n",
      "\n",
      "If this warning occurs sporadically, such as for highly constrained variable types like covariance matrices, then the sampler is fine,\n",
      "but if this warning occurs often then your model may be either severely ill-conditioned or misspecified.\n",
      "\n",
      "Informational Message: The current Metropolis proposal is about to be rejected because of the following issue:\n",
      "Exception: normal_lpdf: Location parameter[1] is -inf, but must be finite!  (in 'unknown file name' at line 60)\n",
      "\n",
      "If this warning occurs sporadically, such as for highly constrained variable types like covariance matrices, then the sampler is fine,\n",
      "but if this warning occurs often then your model may be either severely ill-conditioned or misspecified.\n",
      "\n",
      "Informational Message: The current Metropolis proposal is about to be rejected because of the following issue:\n",
      "Exception: normal_lpdf: Location parameter[1] is -inf, but must be finite!  (in 'unknown file name' at line 60)\n",
      "\n",
      "If this warning occurs sporadically, such as for highly constrained variable types like covariance matrices, then the sampler is fine,\n",
      "but if this warning occurs often then your model may be either severely ill-conditioned or misspecified.\n",
      "\n",
      "Iteration: 10 / 100 [ 10%]  (Warmup)\n",
      "Iteration: 20 / 100 [ 20%]  (Warmup)\n",
      "Iteration: 30 / 100 [ 30%]  (Warmup)\n",
      "Iteration: 40 / 100 [ 40%]  (Warmup)\n",
      "Iteration: 50 / 100 [ 50%]  (Warmup)\n",
      "Iteration: 51 / 100 [ 51%]  (Sampling)\n",
      "Iteration: 60 / 100 [ 60%]  (Sampling)\n",
      "Iteration: 70 / 100 [ 70%]  (Sampling)\n",
      "Iteration: 80 / 100 [ 80%]  (Sampling)\n",
      "Iteration: 90 / 100 [ 90%]  (Sampling)\n",
      "Iteration: 100 / 100 [100%]  (Sampling)\n",
      "\n",
      " Elapsed Time: 0.125116 seconds (Warm-up)\n",
      "               0.11851 seconds (Sampling)\n",
      "               0.243626 seconds (Total)\n",
      "\n",
      "Trial 4 complete in 0.28717541694641113 seconds.\n",
      " Statistics of  posterior predictive\n",
      " mean:5.328755793830404\n",
      " var: 0.02122887642427427\n",
      "Starting trial 5 of 10\n",
      "INFO:pystan:COMPILING THE C++ CODE FOR MODEL n_schools_8274850a5d1d0bb08670a4967437dbb1 NOW.\n",
      "\n",
      "Gradient evaluation took 0.000409 seconds\n",
      "1000 transitions using 10 leapfrog steps per transition would take 4.09 seconds.\n",
      "Adjust your expectations accordingly!\n",
      "\n",
      "\n",
      "WARNING: There aren't enough warmup iterations to fit the\n",
      "         three stages of adaptation as currently configured.\n",
      "         Reducing each adaptation stage to 15%/75%/10% of\n",
      "         the given number of warmup iterations:\n",
      "           init_buffer = 7\n",
      "           adapt_window = 38\n",
      "           term_buffer = 5\n",
      "\n",
      "Informational Message: The current Metropolis proposal is about to be rejected because of the following issue:\n",
      "Exception: normal_lpdf: Location parameter[1] is -nan, but must be finite!  (in 'unknown file name' at line 60)\n",
      "\n",
      "If this warning occurs sporadically, such as for highly constrained variable types like covariance matrices, then the sampler is fine,\n",
      "but if this warning occurs often then your model may be either severely ill-conditioned or misspecified.\n",
      "\n",
      "Informational Message: The current Metropolis proposal is about to be rejected because of the following issue:\n",
      "Exception: normal_lpdf: Location parameter[1] is -nan, but must be finite!  (in 'unknown file name' at line 60)\n",
      "\n",
      "If this warning occurs sporadically, such as for highly constrained variable types like covariance matrices, then the sampler is fine,\n",
      "but if this warning occurs often then your model may be either severely ill-conditioned or misspecified.\n",
      "\n",
      "Informational Message: The current Metropolis proposal is about to be rejected because of the following issue:\n",
      "Exception: normal_lpdf: Location parameter[1] is -nan, but must be finite!  (in 'unknown file name' at line 60)\n",
      "\n",
      "If this warning occurs sporadically, such as for highly constrained variable types like covariance matrices, then the sampler is fine,\n",
      "but if this warning occurs often then your model may be either severely ill-conditioned or misspecified.\n",
      "\n",
      "Iteration:  1 / 100 [  1%]  (Warmup)\n",
      "Informational Message: The current Metropolis proposal is about to be rejected because of the following issue:\n",
      "Exception: normal_lpdf: Location parameter[1] is -nan, but must be finite!  (in 'unknown file name' at line 60)\n",
      "\n",
      "If this warning occurs sporadically, such as for highly constrained variable types like covariance matrices, then the sampler is fine,\n",
      "but if this warning occurs often then your model may be either severely ill-conditioned or misspecified.\n",
      "\n",
      "Informational Message: The current Metropolis proposal is about to be rejected because of the following issue:\n",
      "Exception: normal_lpdf: Location parameter[1] is -nan, but must be finite!  (in 'unknown file name' at line 60)\n",
      "\n",
      "If this warning occurs sporadically, such as for highly constrained variable types like covariance matrices, then the sampler is fine,\n",
      "but if this warning occurs often then your model may be either severely ill-conditioned or misspecified.\n",
      "\n",
      "Iteration: 10 / 100 [ 10%]  (Warmup)\n",
      "Iteration: 20 / 100 [ 20%]  (Warmup)\n",
      "Iteration: 30 / 100 [ 30%]  (Warmup)\n",
      "Iteration: 40 / 100 [ 40%]  (Warmup)\n",
      "Iteration: 50 / 100 [ 50%]  (Warmup)\n",
      "Iteration: 51 / 100 [ 51%]  (Sampling)\n",
      "Iteration: 60 / 100 [ 60%]  (Sampling)\n",
      "Iteration: 70 / 100 [ 70%]  (Sampling)\n",
      "Iteration: 80 / 100 [ 80%]  (Sampling)\n",
      "Iteration: 90 / 100 [ 90%]  (Sampling)\n",
      "Iteration: 100 / 100 [100%]  (Sampling)\n",
      "\n",
      " Elapsed Time: 0.21567 seconds (Warm-up)\n",
      "               0.114088 seconds (Sampling)\n",
      "               0.329758 seconds (Total)\n",
      "\n",
      "Trial 5 complete in 0.3746955394744873 seconds.\n",
      " Statistics of  posterior predictive\n",
      " mean:5.739034984700852\n",
      " var: 0.02228253461082977\n",
      "Starting trial 6 of 10\n",
      "INFO:pystan:COMPILING THE C++ CODE FOR MODEL n_schools_8274850a5d1d0bb08670a4967437dbb1 NOW.\n",
      "\n",
      "Gradient evaluation took 0.000557 seconds\n",
      "1000 transitions using 10 leapfrog steps per transition would take 5.57 seconds.\n",
      "Adjust your expectations accordingly!\n",
      "\n",
      "\n",
      "WARNING: There aren't enough warmup iterations to fit the\n",
      "         three stages of adaptation as currently configured.\n",
      "         Reducing each adaptation stage to 15%/75%/10% of\n",
      "         the given number of warmup iterations:\n",
      "           init_buffer = 7\n",
      "           adapt_window = 38\n",
      "           term_buffer = 5\n",
      "\n",
      "Iteration:  1 / 100 [  1%]  (Warmup)\n",
      "Informational Message: The current Metropolis proposal is about to be rejected because of the following issue:\n",
      "Exception: normal_lpdf: Location parameter[1] is inf, but must be finite!  (in 'unknown file name' at line 60)\n",
      "\n",
      "If this warning occurs sporadically, such as for highly constrained variable types like covariance matrices, then the sampler is fine,\n",
      "but if this warning occurs often then your model may be either severely ill-conditioned or misspecified.\n",
      "\n",
      "Informational Message: The current Metropolis proposal is about to be rejected because of the following issue:\n",
      "Exception: normal_lpdf: Location parameter[1] is inf, but must be finite!  (in 'unknown file name' at line 60)\n",
      "\n",
      "If this warning occurs sporadically, such as for highly constrained variable types like covariance matrices, then the sampler is fine,\n",
      "but if this warning occurs often then your model may be either severely ill-conditioned or misspecified.\n",
      "\n",
      "Informational Message: The current Metropolis proposal is about to be rejected because of the following issue:\n",
      "Exception: normal_lpdf: Location parameter[1] is inf, but must be finite!  (in 'unknown file name' at line 60)\n",
      "\n",
      "If this warning occurs sporadically, such as for highly constrained variable types like covariance matrices, then the sampler is fine,\n",
      "but if this warning occurs often then your model may be either severely ill-conditioned or misspecified.\n",
      "\n",
      "Iteration: 10 / 100 [ 10%]  (Warmup)\n",
      "Iteration: 20 / 100 [ 20%]  (Warmup)\n",
      "Iteration: 30 / 100 [ 30%]  (Warmup)\n",
      "Iteration: 40 / 100 [ 40%]  (Warmup)\n",
      "Iteration: 50 / 100 [ 50%]  (Warmup)\n",
      "Iteration: 51 / 100 [ 51%]  (Sampling)\n",
      "Iteration: 60 / 100 [ 60%]  (Sampling)\n",
      "Iteration: 70 / 100 [ 70%]  (Sampling)\n",
      "Iteration: 80 / 100 [ 80%]  (Sampling)\n",
      "Iteration: 90 / 100 [ 90%]  (Sampling)\n",
      "Iteration: 100 / 100 [100%]  (Sampling)\n",
      "\n",
      " Elapsed Time: 0.154502 seconds (Warm-up)\n",
      "               0.187329 seconds (Sampling)\n",
      "               0.341831 seconds (Total)\n",
      "\n",
      "Trial 6 complete in 0.3944220542907715 seconds.\n",
      " Statistics of  posterior predictive\n",
      " mean:2.961745142437418\n",
      " var: 0.013100821674866208\n",
      "Starting trial 7 of 10\n",
      "INFO:pystan:COMPILING THE C++ CODE FOR MODEL n_schools_8274850a5d1d0bb08670a4967437dbb1 NOW.\n",
      "\n",
      "Gradient evaluation took 0.000396 seconds\n",
      "1000 transitions using 10 leapfrog steps per transition would take 3.96 seconds.\n",
      "Adjust your expectations accordingly!\n",
      "\n",
      "\n",
      "WARNING: There aren't enough warmup iterations to fit the\n",
      "         three stages of adaptation as currently configured.\n",
      "         Reducing each adaptation stage to 15%/75%/10% of\n",
      "         the given number of warmup iterations:\n",
      "           init_buffer = 7\n",
      "           adapt_window = 38\n",
      "           term_buffer = 5\n",
      "\n",
      "Informational Message: The current Metropolis proposal is about to be rejected because of the following issue:\n",
      "Exception: normal_lpdf: Location parameter[1] is inf, but must be finite!  (in 'unknown file name' at line 60)\n",
      "\n",
      "If this warning occurs sporadically, such as for highly constrained variable types like covariance matrices, then the sampler is fine,\n",
      "but if this warning occurs often then your model may be either severely ill-conditioned or misspecified.\n",
      "\n",
      "Informational Message: The current Metropolis proposal is about to be rejected because of the following issue:\n",
      "Exception: normal_lpdf: Location parameter[1] is inf, but must be finite!  (in 'unknown file name' at line 60)\n",
      "\n",
      "If this warning occurs sporadically, such as for highly constrained variable types like covariance matrices, then the sampler is fine,\n",
      "but if this warning occurs often then your model may be either severely ill-conditioned or misspecified.\n",
      "\n",
      "Informational Message: The current Metropolis proposal is about to be rejected because of the following issue:\n",
      "Exception: normal_lpdf: Location parameter[1] is inf, but must be finite!  (in 'unknown file name' at line 60)\n",
      "\n",
      "If this warning occurs sporadically, such as for highly constrained variable types like covariance matrices, then the sampler is fine,\n",
      "but if this warning occurs often then your model may be either severely ill-conditioned or misspecified.\n",
      "\n",
      "Informational Message: The current Metropolis proposal is about to be rejected because of the following issue:\n",
      "Exception: normal_lpdf: Location parameter[1] is inf, but must be finite!  (in 'unknown file name' at line 60)\n",
      "\n",
      "If this warning occurs sporadically, such as for highly constrained variable types like covariance matrices, then the sampler is fine,\n",
      "but if this warning occurs often then your model may be either severely ill-conditioned or misspecified.\n",
      "\n",
      "Informational Message: The current Metropolis proposal is about to be rejected because of the following issue:\n",
      "Exception: normal_lpdf: Location parameter[1] is inf, but must be finite!  (in 'unknown file name' at line 60)\n",
      "\n",
      "If this warning occurs sporadically, such as for highly constrained variable types like covariance matrices, then the sampler is fine,\n",
      "but if this warning occurs often then your model may be either severely ill-conditioned or misspecified.\n",
      "\n",
      "Informational Message: The current Metropolis proposal is about to be rejected because of the following issue:\n",
      "Exception: normal_lpdf: Location parameter[1] is inf, but must be finite!  (in 'unknown file name' at line 60)\n",
      "\n",
      "If this warning occurs sporadically, such as for highly constrained variable types like covariance matrices, then the sampler is fine,\n",
      "but if this warning occurs often then your model may be either severely ill-conditioned or misspecified.\n",
      "\n",
      "Iteration:  1 / 100 [  1%]  (Warmup)\n",
      "Informational Message: The current Metropolis proposal is about to be rejected because of the following issue:\n",
      "Exception: normal_lpdf: Location parameter[1] is inf, but must be finite!  (in 'unknown file name' at line 60)\n",
      "\n",
      "If this warning occurs sporadically, such as for highly constrained variable types like covariance matrices, then the sampler is fine,\n",
      "but if this warning occurs often then your model may be either severely ill-conditioned or misspecified.\n",
      "\n",
      "Informational Message: The current Metropolis proposal is about to be rejected because of the following issue:\n",
      "Exception: normal_lpdf: Location parameter[1] is inf, but must be finite!  (in 'unknown file name' at line 60)\n",
      "\n",
      "If this warning occurs sporadically, such as for highly constrained variable types like covariance matrices, then the sampler is fine,\n",
      "but if this warning occurs often then your model may be either severely ill-conditioned or misspecified.\n",
      "\n",
      "Informational Message: The current Metropolis proposal is about to be rejected because of the following issue:\n",
      "Exception: normal_lpdf: Location parameter[1] is inf, but must be finite!  (in 'unknown file name' at line 60)\n",
      "\n",
      "If this warning occurs sporadically, such as for highly constrained variable types like covariance matrices, then the sampler is fine,\n",
      "but if this warning occurs often then your model may be either severely ill-conditioned or misspecified.\n",
      "\n",
      "Iteration: 10 / 100 [ 10%]  (Warmup)\n",
      "Iteration: 20 / 100 [ 20%]  (Warmup)\n",
      "Iteration: 30 / 100 [ 30%]  (Warmup)\n",
      "Iteration: 40 / 100 [ 40%]  (Warmup)\n",
      "Iteration: 50 / 100 [ 50%]  (Warmup)\n",
      "Iteration: 51 / 100 [ 51%]  (Sampling)\n",
      "Iteration: 60 / 100 [ 60%]  (Sampling)\n",
      "Iteration: 70 / 100 [ 70%]  (Sampling)\n",
      "Iteration: 80 / 100 [ 80%]  (Sampling)\n",
      "Iteration: 90 / 100 [ 90%]  (Sampling)\n",
      "Iteration: 100 / 100 [100%]  (Sampling)\n",
      "\n",
      " Elapsed Time: 0.149932 seconds (Warm-up)\n",
      "               0.17612 seconds (Sampling)\n",
      "               0.326052 seconds (Total)\n",
      "\n",
      "Trial 7 complete in 0.37543463706970215 seconds.\n",
      " Statistics of  posterior predictive\n",
      " mean:5.160013989392777\n",
      " var: 0.005118303543741651\n",
      "Starting trial 8 of 10\n",
      "INFO:pystan:COMPILING THE C++ CODE FOR MODEL n_schools_8274850a5d1d0bb08670a4967437dbb1 NOW.\n",
      "\n",
      "Gradient evaluation took 0.000518 seconds\n",
      "1000 transitions using 10 leapfrog steps per transition would take 5.18 seconds.\n",
      "Adjust your expectations accordingly!\n",
      "\n",
      "\n",
      "WARNING: There aren't enough warmup iterations to fit the\n",
      "         three stages of adaptation as currently configured.\n",
      "         Reducing each adaptation stage to 15%/75%/10% of\n",
      "         the given number of warmup iterations:\n",
      "           init_buffer = 7\n",
      "           adapt_window = 38\n",
      "           term_buffer = 5\n",
      "\n",
      "Informational Message: The current Metropolis proposal is about to be rejected because of the following issue:\n",
      "Exception: normal_lpdf: Location parameter[1] is -inf, but must be finite!  (in 'unknown file name' at line 60)\n",
      "\n",
      "If this warning occurs sporadically, such as for highly constrained variable types like covariance matrices, then the sampler is fine,\n",
      "but if this warning occurs often then your model may be either severely ill-conditioned or misspecified.\n",
      "\n",
      "Informational Message: The current Metropolis proposal is about to be rejected because of the following issue:\n",
      "Exception: normal_lpdf: Location parameter[1] is -inf, but must be finite!  (in 'unknown file name' at line 60)\n",
      "\n",
      "If this warning occurs sporadically, such as for highly constrained variable types like covariance matrices, then the sampler is fine,\n",
      "but if this warning occurs often then your model may be either severely ill-conditioned or misspecified.\n",
      "\n",
      "Informational Message: The current Metropolis proposal is about to be rejected because of the following issue:\n",
      "Exception: normal_lpdf: Location parameter[1] is -inf, but must be finite!  (in 'unknown file name' at line 60)\n",
      "\n",
      "If this warning occurs sporadically, such as for highly constrained variable types like covariance matrices, then the sampler is fine,\n",
      "but if this warning occurs often then your model may be either severely ill-conditioned or misspecified.\n",
      "\n",
      "Informational Message: The current Metropolis proposal is about to be rejected because of the following issue:\n",
      "Exception: normal_lpdf: Location parameter[1] is -inf, but must be finite!  (in 'unknown file name' at line 60)\n",
      "\n",
      "If this warning occurs sporadically, such as for highly constrained variable types like covariance matrices, then the sampler is fine,\n",
      "but if this warning occurs often then your model may be either severely ill-conditioned or misspecified.\n",
      "\n",
      "Iteration:  1 / 100 [  1%]  (Warmup)\n",
      "Informational Message: The current Metropolis proposal is about to be rejected because of the following issue:\n",
      "Exception: normal_lpdf: Location parameter[1] is -nan, but must be finite!  (in 'unknown file name' at line 60)\n",
      "\n",
      "If this warning occurs sporadically, such as for highly constrained variable types like covariance matrices, then the sampler is fine,\n",
      "but if this warning occurs often then your model may be either severely ill-conditioned or misspecified.\n",
      "\n",
      "Informational Message: The current Metropolis proposal is about to be rejected because of the following issue:\n",
      "Exception: normal_lpdf: Location parameter[1] is -nan, but must be finite!  (in 'unknown file name' at line 60)\n",
      "\n",
      "If this warning occurs sporadically, such as for highly constrained variable types like covariance matrices, then the sampler is fine,\n",
      "but if this warning occurs often then your model may be either severely ill-conditioned or misspecified.\n",
      "\n",
      "Informational Message: The current Metropolis proposal is about to be rejected because of the following issue:\n",
      "Exception: normal_lpdf: Location parameter[1] is -nan, but must be finite!  (in 'unknown file name' at line 60)\n",
      "\n",
      "If this warning occurs sporadically, such as for highly constrained variable types like covariance matrices, then the sampler is fine,\n",
      "but if this warning occurs often then your model may be either severely ill-conditioned or misspecified.\n",
      "\n",
      "Iteration: 10 / 100 [ 10%]  (Warmup)\n",
      "Iteration: 20 / 100 [ 20%]  (Warmup)\n",
      "Iteration: 30 / 100 [ 30%]  (Warmup)\n",
      "Iteration: 40 / 100 [ 40%]  (Warmup)\n",
      "Iteration: 50 / 100 [ 50%]  (Warmup)\n",
      "Iteration: 51 / 100 [ 51%]  (Sampling)\n",
      "Iteration: 60 / 100 [ 60%]  (Sampling)\n",
      "Iteration: 70 / 100 [ 70%]  (Sampling)\n",
      "Iteration: 80 / 100 [ 80%]  (Sampling)\n",
      "Iteration: 90 / 100 [ 90%]  (Sampling)\n",
      "Iteration: 100 / 100 [100%]  (Sampling)\n",
      "\n",
      " Elapsed Time: 0.276916 seconds (Warm-up)\n",
      "               0.139371 seconds (Sampling)\n",
      "               0.416287 seconds (Total)\n",
      "\n",
      "Trial 8 complete in 0.4588799476623535 seconds.\n",
      " Statistics of  posterior predictive\n",
      " mean:3.3120213911019563\n",
      " var: 0.019052115828402157\n",
      "Starting trial 9 of 10\n",
      "INFO:pystan:COMPILING THE C++ CODE FOR MODEL n_schools_8274850a5d1d0bb08670a4967437dbb1 NOW.\n",
      "\n",
      "Gradient evaluation took 0.000366 seconds\n",
      "1000 transitions using 10 leapfrog steps per transition would take 3.66 seconds.\n",
      "Adjust your expectations accordingly!\n",
      "\n",
      "\n",
      "WARNING: There aren't enough warmup iterations to fit the\n",
      "         three stages of adaptation as currently configured.\n",
      "         Reducing each adaptation stage to 15%/75%/10% of\n",
      "         the given number of warmup iterations:\n",
      "           init_buffer = 7\n",
      "           adapt_window = 38\n",
      "           term_buffer = 5\n",
      "\n",
      "Informational Message: The current Metropolis proposal is about to be rejected because of the following issue:\n",
      "Exception: normal_lpdf: Location parameter[1] is -nan, but must be finite!  (in 'unknown file name' at line 60)\n",
      "\n",
      "If this warning occurs sporadically, such as for highly constrained variable types like covariance matrices, then the sampler is fine,\n",
      "but if this warning occurs often then your model may be either severely ill-conditioned or misspecified.\n",
      "\n",
      "Informational Message: The current Metropolis proposal is about to be rejected because of the following issue:\n",
      "Exception: normal_lpdf: Location parameter[1] is -nan, but must be finite!  (in 'unknown file name' at line 60)\n",
      "\n",
      "If this warning occurs sporadically, such as for highly constrained variable types like covariance matrices, then the sampler is fine,\n",
      "but if this warning occurs often then your model may be either severely ill-conditioned or misspecified.\n",
      "\n",
      "Informational Message: The current Metropolis proposal is about to be rejected because of the following issue:\n",
      "Exception: normal_lpdf: Location parameter[1] is -nan, but must be finite!  (in 'unknown file name' at line 60)\n",
      "\n",
      "If this warning occurs sporadically, such as for highly constrained variable types like covariance matrices, then the sampler is fine,\n",
      "but if this warning occurs often then your model may be either severely ill-conditioned or misspecified.\n",
      "\n",
      "Informational Message: The current Metropolis proposal is about to be rejected because of the following issue:\n",
      "Exception: normal_lpdf: Location parameter[1] is -nan, but must be finite!  (in 'unknown file name' at line 60)\n",
      "\n",
      "If this warning occurs sporadically, such as for highly constrained variable types like covariance matrices, then the sampler is fine,\n",
      "but if this warning occurs often then your model may be either severely ill-conditioned or misspecified.\n",
      "\n",
      "Informational Message: The current Metropolis proposal is about to be rejected because of the following issue:\n",
      "Exception: normal_lpdf: Location parameter[1] is -nan, but must be finite!  (in 'unknown file name' at line 60)\n",
      "\n",
      "If this warning occurs sporadically, such as for highly constrained variable types like covariance matrices, then the sampler is fine,\n",
      "but if this warning occurs often then your model may be either severely ill-conditioned or misspecified.\n",
      "\n",
      "Informational Message: The current Metropolis proposal is about to be rejected because of the following issue:\n",
      "Exception: normal_lpdf: Location parameter[1] is inf, but must be finite!  (in 'unknown file name' at line 60)\n",
      "\n",
      "If this warning occurs sporadically, such as for highly constrained variable types like covariance matrices, then the sampler is fine,\n",
      "but if this warning occurs often then your model may be either severely ill-conditioned or misspecified.\n",
      "\n",
      "Iteration:  1 / 100 [  1%]  (Warmup)\n",
      "Informational Message: The current Metropolis proposal is about to be rejected because of the following issue:\n",
      "Exception: normal_lpdf: Location parameter[1] is -nan, but must be finite!  (in 'unknown file name' at line 60)\n",
      "\n",
      "If this warning occurs sporadically, such as for highly constrained variable types like covariance matrices, then the sampler is fine,\n",
      "but if this warning occurs often then your model may be either severely ill-conditioned or misspecified.\n",
      "\n",
      "Informational Message: The current Metropolis proposal is about to be rejected because of the following issue:\n",
      "Exception: normal_lpdf: Location parameter[1] is -nan, but must be finite!  (in 'unknown file name' at line 60)\n",
      "\n",
      "If this warning occurs sporadically, such as for highly constrained variable types like covariance matrices, then the sampler is fine,\n",
      "but if this warning occurs often then your model may be either severely ill-conditioned or misspecified.\n",
      "\n",
      "Informational Message: The current Metropolis proposal is about to be rejected because of the following issue:\n",
      "Exception: normal_lpdf: Location parameter[1] is -nan, but must be finite!  (in 'unknown file name' at line 60)\n",
      "\n",
      "If this warning occurs sporadically, such as for highly constrained variable types like covariance matrices, then the sampler is fine,\n",
      "but if this warning occurs often then your model may be either severely ill-conditioned or misspecified.\n",
      "\n",
      "Iteration: 10 / 100 [ 10%]  (Warmup)\n",
      "Iteration: 20 / 100 [ 20%]  (Warmup)\n",
      "Iteration: 30 / 100 [ 30%]  (Warmup)\n",
      "Iteration: 40 / 100 [ 40%]  (Warmup)\n",
      "Iteration: 50 / 100 [ 50%]  (Warmup)\n",
      "Iteration: 51 / 100 [ 51%]  (Sampling)\n",
      "Iteration: 60 / 100 [ 60%]  (Sampling)\n",
      "Iteration: 70 / 100 [ 70%]  (Sampling)\n",
      "Iteration: 80 / 100 [ 80%]  (Sampling)\n",
      "Iteration: 90 / 100 [ 90%]  (Sampling)\n",
      "Iteration: 100 / 100 [100%]  (Sampling)\n",
      "\n",
      " Elapsed Time: 0.15292 seconds (Warm-up)\n",
      "               0.119762 seconds (Sampling)\n",
      "               0.272682 seconds (Total)\n",
      "\n",
      "Trial 9 complete in 0.3226191997528076 seconds.\n",
      " Statistics of  posterior predictive\n",
      " mean:4.188972995508901\n",
      " var: 0.0003315585290309382\n",
      "Starting trial 10 of 10\n",
      "INFO:pystan:COMPILING THE C++ CODE FOR MODEL n_schools_8274850a5d1d0bb08670a4967437dbb1 NOW.\n",
      "\n",
      "Gradient evaluation took 0.000618 seconds\n",
      "1000 transitions using 10 leapfrog steps per transition would take 6.18 seconds.\n",
      "Adjust your expectations accordingly!\n",
      "\n",
      "\n",
      "WARNING: There aren't enough warmup iterations to fit the\n",
      "         three stages of adaptation as currently configured.\n",
      "         Reducing each adaptation stage to 15%/75%/10% of\n",
      "         the given number of warmup iterations:\n",
      "           init_buffer = 7\n",
      "           adapt_window = 38\n",
      "           term_buffer = 5\n",
      "\n",
      "Iteration:  1 / 100 [  1%]  (Warmup)\n",
      "Iteration: 10 / 100 [ 10%]  (Warmup)\n",
      "Iteration: 20 / 100 [ 20%]  (Warmup)\n",
      "Iteration: 30 / 100 [ 30%]  (Warmup)\n",
      "Iteration: 40 / 100 [ 40%]  (Warmup)\n",
      "Iteration: 50 / 100 [ 50%]  (Warmup)\n",
      "Iteration: 51 / 100 [ 51%]  (Sampling)\n",
      "Iteration: 60 / 100 [ 60%]  (Sampling)\n",
      "Iteration: 70 / 100 [ 70%]  (Sampling)\n",
      "Iteration: 80 / 100 [ 80%]  (Sampling)\n",
      "Iteration: 90 / 100 [ 90%]  (Sampling)\n",
      "Iteration: 100 / 100 [100%]  (Sampling)\n",
      "\n",
      " Elapsed Time: 0.433224 seconds (Warm-up)\n",
      "               0.182148 seconds (Sampling)\n",
      "               0.615372 seconds (Total)\n",
      "\n",
      "/opt/conda/lib/python3.7/site-packages/pandas/core/series.py:679: RuntimeWarning: divide by zero encountered in log\n",
      "  result = getattr(ufunc, method)(*inputs, **kwargs)\n",
      "/opt/conda/lib/python3.7/site-packages/numpy/core/_methods.py:202: RuntimeWarning: invalid value encountered in subtract\n",
      "  x = asanyarray(arr - arrmean)\n",
      "Trial 10 complete in 0.6691586971282959 seconds.\n",
      " Statistics of  posterior predictive\n",
      " mean:-inf\n",
      " var: nan\n",
      "Output in : ./outputs/09-10-2020_23:09:33\n"
     ]
    }
   ],
   "source": [
    "!python -m pplbench.PPLBench -l stan -m n_schools --trials 10"
   ]
  },
  {
   "cell_type": "code",
   "execution_count": 15,
   "metadata": {},
   "outputs": [],
   "source": [
    "dataset_dict = {}"
   ]
  },
  {
   "cell_type": "code",
   "execution_count": 27,
   "metadata": {},
   "outputs": [],
   "source": [
    "from pplbench import PPLBench\n",
    "import pickle\n",
    "import arviz as az\n",
    "\n",
    "del posterior_predictive['NUTS']\n",
    "\n",
    "posterior_samples_subset = PPLBench.get_sample_subset(posterior_predictive, args_dict)\n",
    "trial_info = PPLBench.compute_trial_statistics(posterior_predictive)\n",
    "trial_info = PPLBench.combine_dictionaries(trial_info, timing_infos)\n",
    "summary_info = PPLBench.compute_summary_statistics(\n",
    "    posterior_predictive, timing_infos, args_dict\n",
    ")\n",
    "\n",
    "#most_recent = './outputs/01-09-2020_01:10:48'\n",
    "#most_recent = './outputs/01-10-2020_23:07:25'\n",
    "most_recent = './outputs/09-10-2020_23:09:33'\n",
    "stan_trials = pd.read_csv(f\"{most_recent}/trial_info.csv\")\n",
    "\n",
    "stan_posterior = pd.DataFrame(\n",
    "    pickle.load(open(f\"{most_recent}/posterior_predictives.pkl\", \"rb\"))[\"stan\"]\n",
    ")\n",
    "posterior_predictive['NUTS'] = list(stan_posterior.to_numpy())\n",
    "\n",
    "trials = pickle.load(open(f\"{most_recent}/posterior_samples.pkl\", \"rb\"))['stan']\n",
    "data = {}\n",
    "for i, chains in enumerate(trials):\n",
    "    for j, sample in enumerate(chains.to_dict('index').values()):\n",
    "        for var in sample:\n",
    "            if var not in data:\n",
    "                if np.array(sample[var]).size == 1:\n",
    "                    data[var] = np.zeros((len(trials), len(chains)))\n",
    "                else:\n",
    "                    data[var] = np.zeros((len(trials), len(chains), sample[var].shape[1]))\n",
    "            data[var][i][j] = sample[var]\n",
    "ppl = 'NUTS'\n",
    "del data['chain']\n",
    "del data['draw']\n",
    "dataset_dict['NUTS'] = az.convert_to_inference_data(data)"
   ]
  },
  {
   "cell_type": "code",
   "execution_count": 3,
   "metadata": {},
   "outputs": [
    {
     "ename": "NameError",
     "evalue": "name 'posterior_samples' is not defined",
     "output_type": "error",
     "traceback": [
      "\u001b[0;31m---------------------------------------------------------------------------\u001b[0m",
      "\u001b[0;31mNameError\u001b[0m                                 Traceback (most recent call last)",
      "\u001b[0;32m<ipython-input-3-05dc45c8b9cf>\u001b[0m in \u001b[0;36m<module>\u001b[0;34m\u001b[0m\n\u001b[1;32m     10\u001b[0m \u001b[0;34m\u001b[0m\u001b[0m\n\u001b[1;32m     11\u001b[0m \u001b[0;34m\u001b[0m\u001b[0m\n\u001b[0;32m---> 12\u001b[0;31m \u001b[0;32mfor\u001b[0m \u001b[0mppl\u001b[0m \u001b[0;32min\u001b[0m \u001b[0mlist\u001b[0m\u001b[0;34m(\u001b[0m\u001b[0mposterior_samples\u001b[0m\u001b[0;34m.\u001b[0m\u001b[0mkeys\u001b[0m\u001b[0;34m(\u001b[0m\u001b[0;34m)\u001b[0m\u001b[0;34m)\u001b[0m\u001b[0;34m:\u001b[0m\u001b[0;34m\u001b[0m\u001b[0;34m\u001b[0m\u001b[0m\n\u001b[0m\u001b[1;32m     13\u001b[0m     \u001b[0mtrials\u001b[0m \u001b[0;34m=\u001b[0m \u001b[0mposterior_samples\u001b[0m\u001b[0;34m[\u001b[0m\u001b[0mppl\u001b[0m\u001b[0;34m]\u001b[0m\u001b[0;34m\u001b[0m\u001b[0;34m\u001b[0m\u001b[0m\n\u001b[1;32m     14\u001b[0m \u001b[0;34m\u001b[0m\u001b[0m\n",
      "\u001b[0;31mNameError\u001b[0m: name 'posterior_samples' is not defined"
     ]
    }
   ],
   "source": [
    "import arviz as az\n",
    "import seaborn as sns\n",
    "sns.set_style(\"darkgrid\")\n",
    "sns.set(font_scale=0.7)\n",
    "\n",
    "from matplotlib import pyplot as plt\n",
    "plt.rcParams.update({\n",
    "    \"text.usetex\": False,\n",
    "})\n",
    "\n",
    "\n",
    "for ppl in list(posterior_samples.keys()):\n",
    "    trials = posterior_samples[ppl]\n",
    "    \n",
    "    data = {}\n",
    "    for i, chains in enumerate(trials):\n",
    "        for j, sample in enumerate(chains.to_dict('index').values()):\n",
    "            for var in sample:\n",
    "                if var not in data:\n",
    "                    if np.array(sample[var]).ndim == 0:\n",
    "                        data[var] = np.zeros((len(trials), len(chains)))\n",
    "                    else:\n",
    "                        data[var] = np.zeros((len(trials), len(chains), sample[var].shape[0]))\n",
    "                data[var][i][j] = sample[var]\n",
    "    dataset_dict[ppl] = az.convert_to_inference_data(data)\n",
    "    dataset_dict[ppl].log_likelihood = az.dict_to_dataset({\n",
    "        ppl:posterior_predictive[ppl]\n",
    "    })\n",
    "\n",
    "df = pd.DataFrame()\n",
    "for ppl in list(trial_info.keys()) + [\"NUTS\"]:\n",
    "    if ppl == \"NUTS\":\n",
    "        trials = stan_trials\n",
    "    else:\n",
    "        trials = pd.DataFrame(trial_info[ppl]).T\n",
    "    trials[\"ppl\"] = ppl\n",
    "    df = df.append(trials)\n",
    "    \n",
    "df = df.sort_values(by='ppl')\n",
    "df['PLL'] = [\n",
    "    torch.logsumexp(torch.tensor(x), 0).item()\n",
    "    for ppl in sorted(posterior_predictive)\n",
    "    for x in posterior_predictive[ppl]\n",
    "]\n",
    "df = df[df['PLL'] > 6] # filter numerical errors\n",
    "    \n",
    "# move adaptation to compile time\n",
    "args_dict[\"num_adaptive_samples\"] = int(1e3)\n",
    "percent_burn_in = (args_dict[\"num_adaptive_samples\"] / (args_dict[\"num_samples\"] + args_dict[\"num_adaptive_samples\"]))\n",
    "df[\"compile_time\"][df[\"ppl\"] == \"BM_IC\"] += df[df[\"ppl\"] == \"BM_IC\"][\"inference_time\"] * percent_burn_in\n",
    "df[\"inference_time\"][df[\"ppl\"] == \"BM_IC\"] -= df[df[\"ppl\"] == \"BM_IC\"][\"inference_time\"] * percent_burn_in\n",
    "df[\"efficiency\"] = df[\"n_eff\"] / (df[\"inference_time\"])\n",
    "\n",
    "\n",
    "melted = df.sort_values(by=\"ppl\").melt(\n",
    "    id_vars=[\"ppl\"],\n",
    "    value_vars=[\"compile_time\", \"inference_time\", \"PLL\"],\n",
    ")\n",
    "ppl_replace = {\n",
    "    'BM_IC': 'LIC',\n",
    "    'BM_NMC': 'NMC',\n",
    "    'BM_RW': 'RWMH',\n",
    "    'BM_uniform': 'Ancestral',\n",
    "}\n",
    "melted['ppl'] = melted['ppl'].replace(ppl_replace)\n",
    "melted['variable'] = melted['variable'].replace({\n",
    "    'compile_time': 'Compile time (sec)',\n",
    "    'inference_time': 'Inference time (sec)',\n",
    "})\n"
   ]
  },
  {
   "cell_type": "code",
   "execution_count": 5,
   "metadata": {},
   "outputs": [
    {
     "data": {
      "image/png": "[encoded data removed]",
      "text/plain": [
       "<Figure size 2550x600 with 3 Axes>"
      ]
     },
     "metadata": {},
     "output_type": "display_data"
    }
   ],
   "source": [
    "import pickle\n",
    "#pickle.dump(melted, open(\"outputs/nschools_pll.pkl\", \"wb\"))\n",
    "melted = pickle.load(open(\"outputs/nschools_pll.pkl\", \"rb\"))\n",
    "melted = melted[melted.ppl != 'Ancestral']\n",
    "g = sns.catplot(data=melted, col=\"variable\", x=\"ppl\", y=\"value\", hue=\"ppl\", sharey=False, kind=\"box\", col_wrap=3)    \n",
    "\n",
    "\n",
    "g.fig.set_size_inches(8.5, 2)\n",
    "g.fig.set_dpi(300)\n",
    "g.fig.tight_layout()\n",
    "g.fig.savefig('nschools_pll.pdf', dpi=300)"
   ]
  },
  {
   "cell_type": "code",
   "execution_count": 6,
   "metadata": {},
   "outputs": [
    {
     "ename": "NameError",
     "evalue": "name 'df' is not defined",
     "output_type": "error",
     "traceback": [
      "\u001b[0;31m---------------------------------------------------------------------------\u001b[0m",
      "\u001b[0;31mNameError\u001b[0m                                 Traceback (most recent call last)",
      "\u001b[0;32m<ipython-input-6-4a061006eeba>\u001b[0m in \u001b[0;36m<module>\u001b[0;34m\u001b[0m\n\u001b[1;32m      3\u001b[0m         \u001b[0;34m'ESS'\u001b[0m\u001b[0;34m:\u001b[0m \u001b[0mfilter\u001b[0m\u001b[0;34m(\u001b[0m\u001b[0;32mlambda\u001b[0m \u001b[0mx\u001b[0m\u001b[0;34m:\u001b[0m \u001b[0mx\u001b[0m \u001b[0;34m<\u001b[0m \u001b[0;36m100\u001b[0m\u001b[0;34m,\u001b[0m \u001b[0maz\u001b[0m\u001b[0;34m.\u001b[0m\u001b[0mess\u001b[0m\u001b[0;34m(\u001b[0m\u001b[0mdataset_dict\u001b[0m\u001b[0;34m[\u001b[0m\u001b[0mppl\u001b[0m\u001b[0;34m]\u001b[0m\u001b[0;34m)\u001b[0m\u001b[0;34m.\u001b[0m\u001b[0mto_array\u001b[0m\u001b[0;34m(\u001b[0m\u001b[0;34m)\u001b[0m\u001b[0;34m.\u001b[0m\u001b[0mvalues\u001b[0m\u001b[0;34m)\u001b[0m\u001b[0;34m,\u001b[0m\u001b[0;34m\u001b[0m\u001b[0;34m\u001b[0m\u001b[0m\n\u001b[1;32m      4\u001b[0m         \u001b[0;34m'ppl'\u001b[0m\u001b[0;34m:\u001b[0m \u001b[0mppl\u001b[0m\u001b[0;34m\u001b[0m\u001b[0;34m\u001b[0m\u001b[0m\n\u001b[0;32m----> 5\u001b[0;31m     }) for ppl in sorted(set(df.ppl))]).melt(id_vars=['ppl'], value_vars=['ESS']),\n\u001b[0m\u001b[1;32m      6\u001b[0m     pd.concat([pd.DataFrame({\n\u001b[1;32m      7\u001b[0m         \u001b[0;34m'Rhat'\u001b[0m\u001b[0;34m:\u001b[0m \u001b[0mfilter\u001b[0m\u001b[0;34m(\u001b[0m\u001b[0;32mlambda\u001b[0m \u001b[0mx\u001b[0m\u001b[0;34m:\u001b[0m \u001b[0mx\u001b[0m \u001b[0;34m<\u001b[0m \u001b[0;36m7.8\u001b[0m\u001b[0;34m,\u001b[0m \u001b[0maz\u001b[0m\u001b[0;34m.\u001b[0m\u001b[0mrhat\u001b[0m\u001b[0;34m(\u001b[0m\u001b[0mdataset_dict\u001b[0m\u001b[0;34m[\u001b[0m\u001b[0mppl\u001b[0m\u001b[0;34m]\u001b[0m\u001b[0;34m)\u001b[0m\u001b[0;34m.\u001b[0m\u001b[0mto_array\u001b[0m\u001b[0;34m(\u001b[0m\u001b[0;34m)\u001b[0m\u001b[0;34m.\u001b[0m\u001b[0mvalues\u001b[0m\u001b[0;34m)\u001b[0m\u001b[0;34m,\u001b[0m\u001b[0;34m\u001b[0m\u001b[0;34m\u001b[0m\u001b[0m\n",
      "\u001b[0;31mNameError\u001b[0m: name 'df' is not defined"
     ]
    }
   ],
   "source": [
    "melted = pd.concat([\n",
    "    pd.concat([pd.DataFrame({\n",
    "        'ESS': filter(lambda x: x < 100, az.ess(dataset_dict[ppl]).to_array().values),\n",
    "        'ppl': ppl\n",
    "    }) for ppl in sorted(set(df.ppl))]).melt(id_vars=['ppl'], value_vars=['ESS']),\n",
    "    pd.concat([pd.DataFrame({\n",
    "        'Rhat': filter(lambda x: x < 7.8, az.rhat(dataset_dict[ppl]).to_array().values),\n",
    "        'ppl': ppl\n",
    "    }) for ppl in sorted(set(df.ppl))]).melt(id_vars=['ppl'], value_vars=['Rhat'])\n",
    "])\n",
    "melted['ppl'] = melted['ppl'].replace(ppl_replace)\n"
   ]
  },
  {
   "cell_type": "code",
   "execution_count": 7,
   "metadata": {},
   "outputs": [
    {
     "data": {
      "image/png": "[encoded data removed]",
      "text/plain": [
       "<Figure size 1700x600 with 2 Axes>"
      ]
     },
     "metadata": {},
     "output_type": "display_data"
    }
   ],
   "source": [
    "import pickle\n",
    "#pickle.dump(melted, open(\"outputs/nschools_ess.pkl\", \"wb\"))\n",
    "melted = pickle.load(open(\"outputs/nschools_ess.pkl\", \"rb\"))\n",
    "melted = melted[melted.ppl != 'Ancestral']\n",
    "g = sns.catplot(data=melted, col=\"variable\", x=\"ppl\", y=\"value\", hue=\"ppl\", sharey=False, kind=\"box\")    \n",
    "\n",
    "g.fig.set_size_inches(8.5*2/3, 2)\n",
    "g.fig.set_dpi(300)\n",
    "g.fig.tight_layout()\n",
    "g.fig.savefig('nschools_ess_rhat.pdf', dpi=300)"
   ]
  },
  {
   "cell_type": "code",
   "execution_count": 19,
   "metadata": {},
   "outputs": [
    {
     "data": {
      "text/plain": [
       "{'NUTS': 1.3900781701943397,\n",
       " 'BM_NMC': 1.683873361770247,\n",
       " 'BM_uniform': 1.7684748510708936,\n",
       " 'BM_RW': 7.3529455276740014,\n",
       " 'BM_IC': 100.08006405124102}"
      ]
     },
     "execution_count": 19,
     "metadata": {},
     "output_type": "execute_result"
    }
   ],
   "source": [
    "{\n",
    "    ppl:float(az.ess(dataset_dict[ppl].posterior.sel(chain=slice(i, i)))[\"beta_0\"])\n",
    "    for ppl in dataset_dict\n",
    "    for i in range(args_dict[\"trials\"])\n",
    "}"
   ]
  },
  {
   "cell_type": "code",
   "execution_count": 21,
   "metadata": {},
   "outputs": [
    {
     "data": {
      "text/plain": [
       "<seaborn.axisgrid.FacetGrid at 0x7f2abdab9650>"
      ]
     },
     "execution_count": 21,
     "metadata": {},
     "output_type": "execute_result"
    },
    {
     "data": {
      "image/png": "[encoded data removed]",
      "text/plain": [
       "<Figure size 360x360 with 1 Axes>"
      ]
     },
     "metadata": {},
     "output_type": "display_data"
    }
   ],
   "source": [
    "df = pd.DataFrame([\n",
    "        {\n",
    "            \"ppl\": ppl,\n",
    "            \"posterior_predictive\": trial_val\n",
    "        } \n",
    "    for ppl in (list(posterior_predictive.keys()) + [\"NUTS\"])\n",
    "    for trial in (\n",
    "        {\n",
    "            **posterior_predictive,\n",
    "            **{\"NUTS\": list(stan_posterior.to_numpy())},\n",
    "        }[ppl])\n",
    "    for trial_val in trial\n",
    "])\n",
    "f = sns.catplot(data=df.melt(\n",
    "    id_vars=[\"ppl\"],\n",
    "    value_vars=[\"posterior_predictive\"],\n",
    ").sort_values(by=\"ppl\"), col=\"variable\", hue=\"ppl\", x=\"ppl\", y=\"value\", sharey=False, kind=\"box\")\n",
    "f.set(ylim=(-20,10))"
   ]
  },
  {
   "cell_type": "code",
   "execution_count": 22,
   "metadata": {},
   "outputs": [
    {
     "data": {
      "text/html": [
       "<div>\n",
       "<style scoped>\n",
       "    .dataframe tbody tr th:only-of-type {\n",
       "        vertical-align: middle;\n",
       "    }\n",
       "\n",
       "    .dataframe tbody tr th {\n",
       "        vertical-align: top;\n",
       "    }\n",
       "\n",
       "    .dataframe thead th {\n",
       "        text-align: right;\n",
       "    }\n",
       "</style>\n",
       "<table border=\"1\" class=\"dataframe\">\n",
       "  <thead>\n",
       "    <tr style=\"text-align: right;\">\n",
       "      <th></th>\n",
       "      <th>value</th>\n",
       "    </tr>\n",
       "    <tr>\n",
       "      <th>ppl</th>\n",
       "      <th></th>\n",
       "    </tr>\n",
       "  </thead>\n",
       "  <tbody>\n",
       "    <tr>\n",
       "      <th>BM_IC</th>\n",
       "      <td>0.904733</td>\n",
       "    </tr>\n",
       "    <tr>\n",
       "      <th>BM_NMC</th>\n",
       "      <td>2.027486</td>\n",
       "    </tr>\n",
       "    <tr>\n",
       "      <th>BM_RW</th>\n",
       "      <td>1.420654</td>\n",
       "    </tr>\n",
       "    <tr>\n",
       "      <th>BM_uniform</th>\n",
       "      <td>-23.751900</td>\n",
       "    </tr>\n",
       "    <tr>\n",
       "      <th>NUTS</th>\n",
       "      <td>-inf</td>\n",
       "    </tr>\n",
       "  </tbody>\n",
       "</table>\n",
       "</div>"
      ],
      "text/plain": [
       "                value\n",
       "ppl                  \n",
       "BM_IC        0.904733\n",
       "BM_NMC       2.027486\n",
       "BM_RW        1.420654\n",
       "BM_uniform -23.751900\n",
       "NUTS             -inf"
      ]
     },
     "execution_count": 22,
     "metadata": {},
     "output_type": "execute_result"
    }
   ],
   "source": [
    "df.melt(\n",
    "    id_vars=[\"ppl\"],\n",
    "    value_vars=[\"posterior_predictive\"],\n",
    ").groupby([\"ppl\"]).mean()"
   ]
  },
  {
   "cell_type": "code",
   "execution_count": 23,
   "metadata": {},
   "outputs": [
    {
     "ename": "TypeError",
     "evalue": "string indices must be integers",
     "output_type": "error",
     "traceback": [
      "\u001b[0;31m---------------------------------------------------------------------------\u001b[0m",
      "\u001b[0;31mTypeError\u001b[0m                                 Traceback (most recent call last)",
      "\u001b[0;32m<ipython-input-23-3c4cb61ec0e0>\u001b[0m in \u001b[0;36m<module>\u001b[0;34m\u001b[0m\n\u001b[1;32m     10\u001b[0m             \u001b[0;32mfor\u001b[0m \u001b[0mvar\u001b[0m \u001b[0;32min\u001b[0m \u001b[0msample\u001b[0m\u001b[0;34m:\u001b[0m\u001b[0;34m\u001b[0m\u001b[0;34m\u001b[0m\u001b[0m\n\u001b[1;32m     11\u001b[0m                 \u001b[0;32mif\u001b[0m \u001b[0mvar\u001b[0m \u001b[0;32mnot\u001b[0m \u001b[0;32min\u001b[0m \u001b[0mdata\u001b[0m\u001b[0;34m:\u001b[0m\u001b[0;34m\u001b[0m\u001b[0;34m\u001b[0m\u001b[0m\n\u001b[0;32m---> 12\u001b[0;31m                     \u001b[0;32mif\u001b[0m \u001b[0msample\u001b[0m\u001b[0;34m[\u001b[0m\u001b[0mvar\u001b[0m\u001b[0;34m]\u001b[0m\u001b[0;34m.\u001b[0m\u001b[0mndim\u001b[0m \u001b[0;34m==\u001b[0m \u001b[0;36m0\u001b[0m\u001b[0;34m:\u001b[0m\u001b[0;34m\u001b[0m\u001b[0;34m\u001b[0m\u001b[0m\n\u001b[0m\u001b[1;32m     13\u001b[0m                         \u001b[0mdata\u001b[0m\u001b[0;34m[\u001b[0m\u001b[0mvar\u001b[0m\u001b[0;34m]\u001b[0m \u001b[0;34m=\u001b[0m \u001b[0mnp\u001b[0m\u001b[0;34m.\u001b[0m\u001b[0mzeros\u001b[0m\u001b[0;34m(\u001b[0m\u001b[0;34m(\u001b[0m\u001b[0mlen\u001b[0m\u001b[0;34m(\u001b[0m\u001b[0mtrials\u001b[0m\u001b[0;34m)\u001b[0m\u001b[0;34m,\u001b[0m \u001b[0mlen\u001b[0m\u001b[0;34m(\u001b[0m\u001b[0mchains\u001b[0m\u001b[0;34m)\u001b[0m\u001b[0;34m)\u001b[0m\u001b[0;34m)\u001b[0m\u001b[0;34m\u001b[0m\u001b[0;34m\u001b[0m\u001b[0m\n\u001b[1;32m     14\u001b[0m                     \u001b[0;32melse\u001b[0m\u001b[0;34m:\u001b[0m\u001b[0;34m\u001b[0m\u001b[0;34m\u001b[0m\u001b[0m\n",
      "\u001b[0;31mTypeError\u001b[0m: string indices must be integers"
     ]
    }
   ],
   "source": [
    "import arviz as az\n",
    "dataset_dict = {}\n",
    "\n",
    "for ppl in list(posterior_samples.keys()):\n",
    "    trials = posterior_samples[ppl]\n",
    "    \n",
    "    data = {}\n",
    "    for i, chains in enumerate(trials):\n",
    "        for j, sample in enumerate(chains):\n",
    "            for var in sample:\n",
    "                if var not in data:\n",
    "                    if sample[var].ndim == 0:\n",
    "                        data[var] = np.zeros((len(trials), len(chains)))\n",
    "                    else:\n",
    "                        data[var] = np.zeros((len(trials), len(chains), sample[var].shape[0]))\n",
    "                data[var][i][j] = sample[var]\n",
    "    dataset_dict[ppl] = az.convert_to_inference_data(data)\n",
    "    dataset_dict[ppl].log_likelihood = az.dict_to_dataset({\n",
    "        ppl:posterior_predictive[ppl]\n",
    "    })"
   ]
  },
  {
   "cell_type": "code",
   "execution_count": null,
   "metadata": {},
   "outputs": [],
   "source": []
  }
 ],
 "metadata": {
  "kernelspec": {
   "display_name": "Python 3",
   "language": "python",
   "name": "python3"
  },
  "language_info": {
   "codemirror_mode": {
    "name": "ipython",
    "version": 3
   },
   "file_extension": ".py",
   "mimetype": "text/x-python",
   "name": "python",
   "nbconvert_exporter": "python",
   "pygments_lexer": "ipython3",
   "version": "3.7.8"
  }
 },
 "nbformat": 4,
 "nbformat_minor": 4
}
